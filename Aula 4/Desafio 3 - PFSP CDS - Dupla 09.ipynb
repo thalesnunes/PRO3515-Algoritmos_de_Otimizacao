{
 "metadata": {
  "language_info": {
   "codemirror_mode": {
    "name": "ipython",
    "version": 3
   },
   "file_extension": ".py",
   "mimetype": "text/x-python",
   "name": "python",
   "nbconvert_exporter": "python",
   "pygments_lexer": "ipython3",
   "version": "3.7.7-final"
  },
  "orig_nbformat": 2,
  "kernelspec": {
   "name": "python_defaultSpec_1599854533744",
   "display_name": "Python 3.7.7 64-bit ('base': conda)"
  }
 },
 "nbformat": 4,
 "nbformat_minor": 2,
 "cells": [
  {
   "cell_type": "markdown",
   "metadata": {},
   "source": [
    "# PRO3515 - PFSP CDS\n",
    "\n",
    "\n",
    "## Dupla 9\n",
    "\n",
    "### Nomes: \n",
    "### Lucas Hideki Takeuchi Okamura NUSP:  9274315\n",
    "### Thales Arantes Kerche Nunes   NUSP: 10769372\n"
   ]
  },
  {
   "cell_type": "markdown",
   "metadata": {},
   "source": [
    "### Objetivo\n",
    "        * Minimizar o tempo total (makespan) na programação de máquinas paralelas (PMP - Parallel Machine Problem),\n",
    "        utilizando a regra do maior tempo de processamento (LPT - longest processing time)"
   ]
  },
  {
   "cell_type": "markdown",
   "metadata": {},
   "source": [
    "Importando a biblioteca sugerida"
   ]
  },
  {
   "cell_type": "code",
   "execution_count": 20,
   "metadata": {},
   "outputs": [],
   "source": [
    "import xlwings as xw"
   ]
  },
  {
   "cell_type": "markdown",
   "metadata": {},
   "source": [
    "Definindo a classe Job que usaremos no algoritmo"
   ]
  },
  {
   "cell_type": "code",
   "execution_count": 21,
   "metadata": {},
   "outputs": [],
   "source": [
    "class Job:\n",
    "    def __init__(self,i,pi,di):\n",
    "        self.i=i     # número do job, pela ordem de chegada\n",
    "        self.p=pi     # processing time\n",
    "        self.d=di     # due date\n",
    "        self.C=0     # completion time\n",
    "        self.T=0     # tardiness"
   ]
  },
  {
   "cell_type": "markdown",
   "metadata": {},
   "source": [
    "### Reutilizamos a função disponibilizada pelo professor, com alguns ajustes para ler o número de máquinas"
   ]
  },
  {
   "cell_type": "code",
   "execution_count": 22,
   "metadata": {},
   "outputs": [],
   "source": [
    "def leInst(sheet_num):\n",
    "    pl1 = wb1.sheets[sheet_num]\n",
    "    m=int(pl1.range('B5').value)     # converter em inteiro\n",
    "    n=int(pl1.range('B6').value)     # converter em inteiro\n",
    "    tab1=pl1.range('B11').options(expand='table', numbers=int).value     # ler como tabela e inteiros\n",
    "    print()\n",
    "    print('n =',n)\n",
    "    print('m =',m)\n",
    "    print('dados =',tab1)\n",
    "    jobs=[]\n",
    "    for i in range(n):\n",
    "        pi=tab1[i]\n",
    "        jobs.append(Job(i,pi,0))\n",
    "    \n",
    "    return m,n,jobs"
   ]
  },
  {
   "cell_type": "markdown",
   "metadata": {},
   "source": [
    "Também reutilizamos a de gravar, novamente, com alguns ajustes"
   ]
  },
  {
   "cell_type": "code",
   "execution_count": 23,
   "metadata": {},
   "outputs": [],
   "source": [
    "def gravaSched(i,jobs,Cmax):\n",
    "    n=len(jobs)\n",
    "    tab=[]\n",
    "    for job in jobs:\n",
    "        a=[job.i+1]+job.p+job.C\n",
    "        tab.append(a)\n",
    "\n",
    "    if i==0:\n",
    "        plan=wb2.sheets[0]\n",
    "        plan.name='I(1)'\n",
    "    else:\n",
    "        plan=wb2.sheets.add('I('+str(i+1)+')',after=i)\n",
    "        \n",
    "    plan.range('A5').value=['m',5]\n",
    "    plan.range('A6').value=['n',n]\n",
    "    plan.range('E5').value=['Cmax',Cmax]\n",
    "    plan.range('A10').value=['#','p1','p2', 'p3', 'p4', 'p5','C1','C2','C3','C4','C5']\n",
    "    plan.range('A11').value=tab\n",
    "\n",
    "    print()\n",
    "    print('#','p','C')\n",
    "    for job in jobs:\n",
    "        print(job.i, job.p, job.C)\n",
    "    print('Cmax:',Cmax)"
   ]
  },
  {
   "cell_type": "markdown",
   "metadata": {},
   "source": []
  },
  {
   "source": [
    "Função que permite calcular o tempo que os jobs se completam"
   ],
   "cell_type": "markdown",
   "metadata": {}
  },
  {
   "cell_type": "code",
   "execution_count": 24,
   "metadata": {},
   "outputs": [],
   "source": [
    "def calcCmax(m,jobs):     # esta função calcula os tempos de conclusão dos jobs nas m máquinas\n",
    "    n=len(jobs)\n",
    "    c=[[0 for i in range(m)] for j in range(n)]\n",
    "    p=[job.p for job in jobs]\n",
    "    \n",
    "    # primeiro job\n",
    "    c[0][0]=p[0][0]     # primeira máquina\n",
    "    for k in range(1,m):     # próximas máquinas\n",
    "        c[0][k]=c[0][k-1]+p[0][k]\n",
    "        \n",
    "    # próximos jobs\n",
    "    for j in range(1,n):\n",
    "        c[j][0]=c[j-1][0]+p[j][0]     # primeira máquina\n",
    "        for k in range(1,m):     # próximas máquinas\n",
    "            c[j][k]=max(c[j][k-1],c[j-1][k])+p[j][k]\n",
    "            \n",
    "    j=0\n",
    "    for job in jobs:\n",
    "        job.C=c[j]\n",
    "        j+=1\n",
    "    \n",
    "    return c[-1][-1]"
   ]
  },
  {
   "cell_type": "markdown",
   "metadata": {},
   "source": []
  },
  {
   "cell_type": "markdown",
   "metadata": {},
   "source": [
    "### Procedimento\n",
    "    1. O método consiste basicamente em resolver “m-1” subproblemas com n jobs e duas máquinas, utilizando o algoritmo de Johnson e dados derivados problema original\n",
    "\n",
    "    2. O primeiro subproblema consiste em considerar os tempos na primeira máquina e na última máquina\n",
    "\n",
    "    3. O segundo subproblema consiste em considerar a soma dos tempos nas duas primeiras máquinas e a soma dos tempos nas duas últimas\n",
    "\n",
    "    4. Genericamente, o subproblema k, consiste em considerar a soma dos tempos nas k primeiras máquinas e a soma dos tempos nas k últimas máquinas (k=1,2,...,m-1)\n",
    "\n",
    "    5. A melhor sequência dentre as “m-1” geradas é tomada como solução do problema original"
   ]
  },
  {
   "cell_type": "code",
   "execution_count": 25,
   "metadata": {},
   "outputs": [],
   "source": [
    "def schedJohnson(jobs):\n",
    "    jobs1=[]\n",
    "    jobs2=[]\n",
    "    for job in jobs:\n",
    "        if job.p[0]<job.p[1]:\n",
    "            jobs1.append(job)\n",
    "        else:\n",
    "            jobs2.append(job)\n",
    "    \n",
    "    jobs1.sort(key = lambda job: job.p[0])\n",
    "    jobs2.sort(key = lambda job: job.p[1], reverse=True)\n",
    "    \n",
    "    jobs=jobs1+jobs2\n",
    "    \n",
    "    Cmax=calcCmax(2,jobs)     # 2: duas máquinas\n",
    "    \n",
    "    return jobs,Cmax"
   ]
  },
  {
   "source": [],
   "cell_type": "markdown",
   "metadata": {}
  },
  {
   "cell_type": "code",
   "execution_count": 41,
   "metadata": {},
   "outputs": [],
   "source": [
    "def job_chooser(m,jobs):\n",
    "\n",
    "    n = len(jobs)\n",
    "    bestSeq=[]\n",
    "\n",
    "    bestCmax=9999999999\n",
    "\n",
    "    for k in range(m-1):\n",
    "\n",
    "        a=[Job(job.i, [sum(job.p[:k+1]), sum(job.p[m-k-1:])], 0) for job in jobs]     # para cada job, somar os tempos nas k primeiras máquinas\n",
    "\n",
    "        # b=[Job(job.i, sum(job.p[m-k-1:]), 0) for job in jobs]    # para cada job, somar os tempos nas k últimas máquinas\n",
    "\n",
    "        seq,cmax = schedJohnson(a)     # aplicar o algoritmo de Johnson com tempos ‘a’ para máquina 1 e ‘b’ para máquina 2\n",
    "\n",
    "        if cmax<bestCmax:\n",
    "            bestSeq=seq\n",
    "            bestCmax=cmax\n",
    "    \n",
    "    Final = []\n",
    "    for item in bestSeq:\n",
    "        Final.append(jobs[item.i])\n",
    "\n",
    "    bestCmax = calcCmax(m,Final)\n",
    "\n",
    "    return Final, bestCmax"
   ]
  },
  {
   "cell_type": "markdown",
   "metadata": {},
   "source": [
    "## Principal"
   ]
  },
  {
   "cell_type": "markdown",
   "metadata": {},
   "source": [
    "Abre os dois arquivos que vão ser usados"
   ]
  },
  {
   "cell_type": "code",
   "execution_count": 27,
   "metadata": {
    "tags": []
   },
   "outputs": [],
   "source": [
    "wb1 = xw.Book(\"xl05 2 A PFSP Cmax CDS.xlsx\")\n",
    "wb2 = xw.Book()"
   ]
  },
  {
   "source": [],
   "cell_type": "markdown",
   "metadata": {}
  },
  {
   "source": [
    "Caso base pra comprovar o funcionamento do algoritmo implementado"
   ],
   "cell_type": "markdown",
   "metadata": {}
  },
  {
   "cell_type": "code",
   "execution_count": 45,
   "metadata": {
    "tags": []
   },
   "outputs": [
    {
     "output_type": "stream",
     "name": "stdout",
     "text": "[3, 5, 4, 1, 2]\n[[13, 20, 15], [15, 16, 16], [19, 15, 19], [16, 18, 12], [14, 10, 11]]\n107\n"
    }
   ],
   "source": [
    "tab1 = [[16, 18, 12],[14,10,11],[13,20,15],[19,15,19],[15,16,16]]\n",
    "jobs=[]\n",
    "for i in range(len(tab1)):\n",
    "    pi=tab1[i]\n",
    "    jobs.append(Job(i,pi,0))\n",
    "\n",
    "jobs, Cmax = job_chooser(3,jobs)\n",
    "\n",
    "print([job.i+1 for job in jobs])\n",
    "print([job.p for job in jobs])\n",
    "print(Cmax)"
   ]
  },
  {
   "cell_type": "markdown",
   "metadata": {},
   "source": [
    "Teste 1:"
   ]
  },
  {
   "cell_type": "code",
   "execution_count": 28,
   "metadata": {
    "tags": []
   },
   "outputs": [
    {
     "output_type": "stream",
     "name": "stdout",
     "text": "\nn = 20\nm = 5\ndados = [[58, 60, 88, 14, 46], [34, 33, 17, 67, 15], [54, 25, 93, 60, 2], [19, 84, 25, 47, 8], [24, 45, 25, 16, 11], [21, 69, 93, 22, 71], [64, 43, 48, 83, 39], [37, 43, 18, 46, 13], [26, 57, 34, 5, 18], [82, 14, 98, 27, 14], [84, 43, 96, 67, 81], [75, 87, 45, 11, 44], [73, 27, 32, 9, 79], [24, 94, 39, 23, 95], [49, 54, 8, 70, 97], [27, 61, 55, 87, 35], [98, 8, 90, 15, 55], [51, 93, 80, 86, 35], [83, 87, 25, 94, 80], [12, 80, 12, 49, 38]]\n\n# p C\n19 [12, 80, 12, 49, 38] [12, 92, 104, 153, 191]\n5 [21, 69, 93, 22, 71] [33, 161, 254, 276, 347]\n13 [24, 94, 39, 23, 95] [57, 255, 294, 317, 442]\n15 [27, 61, 55, 87, 35] [84, 316, 371, 458, 493]\n14 [49, 54, 8, 70, 97] [133, 370, 379, 528, 625]\n12 [73, 27, 32, 9, 79] [206, 397, 429, 537, 704]\n10 [84, 43, 96, 67, 81] [290, 440, 536, 604, 785]\n18 [83, 87, 25, 94, 80] [373, 527, 561, 698, 865]\n16 [98, 8, 90, 15, 55] [471, 535, 651, 713, 920]\n0 [58, 60, 88, 14, 46] [529, 595, 739, 753, 966]\n11 [75, 87, 45, 11, 44] [604, 691, 784, 795, 1010]\n6 [64, 43, 48, 83, 39] [668, 734, 832, 915, 1049]\n17 [51, 93, 80, 86, 35] [719, 827, 912, 1001, 1084]\n8 [26, 57, 34, 5, 18] [745, 884, 946, 1006, 1102]\n1 [34, 33, 17, 67, 15] [779, 917, 963, 1073, 1117]\n9 [82, 14, 98, 27, 14] [861, 931, 1061, 1100, 1131]\n7 [37, 43, 18, 46, 13] [898, 974, 1079, 1146, 1159]\n4 [24, 45, 25, 16, 11] [922, 1019, 1104, 1162, 1173]\n3 [19, 84, 25, 47, 8] [941, 1103, 1129, 1209, 1217]\n2 [54, 25, 93, 60, 2] [995, 1128, 1222, 1282, 1284]\nCmax: 1284\n"
    }
   ],
   "source": [
    "m,n,jobs=leInst(0)\n",
    "\n",
    "jobs, Cmax = job_chooser(m,jobs)\n",
    "\n",
    "gravaSched(0, jobs, Cmax)"
   ]
  },
  {
   "cell_type": "markdown",
   "metadata": {},
   "source": []
  },
  {
   "cell_type": "markdown",
   "metadata": {},
   "source": [
    "Teste 2:"
   ]
  },
  {
   "cell_type": "code",
   "execution_count": 29,
   "metadata": {
    "tags": []
   },
   "outputs": [
    {
     "output_type": "stream",
     "name": "stdout",
     "text": "\nn = 20\nm = 5\ndados = [[96, 12, 54, 58, 95], [68, 46, 39, 53, 90], [26, 87, 24, 1, 13], [23, 50, 2, 24, 34], [66, 63, 16, 90, 9], [83, 38, 41, 21, 34], [31, 13, 17, 55, 71], [63, 76, 77, 70, 95], [19, 80, 86, 46, 54], [44, 78, 3, 94, 66], [89, 58, 17, 27, 28], [49, 78, 63, 52, 28], [32, 41, 76, 86, 86], [77, 34, 5, 73, 91], [33, 29, 8, 67, 36], [24, 17, 37, 79, 44], [85, 92, 21, 54, 7], [49, 42, 13, 51, 67], [84, 90, 27, 85, 86], [98, 67, 13, 55, 57]]\n\n# p C\n8 [19, 80, 86, 46, 54] [19, 99, 185, 231, 285]\n3 [23, 50, 2, 24, 34] [42, 149, 187, 255, 319]\n15 [24, 17, 37, 79, 44] [66, 166, 224, 334, 378]\n6 [31, 13, 17, 55, 71] [97, 179, 241, 389, 460]\n12 [32, 41, 76, 86, 86] [129, 220, 317, 475, 561]\n14 [33, 29, 8, 67, 36] [162, 249, 325, 542, 597]\n9 [44, 78, 3, 94, 66] [206, 327, 330, 636, 702]\n17 [49, 42, 13, 51, 67] [255, 369, 382, 687, 769]\n7 [63, 76, 77, 70, 95] [318, 445, 522, 757, 864]\n1 [68, 46, 39, 53, 90] [386, 491, 561, 810, 954]\n13 [77, 34, 5, 73, 91] [463, 525, 566, 883, 1045]\n18 [84, 90, 27, 85, 86] [547, 637, 664, 968, 1131]\n0 [96, 12, 54, 58, 95] [643, 655, 718, 1026, 1226]\n19 [98, 67, 13, 55, 57] [741, 808, 821, 1081, 1283]\n5 [83, 38, 41, 21, 34] [824, 862, 903, 1102, 1317]\n10 [89, 58, 17, 27, 28] [913, 971, 988, 1129, 1345]\n11 [49, 78, 63, 52, 28] [962, 1049, 1112, 1181, 1373]\n2 [26, 87, 24, 1, 13] [988, 1136, 1160, 1182, 1386]\n4 [66, 63, 16, 90, 9] [1054, 1199, 1215, 1305, 1395]\n16 [85, 92, 21, 54, 7] [1139, 1291, 1312, 1366, 1402]\nCmax: 1402\n"
    }
   ],
   "source": [
    "m,n,jobs=leInst(1)\n",
    "\n",
    "jobs, Cmax = job_chooser(m,jobs)\n",
    "\n",
    "gravaSched(1, jobs, Cmax)"
   ]
  },
  {
   "cell_type": "markdown",
   "metadata": {},
   "source": []
  },
  {
   "cell_type": "markdown",
   "metadata": {},
   "source": [
    "Teste 3:"
   ]
  },
  {
   "cell_type": "code",
   "execution_count": 30,
   "metadata": {
    "tags": []
   },
   "outputs": [
    {
     "output_type": "stream",
     "name": "stdout",
     "text": "\nn = 20\nm = 5\ndados = [[40, 11, 79, 15, 64], [99, 23, 86, 56, 47], [33, 25, 68, 7, 17], [50, 80, 44, 86, 63], [44, 70, 75, 59, 38], [92, 20, 40, 24, 80], [7, 12, 58, 89, 86], [17, 22, 35, 24, 8], [93, 28, 34, 9, 95], [30, 24, 7, 70, 18], [37, 46, 4, 89, 68], [28, 42, 80, 74, 8], [32, 10, 99, 78, 85], [12, 15, 81, 3, 3], [48, 49, 53, 35, 23], [83, 51, 11, 26, 95], [91, 79, 25, 47, 17], [87, 41, 64, 10, 91], [10, 8, 48, 61, 13], [15, 15, 24, 85, 83]]\n\n# p C\n6 [7, 12, 58, 89, 86] [7, 19, 77, 166, 252]\n18 [10, 8, 48, 61, 13] [17, 27, 125, 227, 265]\n19 [15, 15, 24, 85, 83] [32, 47, 149, 312, 395]\n12 [32, 10, 99, 78, 85] [64, 74, 248, 390, 480]\n10 [37, 46, 4, 89, 68] [101, 147, 252, 479, 548]\n0 [40, 11, 79, 15, 64] [141, 158, 331, 494, 612]\n3 [50, 80, 44, 86, 63] [191, 271, 375, 580, 675]\n15 [83, 51, 11, 26, 95] [274, 325, 386, 606, 770]\n17 [87, 41, 64, 10, 91] [361, 402, 466, 616, 861]\n8 [93, 28, 34, 9, 95] [454, 482, 516, 625, 956]\n5 [92, 20, 40, 24, 80] [546, 566, 606, 649, 1036]\n1 [99, 23, 86, 56, 47] [645, 668, 754, 810, 1083]\n4 [44, 70, 75, 59, 38] [689, 759, 834, 893, 1121]\n14 [48, 49, 53, 35, 23] [737, 808, 887, 928, 1144]\n9 [30, 24, 7, 70, 18] [767, 832, 894, 998, 1162]\n2 [33, 25, 68, 7, 17] [800, 857, 962, 1005, 1179]\n16 [91, 79, 25, 47, 17] [891, 970, 995, 1052, 1196]\n7 [17, 22, 35, 24, 8] [908, 992, 1030, 1076, 1204]\n11 [28, 42, 80, 74, 8] [936, 1034, 1114, 1188, 1212]\n13 [12, 15, 81, 3, 3] [948, 1049, 1195, 1198, 1215]\nCmax: 1215\n"
    }
   ],
   "source": [
    "m,n,jobs=leInst(2)\n",
    "\n",
    "jobs, Cmax = job_chooser(m,jobs)\n",
    "\n",
    "gravaSched(2, jobs, Cmax)"
   ]
  },
  {
   "cell_type": "markdown",
   "metadata": {},
   "source": []
  },
  {
   "cell_type": "markdown",
   "metadata": {},
   "source": [
    "Teste 4:"
   ]
  },
  {
   "cell_type": "code",
   "execution_count": 31,
   "metadata": {
    "tags": []
   },
   "outputs": [
    {
     "output_type": "stream",
     "name": "stdout",
     "text": "\nn = 20\nm = 5\ndados = [[46, 64, 7, 43, 98], [55, 36, 70, 49, 97], [7, 13, 88, 6, 48], [12, 27, 59, 6, 93], [63, 4, 42, 57, 24], [61, 27, 18, 12, 56], [80, 85, 10, 8, 2], [6, 2, 20, 91, 18], [9, 19, 43, 77, 8], [73, 54, 33, 92, 67], [98, 90, 74, 24, 94], [21, 56, 23, 48, 25], [7, 58, 28, 92, 93], [64, 90, 9, 74, 20], [17, 34, 5, 37, 12], [37, 1, 50, 87, 83], [50, 6, 95, 62, 20], [31, 40, 53, 7, 58], [53, 76, 21, 5, 81], [94, 5, 28, 39, 46]]\n\n# p C\n7 [6, 2, 20, 91, 18] [6, 8, 28, 119, 137]\n2 [7, 13, 88, 6, 48] [13, 26, 116, 125, 185]\n12 [7, 58, 28, 92, 93] [20, 84, 144, 236, 329]\n3 [12, 27, 59, 6, 93] [32, 111, 203, 242, 422]\n11 [21, 56, 23, 48, 25] [53, 167, 226, 290, 447]\n17 [31, 40, 53, 7, 58] [84, 207, 279, 297, 505]\n15 [37, 1, 50, 87, 83] [121, 208, 329, 416, 588]\n0 [46, 64, 7, 43, 98] [167, 272, 336, 459, 686]\n18 [53, 76, 21, 5, 81] [220, 348, 369, 464, 767]\n1 [55, 36, 70, 49, 97] [275, 384, 454, 513, 864]\n10 [98, 90, 74, 24, 94] [373, 474, 548, 572, 958]\n9 [73, 54, 33, 92, 67] [446, 528, 581, 673, 1025]\n5 [61, 27, 18, 12, 56] [507, 555, 599, 685, 1081]\n19 [94, 5, 28, 39, 46] [601, 606, 634, 724, 1127]\n4 [63, 4, 42, 57, 24] [664, 668, 710, 781, 1151]\n13 [64, 90, 9, 74, 20] [728, 818, 827, 901, 1171]\n16 [50, 6, 95, 62, 20] [778, 824, 922, 984, 1191]\n14 [17, 34, 5, 37, 12] [795, 858, 927, 1021, 1203]\n8 [9, 19, 43, 77, 8] [804, 877, 970, 1098, 1211]\n6 [80, 85, 10, 8, 2] [884, 969, 980, 1106, 1213]\nCmax: 1213\n"
    }
   ],
   "source": [
    "m,n,jobs=leInst(3)\n",
    "\n",
    "jobs, Cmax = job_chooser(m,jobs)\n",
    "\n",
    "gravaSched(3, jobs, Cmax)"
   ]
  },
  {
   "cell_type": "markdown",
   "metadata": {},
   "source": []
  },
  {
   "cell_type": "markdown",
   "metadata": {},
   "source": [
    "Teste 5:"
   ]
  },
  {
   "cell_type": "code",
   "execution_count": 32,
   "metadata": {
    "tags": []
   },
   "outputs": [
    {
     "output_type": "stream",
     "name": "stdout",
     "text": "\nn = 20\nm = 5\ndados = [[46, 28, 44, 49, 38], [94, 15, 6, 95, 79], [98, 93, 55, 47, 55], [13, 15, 46, 59, 52], [50, 48, 7, 16, 47], [82, 7, 45, 53, 74], [27, 91, 10, 95, 11], [54, 21, 60, 95, 59], [86, 67, 62, 85, 20], [6, 24, 25, 76, 65], [84, 75, 82, 84, 39], [66, 79, 16, 80, 91], [75, 64, 46, 23, 19], [32, 52, 67, 71, 29], [30, 43, 1, 5, 8], [8, 21, 4, 38, 35], [21, 57, 80, 8, 2], [54, 75, 74, 61, 78], [92, 83, 82, 59, 83], [44, 30, 61, 99, 17]]\n\n# p C\n9 [6, 24, 25, 76, 65] [6, 30, 55, 131, 196]\n15 [8, 21, 4, 38, 35] [14, 51, 59, 169, 231]\n3 [13, 15, 46, 59, 52] [27, 66, 112, 228, 283]\n7 [54, 21, 60, 95, 59] [81, 102, 172, 323, 382]\n17 [54, 75, 74, 61, 78] [135, 210, 284, 384, 462]\n11 [66, 79, 16, 80, 91] [201, 289, 305, 464, 555]\n18 [92, 83, 82, 59, 83] [293, 376, 458, 523, 638]\n1 [94, 15, 6, 95, 79] [387, 402, 464, 618, 717]\n5 [82, 7, 45, 53, 74] [469, 476, 521, 671, 791]\n2 [98, 93, 55, 47, 55] [567, 660, 715, 762, 846]\n4 [50, 48, 7, 16, 47] [617, 708, 722, 778, 893]\n10 [84, 75, 82, 84, 39] [701, 783, 865, 949, 988]\n0 [46, 28, 44, 49, 38] [747, 811, 909, 998, 1036]\n13 [32, 52, 67, 71, 29] [779, 863, 976, 1069, 1098]\n8 [86, 67, 62, 85, 20] [865, 932, 1038, 1154, 1174]\n12 [75, 64, 46, 23, 19] [940, 1004, 1084, 1177, 1196]\n19 [44, 30, 61, 99, 17] [984, 1034, 1145, 1276, 1293]\n6 [27, 91, 10, 95, 11] [1011, 1125, 1155, 1371, 1382]\n14 [30, 43, 1, 5, 8] [1041, 1168, 1169, 1376, 1390]\n16 [21, 57, 80, 8, 2] [1062, 1225, 1305, 1384, 1392]\nCmax: 1392\n"
    }
   ],
   "source": [
    "m,n,jobs=leInst(4)\n",
    "\n",
    "jobs, Cmax = job_chooser(m,jobs)\n",
    "\n",
    "gravaSched(4, jobs, Cmax)"
   ]
  },
  {
   "cell_type": "markdown",
   "metadata": {},
   "source": []
  },
  {
   "cell_type": "markdown",
   "metadata": {},
   "source": [
    "Teste 6:"
   ]
  },
  {
   "cell_type": "code",
   "execution_count": 33,
   "metadata": {
    "tags": []
   },
   "outputs": [
    {
     "output_type": "stream",
     "name": "stdout",
     "text": "\nn = 20\nm = 5\ndados = [[77, 6, 35, 78, 68], [47, 91, 70, 45, 23], [64, 2, 2, 63, 51], [9, 38, 3, 25, 33], [30, 3, 95, 9, 53], [85, 22, 83, 1, 10], [83, 25, 67, 70, 13], [33, 71, 30, 23, 17], [63, 94, 70, 47, 93], [74, 22, 52, 97, 41], [69, 10, 60, 42, 59], [63, 32, 11, 20, 4], [3, 26, 73, 45, 58], [40, 27, 13, 17, 71], [72, 79, 36, 99, 33], [36, 65, 95, 12, 30], [30, 20, 88, 34, 26], [85, 97, 34, 18, 24], [98, 39, 39, 49, 77], [33, 81, 69, 7, 46]]\n\n# p C\n12 [3, 26, 73, 45, 58] [3, 29, 102, 147, 205]\n3 [9, 38, 3, 25, 33] [12, 67, 105, 172, 238]\n4 [30, 3, 95, 9, 53] [42, 70, 200, 209, 291]\n19 [33, 81, 69, 7, 46] [75, 156, 269, 276, 337]\n13 [40, 27, 13, 17, 71] [115, 183, 282, 299, 408]\n8 [63, 94, 70, 47, 93] [178, 277, 352, 399, 501]\n18 [98, 39, 39, 49, 77] [276, 316, 391, 448, 578]\n0 [77, 6, 35, 78, 68] [353, 359, 426, 526, 646]\n10 [69, 10, 60, 42, 59] [422, 432, 492, 568, 705]\n2 [64, 2, 2, 63, 51] [486, 488, 494, 631, 756]\n9 [74, 22, 52, 97, 41] [560, 582, 634, 731, 797]\n14 [72, 79, 36, 99, 33] [632, 711, 747, 846, 879]\n15 [36, 65, 95, 12, 30] [668, 776, 871, 883, 913]\n16 [30, 20, 88, 34, 26] [698, 796, 959, 993, 1019]\n17 [85, 97, 34, 18, 24] [783, 893, 993, 1011, 1043]\n1 [47, 91, 70, 45, 23] [830, 984, 1063, 1108, 1131]\n7 [33, 71, 30, 23, 17] [863, 1055, 1093, 1131, 1148]\n6 [83, 25, 67, 70, 13] [946, 1080, 1160, 1230, 1243]\n5 [85, 22, 83, 1, 10] [1031, 1102, 1243, 1244, 1254]\n11 [63, 32, 11, 20, 4] [1094, 1134, 1254, 1274, 1278]\nCmax: 1278\n"
    }
   ],
   "source": [
    "m,n,jobs=leInst(5)\n",
    "\n",
    "jobs, Cmax = job_chooser(m,jobs)\n",
    "\n",
    "gravaSched(5, jobs, Cmax)"
   ]
  },
  {
   "cell_type": "markdown",
   "metadata": {},
   "source": []
  },
  {
   "cell_type": "markdown",
   "metadata": {},
   "source": [
    "Teste 7:"
   ]
  },
  {
   "cell_type": "code",
   "execution_count": 34,
   "metadata": {
    "tags": []
   },
   "outputs": [
    {
     "output_type": "stream",
     "name": "stdout",
     "text": "\nn = 20\nm = 5\ndados = [[93, 82, 81, 41, 81], [42, 5, 64, 27, 26], [77, 16, 47, 11, 16], [74, 42, 4, 7, 47], [77, 47, 91, 96, 90], [4, 22, 77, 5, 12], [81, 61, 46, 19, 33], [71, 83, 69, 51, 84], [96, 64, 54, 30, 98], [45, 4, 95, 31, 35], [34, 45, 18, 68, 59], [21, 65, 39, 61, 57], [17, 25, 32, 86, 76], [58, 96, 15, 60, 36], [46, 86, 1, 1, 44], [71, 83, 84, 63, 59], [66, 29, 91, 46, 93], [95, 73, 64, 50, 14], [68, 30, 22, 11, 7], [84, 63, 71, 25, 57]]\n\n# p C\n5 [4, 22, 77, 5, 12] [4, 26, 103, 108, 120]\n12 [17, 25, 32, 86, 76] [21, 51, 135, 221, 297]\n11 [21, 65, 39, 61, 57] [42, 116, 174, 282, 354]\n10 [34, 45, 18, 68, 59] [76, 161, 192, 350, 413]\n16 [66, 29, 91, 46, 93] [142, 190, 283, 396, 506]\n7 [71, 83, 69, 51, 84] [213, 296, 365, 447, 590]\n4 [77, 47, 91, 96, 90] [290, 343, 456, 552, 680]\n8 [96, 64, 54, 30, 98] [386, 450, 510, 582, 778]\n0 [93, 82, 81, 41, 81] [479, 561, 642, 683, 859]\n15 [71, 83, 84, 63, 59] [550, 644, 728, 791, 918]\n19 [84, 63, 71, 25, 57] [634, 707, 799, 824, 975]\n3 [74, 42, 4, 7, 47] [708, 750, 803, 831, 1022]\n14 [46, 86, 1, 1, 44] [754, 840, 841, 842, 1066]\n13 [58, 96, 15, 60, 36] [812, 936, 951, 1011, 1102]\n9 [45, 4, 95, 31, 35] [857, 940, 1046, 1077, 1137]\n6 [81, 61, 46, 19, 33] [938, 1001, 1092, 1111, 1170]\n1 [42, 5, 64, 27, 26] [980, 1006, 1156, 1183, 1209]\n2 [77, 16, 47, 11, 16] [1057, 1073, 1203, 1214, 1230]\n17 [95, 73, 64, 50, 14] [1152, 1225, 1289, 1339, 1353]\n18 [68, 30, 22, 11, 7] [1220, 1255, 1311, 1350, 1360]\nCmax: 1360\n"
    }
   ],
   "source": [
    "m,n,jobs=leInst(6)\n",
    "\n",
    "jobs, Cmax = job_chooser(m,jobs)\n",
    "\n",
    "gravaSched(6, jobs, Cmax)"
   ]
  },
  {
   "cell_type": "markdown",
   "metadata": {},
   "source": []
  },
  {
   "source": [
    "Teste 8:"
   ],
   "cell_type": "markdown",
   "metadata": {}
  },
  {
   "cell_type": "code",
   "execution_count": 35,
   "metadata": {
    "tags": []
   },
   "outputs": [
    {
     "output_type": "stream",
     "name": "stdout",
     "text": "\nn = 20\nm = 5\ndados = [[21, 15, 23, 42, 83], [35, 22, 14, 89, 15], [51, 79, 7, 8, 99], [20, 99, 30, 60, 54], [75, 50, 38, 75, 73], [40, 50, 93, 98, 67], [14, 1, 53, 27, 9], [66, 8, 3, 49, 31], [12, 71, 22, 78, 31], [23, 12, 51, 96, 98], [8, 2, 4, 10, 4], [70, 39, 67, 18, 23], [64, 92, 74, 61, 76], [56, 10, 25, 28, 96], [79, 92, 89, 98, 47], [32, 1, 94, 43, 17], [12, 46, 86, 14, 31], [51, 22, 36, 9, 37], [51, 51, 9, 19, 98], [51, 34, 2, 75, 99]]\n\n# p C\n8 [12, 71, 22, 78, 31] [12, 83, 105, 183, 214]\n16 [12, 46, 86, 14, 31] [24, 129, 215, 229, 260]\n3 [20, 99, 30, 60, 54] [44, 228, 258, 318, 372]\n0 [21, 15, 23, 42, 83] [65, 243, 281, 360, 455]\n9 [23, 12, 51, 96, 98] [88, 255, 332, 456, 554]\n5 [40, 50, 93, 98, 67] [128, 305, 425, 554, 621]\n2 [51, 79, 7, 8, 99] [179, 384, 432, 562, 720]\n18 [51, 51, 9, 19, 98] [230, 435, 444, 581, 818]\n19 [51, 34, 2, 75, 99] [281, 469, 471, 656, 917]\n13 [56, 10, 25, 28, 96] [337, 479, 504, 684, 1013]\n12 [64, 92, 74, 61, 76] [401, 571, 645, 745, 1089]\n4 [75, 50, 38, 75, 73] [476, 621, 683, 820, 1162]\n14 [79, 92, 89, 98, 47] [555, 713, 802, 918, 1209]\n17 [51, 22, 36, 9, 37] [606, 735, 838, 927, 1246]\n7 [66, 8, 3, 49, 31] [672, 743, 841, 976, 1277]\n11 [70, 39, 67, 18, 23] [742, 782, 908, 994, 1300]\n15 [32, 1, 94, 43, 17] [774, 783, 1002, 1045, 1317]\n1 [35, 22, 14, 89, 15] [809, 831, 1016, 1134, 1332]\n6 [14, 1, 53, 27, 9] [823, 832, 1069, 1161, 1341]\n10 [8, 2, 4, 10, 4] [831, 834, 1073, 1171, 1345]\nCmax: 1345\n"
    }
   ],
   "source": [
    "m,n,jobs=leInst(7)\n",
    "\n",
    "jobs, Cmax = job_chooser(m,jobs)\n",
    "\n",
    "gravaSched(7, jobs, Cmax)"
   ]
  },
  {
   "source": [],
   "cell_type": "markdown",
   "metadata": {}
  },
  {
   "source": [
    "Teste 9:"
   ],
   "cell_type": "markdown",
   "metadata": {}
  },
  {
   "cell_type": "code",
   "execution_count": 36,
   "metadata": {
    "tags": []
   },
   "outputs": [
    {
     "output_type": "stream",
     "name": "stdout",
     "text": "\nn = 20\nm = 5\ndados = [[66, 73, 83, 96, 24], [69, 99, 84, 96, 95], [26, 4, 65, 62, 59], [92, 14, 5, 40, 5], [55, 20, 45, 74, 31], [4, 24, 7, 79, 41], [57, 71, 59, 4, 46], [52, 71, 71, 88, 87], [94, 55, 18, 70, 25], [43, 17, 12, 77, 16], [44, 62, 63, 80, 64], [96, 49, 77, 71, 89], [18, 9, 17, 41, 38], [91, 92, 13, 74, 80], [16, 84, 21, 53, 88], [32, 93, 65, 30, 25], [45, 22, 14, 94, 16], [80, 5, 89, 28, 69], [30, 26, 73, 45, 1], [71, 71, 57, 35, 44]]\n\n# p C\n5 [4, 24, 7, 79, 41] [4, 28, 35, 114, 155]\n14 [16, 84, 21, 53, 88] [20, 112, 133, 186, 274]\n12 [18, 9, 17, 41, 38] [38, 121, 150, 227, 312]\n2 [26, 4, 65, 62, 59] [64, 125, 215, 289, 371]\n10 [44, 62, 63, 80, 64] [108, 187, 278, 369, 435]\n7 [52, 71, 71, 88, 87] [160, 258, 349, 457, 544]\n1 [69, 99, 84, 96, 95] [229, 357, 441, 553, 648]\n11 [96, 49, 77, 71, 89] [325, 406, 518, 624, 737]\n13 [91, 92, 13, 74, 80] [416, 508, 531, 698, 817]\n17 [80, 5, 89, 28, 69] [496, 513, 620, 726, 886]\n6 [57, 71, 59, 4, 46] [553, 624, 683, 730, 932]\n19 [71, 71, 57, 35, 44] [624, 695, 752, 787, 976]\n4 [55, 20, 45, 74, 31] [679, 715, 797, 871, 1007]\n8 [94, 55, 18, 70, 25] [773, 828, 846, 941, 1032]\n15 [32, 93, 65, 30, 25] [805, 921, 986, 1016, 1057]\n0 [66, 73, 83, 96, 24] [871, 994, 1077, 1173, 1197]\n9 [43, 17, 12, 77, 16] [914, 1011, 1089, 1250, 1266]\n16 [45, 22, 14, 94, 16] [959, 1033, 1103, 1344, 1360]\n3 [92, 14, 5, 40, 5] [1051, 1065, 1108, 1384, 1389]\n18 [30, 26, 73, 45, 1] [1081, 1107, 1181, 1429, 1430]\nCmax: 1430\n"
    }
   ],
   "source": [
    "m,n,jobs=leInst(8)\n",
    "\n",
    "jobs, Cmax = job_chooser(m,jobs)\n",
    "\n",
    "gravaSched(8, jobs, Cmax)"
   ]
  },
  {
   "source": [],
   "cell_type": "markdown",
   "metadata": {}
  },
  {
   "source": [
    "Teste 10:"
   ],
   "cell_type": "markdown",
   "metadata": {}
  },
  {
   "cell_type": "code",
   "execution_count": 37,
   "metadata": {
    "tags": []
   },
   "outputs": [
    {
     "output_type": "stream",
     "name": "stdout",
     "text": "\nn = 20\nm = 5\ndados = [[69, 81, 12, 13, 3], [15, 26, 3, 1, 56], [88, 54, 36, 41, 17], [53, 72, 53, 39, 44], [57, 57, 91, 80, 13], [45, 71, 86, 89, 37], [45, 95, 47, 94, 5], [82, 31, 96, 47, 73], [21, 44, 61, 82, 38], [57, 31, 51, 24, 1], [49, 22, 75, 39, 36], [73, 81, 44, 14, 33], [40, 37, 41, 60, 72], [19, 72, 16, 40, 72], [46, 44, 58, 21, 26], [7, 39, 24, 54, 14], [41, 17, 2, 46, 5], [11, 92, 34, 3, 10], [65, 99, 56, 10, 87], [46, 75, 83, 3, 96]]\n\n# p C\n15 [7, 39, 24, 54, 14] [7, 46, 70, 124, 138]\n1 [15, 26, 3, 1, 56] [22, 72, 75, 125, 194]\n13 [19, 72, 16, 40, 72] [41, 144, 160, 200, 272]\n8 [21, 44, 61, 82, 38] [62, 188, 249, 331, 369]\n12 [40, 37, 41, 60, 72] [102, 225, 290, 391, 463]\n19 [46, 75, 83, 3, 96] [148, 300, 383, 394, 559]\n18 [65, 99, 56, 10, 87] [213, 399, 455, 465, 646]\n7 [82, 31, 96, 47, 73] [295, 430, 551, 598, 719]\n3 [53, 72, 53, 39, 44] [348, 502, 604, 643, 763]\n5 [45, 71, 86, 89, 37] [393, 573, 690, 779, 816]\n10 [49, 22, 75, 39, 36] [442, 595, 765, 818, 854]\n11 [73, 81, 44, 14, 33] [515, 676, 809, 832, 887]\n14 [46, 44, 58, 21, 26] [561, 720, 867, 888, 914]\n2 [88, 54, 36, 41, 17] [649, 774, 903, 944, 961]\n4 [57, 57, 91, 80, 13] [706, 831, 994, 1074, 1087]\n17 [11, 92, 34, 3, 10] [717, 923, 1028, 1077, 1097]\n6 [45, 95, 47, 94, 5] [762, 1018, 1075, 1171, 1176]\n16 [41, 17, 2, 46, 5] [803, 1035, 1077, 1217, 1222]\n0 [69, 81, 12, 13, 3] [872, 1116, 1128, 1230, 1233]\n9 [57, 31, 51, 24, 1] [929, 1147, 1198, 1254, 1255]\nCmax: 1255\n"
    }
   ],
   "source": [
    "m,n,jobs=leInst(9)\n",
    "\n",
    "jobs, Cmax = job_chooser(m,jobs)\n",
    "\n",
    "gravaSched(9, jobs, Cmax)"
   ]
  },
  {
   "cell_type": "markdown",
   "metadata": {},
   "source": [
    "Fecha o workbook de Dados"
   ]
  },
  {
   "cell_type": "code",
   "execution_count": 38,
   "metadata": {},
   "outputs": [],
   "source": [
    "wb1.close()"
   ]
  }
 ]
}
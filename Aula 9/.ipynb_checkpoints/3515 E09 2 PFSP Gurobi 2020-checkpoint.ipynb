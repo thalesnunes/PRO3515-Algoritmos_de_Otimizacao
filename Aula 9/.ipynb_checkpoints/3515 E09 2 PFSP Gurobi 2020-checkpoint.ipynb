{
 "cells": [
  {
   "cell_type": "markdown",
   "metadata": {},
   "source": [
    "## PRO3515 Algoritmos de Otimização para Programação da Produção"
   ]
  },
  {
   "cell_type": "markdown",
   "metadata": {},
   "source": [
    "### Desafio 8 - PFSP Gurobi"
   ]
  },
  {
   "cell_type": "markdown",
   "metadata": {},
   "source": [
    "#### Objetivo"
   ]
  },
  {
   "cell_type": "markdown",
   "metadata": {},
   "source": [
    "- Encontrar a solução ótima das instâncias do problema de *flow shop* permutacional considerados nos desafios anteriores, incluindo o tempo computacional e o gap de otimalidade."
   ]
  },
  {
   "cell_type": "markdown",
   "metadata": {},
   "source": [
    "#### Descrição"
   ]
  },
  {
   "cell_type": "markdown",
   "metadata": {},
   "source": [
    "1. Implantar o modelo de otimização para PFSP Cmax dado abaixo no Gurobi\n",
    "\n",
    "2. Testar o modelo com instâncias pequenas\n",
    "\n",
    "3. Implementar um código para leitura, solução e impressão dos resultados (leitura e impressão em planilha, solução em Gurobi)"
   ]
  },
  {
   "cell_type": "markdown",
   "metadata": {},
   "source": [
    "#### Formulação Matemática"
   ]
  },
  {
   "cell_type": "markdown",
   "metadata": {},
   "source": [
    "##### Índices\n",
    "\n",
    "i - job\n",
    "\n",
    "j - posição na sequência\n",
    "\n",
    "k - máquina\n",
    "\n",
    "##### Parâmetros\n",
    "\n",
    "m - número de máquinas\n",
    "\n",
    "n - número de jobs\n",
    "\n",
    "**p** - lista dos tempos de processamento dos jobs\n",
    "\n",
    "##### Variáveis de Decisão:\n",
    "\n",
    "$ x_{ij}=\n",
    "\\begin{cases}\n",
    "1, & \\text{se i está na posição j da sequência} \\\\\n",
    "0, & \\text{c.c.}\n",
    "\\end{cases} $\n",
    "\n",
    "$ s_{jk}: \\text{start time do job na posição j na máquina k} $\n",
    "\n",
    "$ c_{jk}: \\text{completion time do job na posição j na máquina k} $"
   ]
  },
  {
   "cell_type": "markdown",
   "metadata": {},
   "source": [
    "##### Modelo\n",
    "\n",
    "\\begin{equation}\n",
    "\\begin{aligned}\n",
    "& \\quad \\text{min} \\quad c_{nm} \\\\\n",
    "&\\text{s.a.} \\\\\n",
    "& \\quad c_{jk} \\geq s_{jk} + \\sum_{i=1}^{n} x_{ij} p_{ik} \\quad j=1,...,n \\quad k=1,...,m\\\\\n",
    "& \\quad s_{jk} \\geq c_{j-1,k} \\quad j=2,...,n \\quad k=1,...,m \\\\\n",
    "& \\quad s_{jk} \\geq c_{j,k-1} \\quad j=1,...,n \\quad k=2,...,m \\\\\n",
    "& \\quad \\sum_{i=1}^{n} x_{ij} = 1 \\quad j=1,...,n \\\\\n",
    "& \\quad \\sum_{j=1}^{n} x_{ij} = 1 \\quad i=1,...,n \\\\\n",
    "& \\quad \\quad \\quad s_{jk},c_{jk} \\geq 0, x_{ij} \\in \\{ 0,1 \\} \\\\\n",
    "\\end{aligned}\n",
    "\\end{equation}"
   ]
  },
  {
   "cell_type": "markdown",
   "metadata": {},
   "source": [
    "#### Entrada"
   ]
  },
  {
   "cell_type": "markdown",
   "metadata": {},
   "source": [
    "- Planilha: \"xl05 2 A PFSP Cmax CDS.xlsx\""
   ]
  },
  {
   "cell_type": "markdown",
   "metadata": {},
   "source": [
    "#### Saída"
   ]
  },
  {
   "cell_type": "markdown",
   "metadata": {},
   "source": [
    "- Planilha: \"xl12 2 B PFSP Cmax Gurobi.xlsx\"\n",
    "- Para cada instância, anotar o tempo de solução e o gap de otimalidade"
   ]
  },
  {
   "cell_type": "markdown",
   "metadata": {},
   "source": [
    "#### Instâncias para teste"
   ]
  },
  {
   "cell_type": "markdown",
   "metadata": {},
   "source": [
    "- Testar o código com instâncias de pequeno porte"
   ]
  },
  {
   "cell_type": "markdown",
   "metadata": {},
   "source": [
    "#### Entrega"
   ]
  },
  {
   "cell_type": "markdown",
   "metadata": {},
   "source": [
    " - Uma entrega por dupla no e-disciplinas até **26/10, 2a.f, 23h59**\n",
    "  - código em Python Notebook, nomeado: \"Desafio 8 - PFSP Cmax Gurobi - Dupla xx\""
   ]
  },
  {
   "cell_type": "markdown",
   "metadata": {},
   "source": [
    "#### Referência"
   ]
  },
  {
   "cell_type": "markdown",
   "metadata": {},
   "source": [
    "- https://www.gurobi.com/documentation/8.1/refman/py_model.html"
   ]
  },
  {
   "cell_type": "code",
   "execution_count": null,
   "metadata": {},
   "outputs": [],
   "source": []
  }
 ],
 "metadata": {
  "kernelspec": {
   "display_name": "Python 3",
   "language": "python",
   "name": "python3"
  },
  "language_info": {
   "codemirror_mode": {
    "name": "ipython",
    "version": 3
   },
   "file_extension": ".py",
   "mimetype": "text/x-python",
   "name": "python",
   "nbconvert_exporter": "python",
   "pygments_lexer": "ipython3",
   "version": "3.7.1"
  }
 },
 "nbformat": 4,
 "nbformat_minor": 2
}

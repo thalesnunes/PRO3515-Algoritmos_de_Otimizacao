{
 "cells": [
  {
   "cell_type": "markdown",
   "metadata": {},
   "source": [
    "# PRO3515 Algoritmos de Otimização para Programação de Produção\n",
    "## Aula 7 - Exercício Individual"
   ]
  },
  {
   "cell_type": "markdown",
   "metadata": {},
   "source": [
    "### Nome: Thales Nunes NUSP: 10769372"
   ]
  },
  {
   "cell_type": "markdown",
   "metadata": {},
   "source": []
  },
  {
   "cell_type": "markdown",
   "metadata": {},
   "source": [
    "### Exercício"
   ]
  },
  {
   "cell_type": "markdown",
   "metadata": {},
   "source": [
    "A meta-heurística IG proposa por Ruiz & Stutzle (2007) para o PFSP Cmax prevê, em cada iteração, a possibilidade de aceitação de uma solução nova inferior à solução corrente, com probabilidade decrescente em relação à diferença entre o Cmax da nova solução e o da solução corrente. Para uma solução corrente com Cmax1=100 e uma temperatura T=5, determine a probabilidade de aceitação de uma solução inferior com Cmax2=105. Idem para 110, 120 e 150."
   ]
  },
  {
   "cell_type": "markdown",
   "metadata": {},
   "source": [
    "### Resposta"
   ]
  },
  {
   "cell_type": "markdown",
   "metadata": {},
   "source": [
    "|Cmax|Prob (%)|\n",
    "| ------ | ----- |\n",
    "|105|36,8|\n",
    "|110|13,5|\n",
    "|120|1,83|\n",
    "|150|0,00|"
   ]
  }
 ],
 "metadata": {
  "kernelspec": {
   "display_name": "Python 3",
   "language": "python",
   "name": "python3"
  },
  "language_info": {
   "codemirror_mode": {
    "name": "ipython",
    "version": 3
   },
   "file_extension": ".py",
   "mimetype": "text/x-python",
   "name": "python",
   "nbconvert_exporter": "python",
   "pygments_lexer": "ipython3",
   "version": "3.7.9"
  }
 },
 "nbformat": 4,
 "nbformat_minor": 4
}

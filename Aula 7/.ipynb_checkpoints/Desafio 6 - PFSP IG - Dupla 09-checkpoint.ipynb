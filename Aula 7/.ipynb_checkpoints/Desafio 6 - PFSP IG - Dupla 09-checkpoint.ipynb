{
 "cells": [
  {
   "cell_type": "markdown",
   "metadata": {},
   "source": [
    "# PRO3515 - PFSP LS\n",
    "\n",
    "\n",
    "## Dupla 9\n",
    "\n",
    "### Nomes: \n",
    "### Lucas Hideki Takeuchi Okamura NUSP:  9274315\n",
    "### Thales Arantes Kerche Nunes   NUSP: 10769372\n"
   ]
  },
  {
   "cell_type": "markdown",
   "metadata": {},
   "source": [
    "Importando as bibliotecas necessárias"
   ]
  },
  {
   "cell_type": "code",
   "execution_count": 20,
   "metadata": {},
   "outputs": [],
   "source": [
    "import xlwings as xw\n",
    "import random\n",
    "import math"
   ]
  },
  {
   "cell_type": "markdown",
   "metadata": {},
   "source": [
    "Definindo a classe Job que usaremos no algoritmo"
   ]
  },
  {
   "cell_type": "code",
   "execution_count": 31,
   "metadata": {},
   "outputs": [],
   "source": [
    "class Job:\n",
    "    def __init__(self,i,pi,di):\n",
    "        self.i=i     # número do job, pela ordem de chegada\n",
    "        self.p=pi     # processing time\n",
    "        self.p_total=sum(self.p)\n",
    "        self.d=di     # due date\n",
    "        self.C=0     # completion time\n",
    "        self.T=0     # tardiness\n",
    "    \n",
    "    def __str__(self):\n",
    "        return 'Job #{}, p = {}'.format(self.i, self.p)"
   ]
  },
  {
   "cell_type": "markdown",
   "metadata": {},
   "source": [
    "### Reutilizamos a função disponibilizada pelo professor, com alguns ajustes para ler o número de máquinas"
   ]
  },
  {
   "cell_type": "code",
   "execution_count": 70,
   "metadata": {},
   "outputs": [],
   "source": [
    "def leInst(sheet_num):\n",
    "    pl1 = wb1.sheets[sheet_num]\n",
    "    m=int(pl1.range('B5').value)     # converter em inteiro\n",
    "    n=int(pl1.range('B6').value)     # converter em inteiro\n",
    "    Cmax=int(pl1.range('F5').value)     # converter em inteiro\n",
    "    tab1=pl1.range('A11').options(expand='table', numbers=int).value     # ler como tabela e inteiros\n",
    "    jobs=[]\n",
    "    for i in range(n):\n",
    "        pi=tab1[i][1:-5]\n",
    "        jobs.append(Job(tab1[i][0]-1,pi,0))\n",
    "    \n",
    "    return m,n,jobs,Cmax"
   ]
  },
  {
   "cell_type": "markdown",
   "metadata": {},
   "source": [
    "Também reutilizamos a de gravar, novamente, com alguns ajustes"
   ]
  },
  {
   "cell_type": "code",
   "execution_count": 112,
   "metadata": {},
   "outputs": [],
   "source": [
    "def gravaSched(i,jobs,Cmax):\n",
    "    n=len(jobs)\n",
    "    tab=[]\n",
    "    for job in jobs:\n",
    "        a=[job.i+1]+job.p+job.C\n",
    "        tab.append(a)\n",
    "\n",
    "    if i==0:\n",
    "        plan=wb2.sheets[0]\n",
    "        plan.name='I(1)'\n",
    "    else:\n",
    "        plan=wb2.sheets.add('I('+str(i+1)+')',after=i)\n",
    "        \n",
    "    plan.range('A5').value=['m',5]\n",
    "    plan.range('A6').value=['n',n]\n",
    "    plan.range('E5').value=['Cmax',Cmax]\n",
    "    plan.range('A10').value=['#','p1','p2', 'p3', 'p4', 'p5','C1','C2','C3','C4','C5']\n",
    "    plan.range('A11').value=tab\n",
    "\n",
    "    print()\n",
    "    print('Cmax (I('+str(i+1)+')): ', Cmax)"
   ]
  },
  {
   "cell_type": "markdown",
   "metadata": {},
   "source": []
  },
  {
   "cell_type": "markdown",
   "metadata": {},
   "source": [
    "Função que permite calcular o tempo que os jobs se completam"
   ]
  },
  {
   "cell_type": "code",
   "execution_count": 34,
   "metadata": {},
   "outputs": [],
   "source": [
    "def calcCmax(m,jobs):     # esta função calcula os tempos de conclusão dos jobs nas m máquinas\n",
    "    n=len(jobs)\n",
    "    c=[[0 for i in range(m)] for j in range(n)]\n",
    "    p=[job.p for job in jobs]\n",
    "    \n",
    "    # primeiro job\n",
    "    c[0][0]=p[0][0]     # primeira máquina\n",
    "    for k in range(1,m):     # próximas máquinas\n",
    "        c[0][k]=c[0][k-1]+p[0][k]\n",
    "        \n",
    "    # próximos jobs\n",
    "    for j in range(1,n):\n",
    "        c[j][0]=c[j-1][0]+p[j][0]     # primeira máquina\n",
    "        for k in range(1,m):     # próximas máquinas\n",
    "            c[j][k]=max(c[j][k-1],c[j-1][k])+p[j][k]\n",
    "            \n",
    "    j=0\n",
    "    for job in jobs:\n",
    "        job.C=c[j]\n",
    "        j+=1\n",
    "    \n",
    "    return c[-1][-1]"
   ]
  },
  {
   "cell_type": "markdown",
   "metadata": {},
   "source": []
  },
  {
   "cell_type": "markdown",
   "metadata": {},
   "source": [
    "Função que calcula a Temperatura com a fórmula presente no artigo:"
   ]
  },
  {
   "cell_type": "code",
   "execution_count": 35,
   "metadata": {},
   "outputs": [],
   "source": [
    "def Temperatura(T: float, jobs: list, n: int = 20, m: int = 5):\n",
    "    return (T*sum([job.p_total for job in jobs])/(10*n*m))"
   ]
  },
  {
   "cell_type": "markdown",
   "metadata": {},
   "source": [
    "Função que acha a melhor posição para um job a ser inserido em uma fila de jobs:"
   ]
  },
  {
   "cell_type": "code",
   "execution_count": 43,
   "metadata": {},
   "outputs": [],
   "source": [
    "def findBestPosition(aux_jobs: list, new_job: Job, m: int) -> (list, int):\n",
    "    \n",
    "    bestCmax = float('inf')\n",
    "    for ind in range(len(aux_jobs)+1):\n",
    "        aux_jobs.insert(ind, new_job)\n",
    "        Cmax = calcCmax(m, aux_jobs)\n",
    "\n",
    "        if Cmax < bestCmax:\n",
    "            bestPos = ind\n",
    "            bestCmax = Cmax\n",
    "        aux_jobs.pop(ind)\n",
    "    aux_jobs.insert(bestPos, new_job)\n",
    "\n",
    "    return aux_jobs, bestCmax"
   ]
  },
  {
   "cell_type": "markdown",
   "metadata": {},
   "source": [
    "### Função principal `schedIG`"
   ]
  },
  {
   "cell_type": "code",
   "execution_count": 109,
   "metadata": {},
   "outputs": [],
   "source": [
    "def schedIG(jobs: list, bestCmax: int, T: float = 0.5, d: int = 3, m: int = 5) -> (list, int):\n",
    "\n",
    "    jobs_b = jobs[:]\n",
    "    for _ in range(100):\n",
    "        \n",
    "        jobs_linha = jobs[:]\n",
    "        retirados = random.sample(jobs_linha, d)\n",
    "        for item in retirados:\n",
    "            jobs_linha.remove(item)\n",
    "        for new_job in retirados:\n",
    "            jobs_linha, newCmax = findBestPosition(jobs_linha, new_job, m)\n",
    "        \n",
    "        if newCmax < calcCmax(m, jobs) or random.random() <= math.exp(-(newCmax-calcCmax(m, jobs))/Temperatura(T, jobs)):\n",
    "            jobs = jobs_linha[:]\n",
    "#             if calcCmax(m, jobs) < calcCmax(m, jobs_b):\n",
    "#                 jobs_b = jobs[:]\n",
    "#         elif random.random() <= math.exp(-(newCmax-calcCmax(m, jobs))/Temperatura(T, jobs)):\n",
    "#             jobs = jobs_linha[:]\n",
    "        \n",
    "    return jobs, calcCmax(m, jobs)"
   ]
  },
  {
   "cell_type": "markdown",
   "metadata": {},
   "source": [
    "## Principal"
   ]
  },
  {
   "cell_type": "markdown",
   "metadata": {},
   "source": [
    "Caso base pra comprovar o funcionamento do algoritmo implementado"
   ]
  },
  {
   "cell_type": "code",
   "execution_count": 113,
   "metadata": {
    "tags": []
   },
   "outputs": [
    {
     "name": "stdout",
     "output_type": "stream",
     "text": [
      "[2, 4, 5, 3, 1]\n",
      "[[1, 3], [2, 5], [4, 6], [8, 6], [6, 3]]\n",
      "Cmax =  24\n"
     ]
    }
   ],
   "source": [
    "tab1 = [[6,3],[1,3],[8,6],[2,5],[4,6]]\n",
    "jobs=[]\n",
    "for i in range(len(tab1)):\n",
    "    pi=tab1[i]\n",
    "    jobs.append(Job(i,pi,0))\n",
    "\n",
    "jobs, Cmax = schedIG(jobs, 32, m=2)\n",
    "\n",
    "print([job.i+1 for job in jobs])\n",
    "print([job.p for job in jobs])\n",
    "print('Cmax = ', Cmax)"
   ]
  },
  {
   "cell_type": "markdown",
   "metadata": {},
   "source": []
  },
  {
   "cell_type": "markdown",
   "metadata": {},
   "source": [
    "Abre os dois arquivos que vão ser usados"
   ]
  },
  {
   "cell_type": "code",
   "execution_count": 119,
   "metadata": {
    "tags": []
   },
   "outputs": [],
   "source": [
    "wb1 = xw.Book(\"xl10 2 B PFSP Cmax NEH-LS.xlsx\")\n",
    "wb2 = xw.Book()"
   ]
  },
  {
   "cell_type": "markdown",
   "metadata": {},
   "source": [
    "Roda todos os testes:"
   ]
  },
  {
   "cell_type": "code",
   "execution_count": 120,
   "metadata": {
    "tags": []
   },
   "outputs": [
    {
     "name": "stdout",
     "output_type": "stream",
     "text": [
      "\n",
      "Cmax (I(1)):  1186\n",
      "\n",
      "Cmax (I(2)):  1272\n",
      "\n",
      "Cmax (I(3)):  1141\n",
      "\n",
      "Cmax (I(4)):  1147\n",
      "\n",
      "Cmax (I(5)):  1253\n",
      "\n",
      "Cmax (I(6)):  1171\n",
      "\n",
      "Cmax (I(7)):  1290\n",
      "\n",
      "Cmax (I(8)):  1189\n",
      "\n",
      "Cmax (I(9)):  1273\n",
      "\n",
      "Cmax (I(10)):  1175\n"
     ]
    }
   ],
   "source": [
    "for sheet in range(10):\n",
    "    m,n,jobs,Cmax=leInst(sheet)\n",
    "\n",
    "    jobs, Cmax = schedIG(jobs, Cmax)\n",
    "\n",
    "    gravaSched(sheet, jobs, Cmax)"
   ]
  },
  {
   "cell_type": "markdown",
   "metadata": {},
   "source": []
  },
  {
   "cell_type": "markdown",
   "metadata": {},
   "source": [
    "Fecha o workbook de Dados"
   ]
  },
  {
   "cell_type": "code",
   "execution_count": 121,
   "metadata": {},
   "outputs": [],
   "source": [
    "wb1.close()"
   ]
  }
 ],
 "metadata": {
  "kernelspec": {
   "display_name": "Python 3",
   "language": "python",
   "name": "python3"
  },
  "language_info": {
   "codemirror_mode": {
    "name": "ipython",
    "version": 3
   },
   "file_extension": ".py",
   "mimetype": "text/x-python",
   "name": "python",
   "nbconvert_exporter": "python",
   "pygments_lexer": "ipython3",
   "version": "3.7.9"
  }
 },
 "nbformat": 4,
 "nbformat_minor": 4
}

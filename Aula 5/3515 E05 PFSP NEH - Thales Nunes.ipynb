{
 "cells": [
  {
   "cell_type": "markdown",
   "metadata": {},
   "source": [
    "# PRO3515 Algoritmos de Otimização para Programação de Produção\n",
    "## Aula 5 - Exercício Individual"
   ]
  },
  {
   "cell_type": "markdown",
   "metadata": {},
   "source": [
    "### Nome: Thales Nunes NUSP: 10769372"
   ]
  },
  {
   "cell_type": "markdown",
   "metadata": {},
   "source": []
  },
  {
   "cell_type": "markdown",
   "metadata": {},
   "source": [
    "### Pseudocódigo NEH"
   ]
  },
  {
   "cell_type": "markdown",
   "metadata": {},
   "source": [
    "Prazo: 15 min"
   ]
  },
  {
   "cell_type": "markdown",
   "metadata": {},
   "source": [
    "### Resposta"
   ]
  },
  {
   "cell_type": "markdown",
   "metadata": {},
   "source": [
    "### Algoritmo: Nawaz-Enscore-Ham (NEH)\n",
    "\n",
    "\n",
    "Entrada: Dados `n` jobs que serão processados em `m` máquinas na mesma ordem, o tempo de processamento do job `i` na máquina `j` sendo `t(i,j)` (i=1,2,...,n; j=1,2,...,m).\n",
    "\n",
    "Saída: Sequência de jobs que minimizam o _makespan_\n",
    "\n",
    "\n",
    "\n",
    "Passo:\n",
    "    \n",
    "        1. Para cada job `i` calcular: \n",
    "        \n",
    "                1.2. `Ti = SUM(t(i,j))` para j=1,...,m\n",
    "    \n",
    "        2. Ordenar os jobs em ordem decrescente de `Ti`\n",
    "    \n",
    "        3. Escolher os dois primeiros jobs da lista ordenada e ache a melhor sequência entre as possibilidades. Não mude suas posições relativas nos próximos passos do algoritmo.\n",
    "\n",
    "        4. Faça i=3\n",
    "\n",
    "        5. Escolha o job na posição `i` da lista gerada no Passo 2 e ache a melhor sequência colocando este job em todas as posições possíveis `i` da sequência parcial do passo anterior.\n",
    "\n",
    "        6. Se `n = i`, PARE, se não, faça `i = i+1` e volte ao Passo 4."
   ]
  }
 ],
 "metadata": {
  "kernelspec": {
   "display_name": "Python 3",
   "language": "python",
   "name": "python3"
  },
  "language_info": {
   "codemirror_mode": {
    "name": "ipython",
    "version": 3
   },
   "file_extension": ".py",
   "mimetype": "text/x-python",
   "name": "python",
   "nbconvert_exporter": "python",
   "pygments_lexer": "ipython3",
   "version": "3.7.1"
  }
 },
 "nbformat": 4,
 "nbformat_minor": 2
}
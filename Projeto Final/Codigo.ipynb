{
 "cells": [
  {
   "cell_type": "markdown",
   "metadata": {
    "collapsed": false
   },
   "source": [
    "# Projeto Final - PFSP TT - Dupla 09\n",
    "\n",
    "**Integrantes:**\n",
    "\n",
    "* Lucas Hideki Takeuchi Okamura NUSP: 9274315\n",
    "\n",
    "* Thales Arantes Kerche Nunes NUSP: 10769372\n",
    "\n",
    "**Objetivo**\n",
    "\n",
    "* Programar o algoritmo heurístico NEH, que busca minimizar o makespan em um flow shop com m máquinas\n",
    "\n",
    "**Descrição**\n",
    "\n",
    "O código roda o algoritmo de NEH, outro método para resolver o problema\n",
    "de máquinas em série. O algoritmo está explicitado no artigo \"A Heuristic \n",
    "Algorithm for the m-Machine, n-Job Flow-shop Sequencing Problem\", 1983, por \n",
    "Nawaz, Muhammad; Jr, E Emory Enscore; Ham, Inyong. Resumidamente, tem-se \n",
    "os passos abaixo:\n",
    "\n",
    "\t* Passo 1: Ordenar a lista de jobs em ordem decrescente do tempo total de processamento;\n",
    "\n",
    "\t* Passo 2: Retire os dois primeiros da lista ordenada e crie uma nova lista, teste as duas permutações, escolha a\n",
    "    permutação com menor makespan;\n",
    "\n",
    "\t* Passo 3: Retire o próximo job da lista ordenada, teste em todas as posições da nova lista, escolha a inserção\n",
    "    com menor makespan;\n",
    "\n",
    "\t* Passo 4: Repita o passo 3 até esvaziar a lista ordenada; a nova lista resultante será a solução do problema"
   ]
  },
  {
   "cell_type": "code",
   "execution_count": 0,
   "metadata": {
    "collapsed": false
   },
   "outputs": [
   ],
   "source": [
    "import xlwings as xl\n",
    "import numpy as np"
   ]
  },
  {
   "cell_type": "code",
   "execution_count": 5,
   "metadata": {
    "collapsed": false
   },
   "outputs": [
   ],
   "source": [
    "class Job:\n",
    "    def __init__(self, i: int, pi: list, di: int):\n",
    "        self.i=i     # número do job, pela ordem de chegada\n",
    "        self.p=pi     # processing time\n",
    "        self.p_total=sum(self.p)\n",
    "        self.d=di     # due date\n",
    "        self.C=0     # completion time\n",
    "        self.T=0     # tardiness"
   ]
  },
  {
   "cell_type": "code",
   "execution_count": 0,
   "metadata": {
    "collapsed": false
   },
   "outputs": [
   ],
   "source": [
    "def leInst(sheet_num: int) -> (int, int, list):\n",
    "    pl1 = wb1.sheets[sheet_num]\n",
    "    m=int(pl1.range('B5').value)     # converter em inteiro\n",
    "    n=int(pl1.range('B6').value)     # converter em inteiro\n",
    "    tab1=pl1.range('B11').options(expand='table', numbers=int).value     # ler como tabela e inteiros\n",
    "    print()\n",
    "    print('n =',n)\n",
    "    print('m =',m)\n",
    "    print('dados =',tab1)\n",
    "    jobs=[]\n",
    "    for i in range(n):\n",
    "        pi=tab1[i][:-1]\n",
    "        di=tab1[i][-1]\n",
    "        jobs.append(Job(i,pi,di))\n",
    "\n",
    "    return m,n,jobs"
   ]
  },
  {
   "cell_type": "code",
   "execution_count": 0,
   "metadata": {
    "collapsed": false
   },
   "outputs": [
   ],
   "source": [
    "def gravaSched(i:int ,jobs: list,Cmax: int):\n",
    "    n=len(jobs)\n",
    "    m=len(jobs[0].p)\n",
    "    tab=[]\n",
    "    for job in jobs:\n",
    "        a=[job.i+1]+job.p+job.C+job.d+job.T\n",
    "        tab.append(a)\n",
    "\n",
    "    if i==0:\n",
    "        plan=wb2.sheets[0]\n",
    "        plan.name='I(1)'\n",
    "    else:\n",
    "        plan=wb2.sheets.add('I('+str(i+1)+')',after=i)\n",
    "\n",
    "    plan.range('A5').value=['m',m]\n",
    "    plan.range('A6').value=['n',n]\n",
    "    plan.range('E5').value=['Cmax',Cmax]\n",
    "    plan.range('A10').value=['#','p1','p2', 'p3', 'p4', 'p5','C1','C2','C3','C4','C5', 'd', 'T']\n",
    "    plan.range('A11').value=tab"
   ]
  },
  {
   "cell_type": "code",
   "execution_count": 0,
   "metadata": {
    "collapsed": false
   },
   "outputs": [
   ],
   "source": [
    "def calcCmax(m: int,jobs: list) -> int:     # esta função calcula os tempos de conclusão dos jobs nas m máquinas\n",
    "    n=len(jobs)\n",
    "    c=[[0 for i in range(m)] for j in range(n)]\n",
    "    p=[job.p for job in jobs]\n",
    "\n",
    "    # primeiro job\n",
    "    c[0][0]=p[0][0]     # primeira máquina\n",
    "    for k in range(1,m):     # próximas máquinas\n",
    "        c[0][k]=c[0][k-1]+p[0][k]\n",
    "\n",
    "    # próximos jobs\n",
    "    for j in range(1,n):\n",
    "        c[j][0]=c[j-1][0]+p[j][0]     # primeira máquina\n",
    "        for k in range(1,m):     # próximas máquinas\n",
    "            c[j][k]=max(c[j][k-1],c[j-1][k])+p[j][k]\n",
    "\n",
    "    j=0\n",
    "    for job in jobs:\n",
    "        job.C=c[j]\n",
    "        j+=1\n",
    "\n",
    "    return c[-1][-1]\n",
    "\n",
    "def calculate_final_values(jobs: list) -> (dict, list):\n",
    "\n",
    "    TT = nT = Fbar = Tmax = 0\n",
    "    for job in jobs:\n",
    "        job.T = max(0, job.C[-1] - job.d)\n",
    "        TT += job.T\n",
    "        Fbar += job.C[-1]\n",
    "        if job.T > 0:\n",
    "            nT += 1\n",
    "            Tmax = max(Tmax, job.T)\n",
    "\n",
    "    Cmax = jobs[-1].C[-1]\n",
    "\n",
    "    Fbar = Fbar/len(jobs)\n",
    "\n",
    "    return {'Cmax': Cmax, 'Fbar': Fbar, 'TT': TT, 'Tmax': Tmax, 'nT': nT}, jobs\n",
    "\n",
    "def findBestPerm(jobs: list, job_insert: __main__.Job, m: int = 5) -> (list, int):\n",
    "    minTardiness = np.inf\n",
    "    totTardiness = 0\n",
    "\n",
    "    for j in range(len(jobs) + 1):\n",
    "        jobs.insert(j, job_insert)\n",
    "        Cmax_test = calcCmax(m, jobs)\n",
    "        for job in jobs:\n",
    "            job.T = max(0, job.C[-1] - job.d)\n",
    "            totTardiness += job.T\n",
    "            if totTardiness < minTardiness:\n",
    "                bestPos = j\n",
    "                minTardiness = totTardiness\n",
    "        jobs.pop(j)\n",
    "    jobs.insert(bestPos, job_insert)\n",
    "\n",
    "    return jobs, totTardiness"
   ]
  },
  {
   "cell_type": "code",
   "execution_count": 0,
   "metadata": {
    "collapsed": false
   },
   "outputs": [
   ],
   "source": [
    "def schedNEHedd(jobs: list, m: int = 5):\n",
    "    n = len(jobs)\n",
    "    jobs.sort(key = lambda job: job.d, reverse = False)\n",
    "    jobs1 = [jobs[0]]\n",
    "\n",
    "    for k in range(2, n):\n",
    "\n",
    "        findBestPerm(jobs, jobs[k])"
   ]
  },
  {
   "cell_type": "code",
   "execution_count": 0,
   "metadata": {
    "collapsed": false
   },
   "outputs": [
   ],
   "source": [
    "def schedLS(jobs: list, bestTT: int, m: int = 5) -> (list, int):\n",
    "\n",
    "    melhoria = True\n",
    "    aux_jobs = jobs[:]\n",
    "    while melhoria:\n",
    "        melhoria = False\n",
    "        jotas = list(range(len(aux_jobs)))\n",
    "        random.shuffle(jotas)\n",
    "\n",
    "        for j1 in jotas:\n",
    "            job1 = aux_jobs.pop(j1)\n",
    "            bestPos = j1\n",
    "\n",
    "            for j2 in range(len(aux_jobs)+1):\n",
    "                aux_jobs.insert(j2, job1)\n",
    "                Cmax = calcCmax(m, aux_jobs)\n",
    "                dados, aux_jobs = calculate_final_values(aux_jobs)\n",
    "\n",
    "                if dados.TT < bestTT:\n",
    "                    bestPos = j2\n",
    "                    melhoria = True\n",
    "                    bestTT = dados.TT\n",
    "                    # break\n",
    "                aux_jobs.pop(j2)\n",
    "            # if melhoria:\n",
    "            #     break\n",
    "            aux_jobs.insert(bestPos, job1)\n",
    "\n",
    "\n",
    "    return aux_jobs, dados.TT"
   ]
  },
  {
   "cell_type": "code",
   "execution_count": 0,
   "metadata": {
    "collapsed": false
   },
   "outputs": [
   ],
   "source": [
    "def Temperatura(T: float, jobs: list, n: int = 20, m: int = 5) -> float:\n",
    "    return (T*sum([job.p_total for job in jobs])/(10*n*m))\n",
    "\n",
    "def findBestPosition(aux_jobs: list, new_job: Job, m: int = 5) -> (dict, list):\n",
    "\n",
    "    bestTT = float('inf')\n",
    "    for ind in range(len(aux_jobs)+1):\n",
    "        aux_jobs.insert(ind, new_job)\n",
    "        Cmax = calcCmax(m, aux_jobs)\n",
    "        dados, aux_jobs = calculate_final_values(aux_jobs)\n",
    "\n",
    "        if dados.TT < bestTT:\n",
    "            bestPos = ind\n",
    "            bestTT = dados.TT\n",
    "        aux_jobs.pop(ind)\n",
    "    aux_jobs.insert(bestPos, new_job)\n",
    "    dados, aux_jobs = calculate_final_values(aux_jobs)\n",
    "\n",
    "    return dados, aux_jobs\n",
    "\n",
    "\n",
    "def schedIG(jobs: list, bestCmax: int, T: float = 0.5, d: int = 3, m: int = 5) -> (list, int):\n",
    "\n",
    "    jobs_b = jobs[:]\n",
    "    for _ in range(100):\n",
    "\n",
    "        jobs_linha = jobs[:]\n",
    "        retirados = random.sample(jobs_linha, d)\n",
    "        for item in retirados:\n",
    "            jobs_linha.remove(item)\n",
    "        for new_job in retirados:\n",
    "            dados, jobs_linha = findBestPosition(jobs_linha, new_job, m)\n",
    "\n",
    "        if dados.TT < calculate_final_values(jobs)[0].TT or random.random() <= math.exp(-(dados.TT-calculate_final_values(jobs)[0].TT)/Temperatura(T, jobs)):\n",
    "            jobs = jobs_linha[:]\n",
    "#             if calcCmax(m, jobs) < calcCmax(m, jobs_b):\n",
    "#                 jobs_b = jobs[:]\n",
    "#         elif random.random() <= math.exp(-(newCmax-calcCmax(m, jobs))/Temperatura(T, jobs)):\n",
    "#             jobs = jobs_linha[:]\n",
    "\n",
    "    return jobs, calculate_final_values(jobs)"
   ]
  }
 ],
 "metadata": {
  "kernelspec": {
   "display_name": "Python 3 (system-wide)",
   "language": "python",
   "metadata": {
    "cocalc": {
     "description": "Python 3 programming language",
     "priority": 100,
     "url": "https://www.python.org/"
    }
   },
   "name": "python3"
  },
  "language_info": {
   "codemirror_mode": {
    "name": "ipython",
    "version": 3
   },
   "file_extension": ".py",
   "mimetype": "text/x-python",
   "name": "python",
   "nbconvert_exporter": "python",
   "pygments_lexer": "ipython3",
   "version": "3.8.5"
  }
 },
 "nbformat": 4,
 "nbformat_minor": 4
}
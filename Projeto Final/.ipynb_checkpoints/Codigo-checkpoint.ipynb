{
 "cells": [
  {
   "cell_type": "markdown",
   "metadata": {},
   "source": [
    "# Projeto Final - PFSP TT - Dupla 09\n",
    "\n",
    "**Integrantes:**\n",
    "\n",
    "* Lucas Hideki Takeuchi Okamura NUSP: 9274315\n",
    "\n",
    "* Thales Arantes Kerche Nunes NUSP: 10769372\n",
    "\n",
    "**Objetivo**\n",
    "\n",
    "* Programar o algoritmo heurístico NEH, que busca minimizar o makespan em um flow shop com m máquinas\n",
    "\n",
    "**Descrição**\n",
    "\n",
    "O código roda o algoritmo de NEH, outro método para resolver o problema\n",
    "de máquinas em série. O algoritmo está explicitado no artigo \"A Heuristic \n",
    "Algorithm for the m-Machine, n-Job Flow-shop Sequencing Problem\", 1983, por \n",
    "Nawaz, Muhammad; Jr, E Emory Enscore; Ham, Inyong. Resumidamente, tem-se \n",
    "os passos abaixo:\n",
    "\n",
    "\t* Passo 1: Ordenar a lista de jobs em ordem decrescente do tempo total de processamento;\n",
    "\n",
    "\t* Passo 2: Retire os dois primeiros da lista ordenada e crie uma nova lista, teste as duas permutações, escolha a\n",
    "    permutação com menor makespan;\n",
    "\n",
    "\t* Passo 3: Retire o próximo job da lista ordenada, teste em todas as posições da nova lista, escolha a inserção\n",
    "    com menor makespan;\n",
    "\n",
    "\t* Passo 4: Repita o passo 3 até esvaziar a lista ordenada; a nova lista resultante será a solução do problema"
   ]
  },
  {
   "cell_type": "code",
   "execution_count": 1,
   "metadata": {
    "collapsed": false,
    "jupyter": {
     "outputs_hidden": false
    }
   },
   "outputs": [],
   "source": [
    "import xlwings as xw\n",
    "import numpy as np\n",
    "import random\n",
    "import math"
   ]
  },
  {
   "cell_type": "code",
   "execution_count": 2,
   "metadata": {
    "collapsed": false,
    "jupyter": {
     "outputs_hidden": false
    }
   },
   "outputs": [],
   "source": [
    "class Job:\n",
    "    def __init__(self, i: int, pi: list, di: int):\n",
    "        self.i=i     # número do job, pela ordem de chegada\n",
    "        self.p=pi     # processing time\n",
    "        self.p_total=sum(self.p)\n",
    "        self.d=di     # due date\n",
    "        self.C=0     # completion time\n",
    "        self.T=0     # tardiness"
   ]
  },
  {
   "cell_type": "code",
   "execution_count": 3,
   "metadata": {
    "collapsed": false,
    "jupyter": {
     "outputs_hidden": false
    }
   },
   "outputs": [],
   "source": [
    "def leInst(sheet_num: int) -> (int, int, list):\n",
    "    pl1 = wb1.sheets[sheet_num]\n",
    "    m=int(pl1.range('B5').value)     # converter em inteiro\n",
    "    n=int(pl1.range('B6').value)     # converter em inteiro\n",
    "    tab1=pl1.range('B11').options(expand='table', numbers=int).value     # ler como tabela e inteiros\n",
    "    print()\n",
    "    print('n =',n)\n",
    "    print('m =',m)\n",
    "    print('dados =',tab1)\n",
    "    jobs=[]\n",
    "    for i in range(n):\n",
    "        pi=tab1[i][:-1]\n",
    "        di=tab1[i][-1]\n",
    "        jobs.append(Job(i,pi,di))\n",
    "\n",
    "    return m,n,jobs"
   ]
  },
  {
   "cell_type": "code",
   "execution_count": 4,
   "metadata": {
    "collapsed": false,
    "jupyter": {
     "outputs_hidden": false
    }
   },
   "outputs": [],
   "source": [
    "def gravaSched(i: int,jobs: list,dados: dict):\n",
    "    n=len(jobs)\n",
    "    m=len(jobs[0].p)\n",
    "    tab=[]\n",
    "    for job in jobs:\n",
    "        a=[job.i+1]+job.p+job.C+[job.d]+[job.T]\n",
    "        tab.append(a)\n",
    "\n",
    "    if i==0:\n",
    "        plan=wb2.sheets[0]\n",
    "        plan.name='I(1)'\n",
    "    else:\n",
    "        plan=wb2.sheets.add('I('+str(i+1)+')',after=i)\n",
    "\n",
    "    plan.range('A5').value=['m',m]\n",
    "    plan.range('A6').value=['n',n]\n",
    "    plan.range('E2').value=['Cmax',dados['Cmax']]\n",
    "    plan.range('E3').value=['Fbar',dados['Fbar']]\n",
    "    plan.range('E4').value=['TT',dados['TT']]\n",
    "    plan.range('E5').value=['Tmax',dados['Tmax']]\n",
    "    plan.range('E6').value=['nT',dados['nT']]\n",
    "    plan.range('A10').value=['#','p1','p2', 'p3', 'p4', 'p5','C1','C2','C3','C4','C5', 'd', 'T']\n",
    "    plan.range('A11').value=tab"
   ]
  },
  {
   "cell_type": "code",
   "execution_count": 5,
   "metadata": {
    "collapsed": false,
    "jupyter": {
     "outputs_hidden": false
    }
   },
   "outputs": [],
   "source": [
    "def calcCmax(m: int,jobs: list) -> int:     # esta função calcula os tempos de conclusão dos jobs nas m máquinas\n",
    "    n=len(jobs)\n",
    "    c=[[0 for i in range(m)] for j in range(n)]\n",
    "    p=[job.p for job in jobs]\n",
    "\n",
    "    # primeiro job\n",
    "    c[0][0]=p[0][0]     # primeira máquina\n",
    "    for k in range(1,m):     # próximas máquinas\n",
    "        c[0][k]=c[0][k-1]+p[0][k]\n",
    "\n",
    "    # próximos jobs\n",
    "    for j in range(1,n):\n",
    "        c[j][0]=c[j-1][0]+p[j][0]     # primeira máquina\n",
    "        for k in range(1,m):     # próximas máquinas\n",
    "            c[j][k]=max(c[j][k-1],c[j-1][k])+p[j][k]\n",
    "\n",
    "    j=0\n",
    "    for job in jobs:\n",
    "        job.C=c[j]\n",
    "        j+=1\n",
    "\n",
    "    return c[-1][-1]\n",
    "\n",
    "def calculate_final_values(jobs: list, m: int = 5) -> (dict, list):\n",
    "\n",
    "    Cmax = calcCmax(m, jobs)\n",
    "    TT = nT = Fbar = Tmax = 0\n",
    "    for job in jobs:\n",
    "        job.T = max(0, job.C[-1] - job.d)\n",
    "        TT += job.T\n",
    "        Fbar += job.C[-1]\n",
    "        if job.T > 0:\n",
    "            nT += 1\n",
    "            Tmax = max(Tmax, job.T)\n",
    "\n",
    "    Fbar = Fbar/len(jobs)\n",
    "\n",
    "    return {'Cmax': Cmax, 'Fbar': Fbar, 'TT': TT, 'Tmax': Tmax, 'nT': nT}, jobs\n",
    "\n",
    "def findBestPerm(jobs: list, job_insert: Job, m: int = 5) -> (dict, list):\n",
    "\n",
    "    minTardiness = np.inf\n",
    "\n",
    "    for j in range(len(jobs) + 1):\n",
    "        totTardiness = 0\n",
    "        jobs.insert(j, job_insert)\n",
    "        dados, jobs = calculate_final_values(jobs)\n",
    "        if dados['TT'] < minTardiness:\n",
    "            bestPos = j\n",
    "            minTardiness = dados['TT']\n",
    "        jobs.pop(j)\n",
    "    jobs.insert(bestPos, job_insert)\n",
    "\n",
    "    dados, jobs = calculate_final_values(jobs)\n",
    "\n",
    "    return dados, jobs"
   ]
  },
  {
   "cell_type": "code",
   "execution_count": 6,
   "metadata": {
    "collapsed": false,
    "jupyter": {
     "outputs_hidden": false
    }
   },
   "outputs": [],
   "source": [
    "def schedNEHedd(jobs: list, m: int = 5) -> (list, int):\n",
    "    n = len(jobs)\n",
    "    jobs.sort(key = lambda job: job.d, reverse = False)\n",
    "    jobs1 = [jobs[0]]\n",
    "\n",
    "    for k in range(1, n):\n",
    "        dados, jobs1 = findBestPerm(jobs1, jobs[k])\n",
    "\n",
    "    dados, _ = calculate_final_values(jobs1)\n",
    "\n",
    "    return jobs1, dados"
   ]
  },
  {
   "cell_type": "code",
   "execution_count": 7,
   "metadata": {
    "collapsed": false,
    "jupyter": {
     "outputs_hidden": false
    }
   },
   "outputs": [],
   "source": [
    "def schedLS(jobs: list, bestTT: int, m: int = 5) -> (list, int):\n",
    "\n",
    "    melhoria = True\n",
    "    aux_jobs = jobs[:]\n",
    "    while melhoria:\n",
    "        melhoria = False\n",
    "        jotas = list(range(len(aux_jobs)))\n",
    "        random.shuffle(jotas)\n",
    "\n",
    "        for j1 in jotas:\n",
    "            job1 = aux_jobs.pop(j1)\n",
    "            bestPos = j1\n",
    "\n",
    "            for j2 in range(len(aux_jobs)+1):\n",
    "                aux_jobs.insert(j2, job1)\n",
    "                dados, aux_jobs = calculate_final_values(aux_jobs)\n",
    "\n",
    "                if dados['TT'] < bestTT:\n",
    "                    bestPos = j2\n",
    "                    melhoria = True\n",
    "                    bestTT = dados['TT']\n",
    "                    # break\n",
    "                aux_jobs.pop(j2)\n",
    "            # if melhoria:\n",
    "            #     break\n",
    "            aux_jobs.insert(bestPos, job1)\n",
    "\n",
    "    dados, aux_jobs = calculate_final_values(aux_jobs)\n",
    "\n",
    "    return aux_jobs, dados"
   ]
  },
  {
   "cell_type": "code",
   "execution_count": 8,
   "metadata": {
    "collapsed": false,
    "jupyter": {
     "outputs_hidden": false
    }
   },
   "outputs": [],
   "source": [
    "def Temperatura(T: float, jobs: list, n: int = 20, m: int = 5) -> float:\n",
    "    return (T*sum([job.p_total for job in jobs])/(10*n*m))\n",
    "\n",
    "def schedIG(jobs: list, T: float = 0.5, d: int = 3, m: int = 5) -> (list, dict):\n",
    "\n",
    "    jobs_b = jobs[:]\n",
    "    for _ in range(100):\n",
    "\n",
    "        jobs_linha = jobs[:]\n",
    "        retirados = random.sample(jobs_linha, d)\n",
    "        for item in retirados:\n",
    "            jobs_linha.remove(item)\n",
    "        for new_job in retirados:\n",
    "            dados, jobs_linha = findBestPerm(jobs_linha, new_job, m)\n",
    "\n",
    "        if dados['TT'] < calculate_final_values(jobs)[0]['TT'] or random.random() <= math.exp(-(dados['TT']-calculate_final_values(jobs)[0]['TT'])/Temperatura(T, jobs)):\n",
    "            jobs = jobs_linha[:]\n",
    "#             if calcCmax(m, jobs) < calcCmax(m, jobs_b):\n",
    "#                 jobs_b = jobs[:]\n",
    "#         elif random.random() <= math.exp(-(newCmax-calcCmax(m, jobs))/Temperatura(T, jobs)):\n",
    "#             jobs = jobs_linha[:]\n",
    "\n",
    "    dados, jobs = calculate_final_values(jobs)\n",
    "\n",
    "    return jobs, dados"
   ]
  },
  {
   "cell_type": "markdown",
   "metadata": {},
   "source": [
    "# Testes"
   ]
  },
  {
   "cell_type": "code",
   "execution_count": 12,
   "metadata": {
    "collapsed": false,
    "jupyter": {
     "outputs_hidden": false
    }
   },
   "outputs": [
    {
     "name": "stdout",
     "output_type": "stream",
     "text": [
      "\n",
      "1\n",
      "\n",
      "n = 20\n",
      "m = 5\n",
      "dados = [[58, 60, 88, 14, 46, 816], [34, 33, 17, 67, 15, 613], [54, 25, 93, 60, 2, 929], [19, 84, 25, 47, 8, 895], [24, 45, 25, 16, 11, 1067], [21, 69, 93, 22, 71, 967], [64, 43, 48, 83, 39, 1233], [37, 43, 18, 46, 13, 723], [26, 57, 34, 5, 18, 821], [82, 14, 98, 27, 14, 1116], [84, 43, 96, 67, 81, 915], [75, 87, 45, 11, 44, 1229], [73, 27, 32, 9, 79, 703], [24, 94, 39, 23, 95, 813], [49, 54, 8, 70, 97, 782], [27, 61, 55, 87, 35, 853], [98, 8, 90, 15, 55, 882], [51, 93, 80, 86, 35, 1286], [83, 87, 25, 94, 80, 843], [12, 80, 12, 49, 38, 707]]\n",
      "{'Cmax': 1440, 'Fbar': 830.1, 'TT': 693, 'Tmax': 174, 'nT': 7}\n",
      "\n",
      "2\n",
      "\n",
      "n = 20\n",
      "m = 5\n",
      "dados = [[96, 12, 54, 58, 95, 805], [68, 46, 39, 53, 90, 1028], [26, 87, 24, 1, 13, 937], [23, 50, 2, 24, 34, 672], [66, 63, 16, 90, 9, 917], [83, 38, 41, 21, 34, 868], [31, 13, 17, 55, 71, 750], [63, 76, 77, 70, 95, 1069], [19, 80, 86, 46, 54, 903], [44, 78, 3, 94, 66, 760], [89, 58, 17, 27, 28, 994], [49, 78, 63, 52, 28, 1217], [32, 41, 76, 86, 86, 887], [77, 34, 5, 73, 91, 1013], [33, 29, 8, 67, 36, 762], [24, 17, 37, 79, 44, 808], [85, 92, 21, 54, 7, 938], [49, 42, 13, 51, 67, 745], [84, 90, 27, 85, 86, 809], [98, 67, 13, 55, 57, 657]]\n",
      "{'Cmax': 1503, 'Fbar': 850.25, 'TT': 1550, 'Tmax': 434, 'nT': 8}\n",
      "\n",
      "3\n",
      "\n",
      "n = 20\n",
      "m = 5\n",
      "dados = [[40, 11, 79, 15, 64, 1240], [99, 23, 86, 56, 47, 842], [33, 25, 68, 7, 17, 895], [50, 80, 44, 86, 63, 1059], [44, 70, 75, 59, 38, 1200], [92, 20, 40, 24, 80, 880], [7, 12, 58, 89, 86, 1254], [17, 22, 35, 24, 8, 1238], [93, 28, 34, 9, 95, 987], [30, 24, 7, 70, 18, 1008], [37, 46, 4, 89, 68, 748], [28, 42, 80, 74, 8, 1149], [32, 10, 99, 78, 85, 1167], [12, 15, 81, 3, 3, 617], [48, 49, 53, 35, 23, 1146], [83, 51, 11, 26, 95, 940], [91, 79, 25, 47, 17, 1019], [87, 41, 64, 10, 91, 1057], [10, 8, 48, 61, 13, 698], [15, 15, 24, 85, 83, 814]]\n",
      "{'Cmax': 1395, 'Fbar': 856.6, 'TT': 369, 'Tmax': 155, 'nT': 7}\n",
      "\n",
      "4\n",
      "\n",
      "n = 20\n",
      "m = 5\n",
      "dados = [[46, 64, 7, 43, 98, 1183], [55, 36, 70, 49, 97, 830], [7, 13, 88, 6, 48, 646], [12, 27, 59, 6, 93, 885], [63, 4, 42, 57, 24, 734], [61, 27, 18, 12, 56, 902], [80, 85, 10, 8, 2, 581], [6, 2, 20, 91, 18, 1136], [9, 19, 43, 77, 8, 612], [73, 54, 33, 92, 67, 899], [98, 90, 74, 24, 94, 673], [21, 56, 23, 48, 25, 658], [7, 58, 28, 92, 93, 878], [64, 90, 9, 74, 20, 1086], [17, 34, 5, 37, 12, 684], [37, 1, 50, 87, 83, 1246], [50, 6, 95, 62, 20, 952], [31, 40, 53, 7, 58, 1088], [53, 76, 21, 5, 81, 596], [94, 5, 28, 39, 46, 809]]\n",
      "{'Cmax': 1340, 'Fbar': 722.75, 'TT': 312, 'Tmax': 94, 'nT': 7}\n",
      "\n",
      "5\n",
      "\n",
      "n = 20\n",
      "m = 5\n",
      "dados = [[46, 28, 44, 49, 38, 660], [94, 15, 6, 95, 79, 1162], [98, 93, 55, 47, 55, 980], [13, 15, 46, 59, 52, 1278], [50, 48, 7, 16, 47, 769], [82, 7, 45, 53, 74, 677], [27, 91, 10, 95, 11, 1031], [54, 21, 60, 95, 59, 927], [86, 67, 62, 85, 20, 996], [6, 24, 25, 76, 65, 1217], [84, 75, 82, 84, 39, 1202], [66, 79, 16, 80, 91, 775], [75, 64, 46, 23, 19, 783], [32, 52, 67, 71, 29, 920], [30, 43, 1, 5, 8, 665], [8, 21, 4, 38, 35, 667], [21, 57, 80, 8, 2, 642], [54, 75, 74, 61, 78, 1324], [92, 83, 82, 59, 83, 1124], [44, 30, 61, 99, 17, 1348]]\n",
      "{'Cmax': 1425, 'Fbar': 771.8, 'TT': 351, 'Tmax': 85, 'nT': 6}\n",
      "\n",
      "6\n",
      "\n",
      "n = 20\n",
      "m = 5\n",
      "dados = [[77, 6, 35, 78, 68, 589], [47, 91, 70, 45, 23, 830], [64, 2, 2, 63, 51, 980], [9, 38, 3, 25, 33, 666], [30, 3, 95, 9, 53, 888], [85, 22, 83, 1, 10, 1240], [83, 25, 67, 70, 13, 752], [33, 71, 30, 23, 17, 800], [63, 94, 70, 47, 93, 895], [74, 22, 52, 97, 41, 775], [69, 10, 60, 42, 59, 782], [63, 32, 11, 20, 4, 664], [3, 26, 73, 45, 58, 796], [40, 27, 13, 17, 71, 1034], [72, 79, 36, 99, 33, 808], [36, 65, 95, 12, 30, 1068], [30, 20, 88, 34, 26, 786], [85, 97, 34, 18, 24, 643], [98, 39, 39, 49, 77, 604], [33, 81, 69, 7, 46, 667]]\n",
      "{'Cmax': 1398, 'Fbar': 739.75, 'TT': 1299, 'Tmax': 503, 'nT': 8}\n",
      "\n",
      "7\n",
      "\n",
      "n = 20\n",
      "m = 5\n",
      "dados = [[93, 82, 81, 41, 81, 834], [42, 5, 64, 27, 26, 678], [77, 16, 47, 11, 16, 1347], [74, 42, 4, 7, 47, 665], [77, 47, 91, 96, 90, 645], [4, 22, 77, 5, 12, 1151], [81, 61, 46, 19, 33, 1048], [71, 83, 69, 51, 84, 877], [96, 64, 54, 30, 98, 945], [45, 4, 95, 31, 35, 1194], [34, 45, 18, 68, 59, 958], [21, 65, 39, 61, 57, 1325], [17, 25, 32, 86, 76, 1065], [58, 96, 15, 60, 36, 991], [46, 86, 1, 1, 44, 667], [71, 83, 84, 63, 59, 1407], [66, 29, 91, 46, 93, 1228], [95, 73, 64, 50, 14, 749], [68, 30, 22, 11, 7, 1396], [84, 63, 71, 25, 57, 1136]]\n",
      "{'Cmax': 1570, 'Fbar': 906.2, 'TT': 428, 'Tmax': 342, 'nT': 5}\n",
      "\n",
      "8\n",
      "\n",
      "n = 20\n",
      "m = 5\n",
      "dados = [[21, 15, 23, 42, 83, 1109], [35, 22, 14, 89, 15, 1296], [51, 79, 7, 8, 99, 666], [20, 99, 30, 60, 54, 999], [75, 50, 38, 75, 73, 1029], [40, 50, 93, 98, 67, 1282], [14, 1, 53, 27, 9, 1288], [66, 8, 3, 49, 31, 982], [12, 71, 22, 78, 31, 1198], [23, 12, 51, 96, 98, 776], [8, 2, 4, 10, 4, 686], [70, 39, 67, 18, 23, 765], [64, 92, 74, 61, 76, 944], [56, 10, 25, 28, 96, 1246], [79, 92, 89, 98, 47, 742], [32, 1, 94, 43, 17, 714], [12, 46, 86, 14, 31, 1041], [51, 22, 36, 9, 37, 1073], [51, 51, 9, 19, 98, 681], [51, 34, 2, 75, 99, 1046]]\n",
      "{'Cmax': 1403, 'Fbar': 876.45, 'TT': 392, 'Tmax': 157, 'nT': 11}\n",
      "\n",
      "9\n",
      "\n",
      "n = 20\n",
      "m = 5\n",
      "dados = [[66, 73, 83, 96, 24, 1189], [69, 99, 84, 96, 95, 1353], [26, 4, 65, 62, 59, 1370], [92, 14, 5, 40, 5, 736], [55, 20, 45, 74, 31, 678], [4, 24, 7, 79, 41, 1271], [57, 71, 59, 4, 46, 1132], [52, 71, 71, 88, 87, 1298], [94, 55, 18, 70, 25, 1400], [43, 17, 12, 77, 16, 1396], [44, 62, 63, 80, 64, 1001], [96, 49, 77, 71, 89, 1331], [18, 9, 17, 41, 38, 1092], [91, 92, 13, 74, 80, 1221], [16, 84, 21, 53, 88, 747], [32, 93, 65, 30, 25, 1037], [45, 22, 14, 94, 16, 1027], [80, 5, 89, 28, 69, 1215], [30, 26, 73, 45, 1, 975], [71, 71, 57, 35, 44, 864]]\n",
      "{'Cmax': 1406, 'Fbar': 826.9, 'TT': 10, 'Tmax': 10, 'nT': 1}\n",
      "\n",
      "10\n",
      "\n",
      "n = 20\n",
      "m = 5\n",
      "dados = [[69, 81, 12, 13, 3, 1123], [15, 26, 3, 1, 56, 823], [88, 54, 36, 41, 17, 910], [53, 72, 53, 39, 44, 925], [57, 57, 91, 80, 13, 1020], [45, 71, 86, 89, 37, 695], [45, 95, 47, 94, 5, 1199], [82, 31, 96, 47, 73, 714], [21, 44, 61, 82, 38, 1016], [57, 31, 51, 24, 1, 743], [49, 22, 75, 39, 36, 907], [73, 81, 44, 14, 33, 1032], [40, 37, 41, 60, 72, 1095], [19, 72, 16, 40, 72, 1067], [46, 44, 58, 21, 26, 1161], [7, 39, 24, 54, 14, 593], [41, 17, 2, 46, 5, 1049], [11, 92, 34, 3, 10, 1205], [65, 99, 56, 10, 87, 1062], [46, 75, 83, 3, 96, 828]]\n",
      "{'Cmax': 1289, 'Fbar': 769.3, 'TT': 208, 'Tmax': 84, 'nT': 4}\n"
     ]
    }
   ],
   "source": [
    "wb1 = xw.Book('xl15 2 A PFSP TT.xlsx')\n",
    "wb2 = xw.Book()\n",
    "I = wb1.sheets.count     # número de instância é igual ao número de planilhas na pasta\n",
    "iteracoes = 3\n",
    "d = 3\n",
    "T = 0.1\n",
    "\n",
    "for i in range(I):\n",
    "    print()\n",
    "    print(i+1)\n",
    "    m, n, jobs_i = leInst(i)\n",
    "\n",
    "    jobs, dados = schedNEHedd(jobs_i[:], m)\n",
    "\n",
    "    jobs, dados1 = schedLS(jobs, dados['TT'], m)\n",
    "\n",
    "    best_jobs, best_dados = schedIG(jobs, T, d, m)\n",
    "\n",
    "    for k in range(iteracoes-1):\n",
    "\n",
    "        jobs, dados = schedNEHedd(jobs_i[:], m)\n",
    "\n",
    "        jobs, dados1 = schedLS(jobs, dados['TT'], m)\n",
    "\n",
    "        jobs, dados2 = schedIG(jobs, T, d, m)\n",
    "\n",
    "        if dados2['TT'] < best_dados['TT']:\n",
    "            best_dados = dados2\n",
    "            best_jobs = jobs\n",
    "    print(best_dados)\n",
    "\n",
    "#     gravaSched(i, jobs, dados2)"
   ]
  },
  {
   "cell_type": "code",
   "execution_count": null,
   "metadata": {},
   "outputs": [],
   "source": []
  },
  {
   "cell_type": "code",
   "execution_count": 10,
   "metadata": {},
   "outputs": [],
   "source": [
    "import gurobipy as grb"
   ]
  },
  {
   "cell_type": "code",
   "execution_count": 10,
   "metadata": {},
   "outputs": [],
   "source": [
    "def schedGurobi(jobs: list, m: int = 5) -> (list, int, float, float):\n",
    "    \n",
    "    n = len(jobs)\n",
    "    \n",
    "    #Cria o modelo para a intância que será rodada\n",
    "    mPFSP = grb.Model(name=\"Permutation Flow Shop Problem\")\n",
    "    x = mPFSP.addVars(n, n, vtype=grb.GRB.BINARY, name='x')\n",
    "    s = mPFSP.addVars(n, m, vtype=grb.GRB.CONTINUOUS, lb=0, name='s')\n",
    "    c = mPFSP.addVars(n, m, vtype=grb.GRB.CONTINUOUS, lb=0, name='c')\n",
    "    T = mPFSP.addVars(n, vtype=grb.GRB.CONTINUOUS, lb=0, name='T')\n",
    "    TT = mPFSP.addVar(vtype=grb.GRB.CONTINUOUS, lb=0, name='TT')\n",
    "    mPFSP.update()\n",
    "\n",
    "    #coloca as constraints necessárias para a otimização\n",
    "    mPFSP.addConstrs((s[j,k] - c[j,k] + grb.quicksum(jobs[i].p[k]*x[i,j] for i in range(n)) <= 0 for k in range(m) for j in range(n)), name='r1')\n",
    "    mPFSP.addConstrs((s[j,k]-c[j-1,k]>=0 for k in range(m) for j in range(1, n)), name='r2')\n",
    "    mPFSP.addConstrs((s[j,k]-c[j,k-1]>=0 for k in range(1, m) for j in range(n)), name='r3')\n",
    "    mPFSP.addConstrs((grb.quicksum(x[i,j] for i in range(n)) == 1  for j in range(n)), name='r4')\n",
    "    mPFSP.addConstrs((grb.quicksum(x[i,j] for j in range(n)) == 1  for i in range(n)), name='r5')\n",
    "    mPFSP.addConstrs((T[i] >= c[i,m-1]-jobs[i].d for i in range(n)), name='r6')\n",
    "    mPFSP.addConstr(TT >= grb.quicksum(T[i] for i in range(n)))\n",
    "    mPFSP.update()\n",
    "    \n",
    "    #define o objetivo\n",
    "    mPFSP.ModelSense = grb.GRB.MINIMIZE\n",
    "    mPFSP.setObjective(TT)\n",
    "    mPFSP.update()\n",
    "    \n",
    "    #otimiza o modelo e recupera as informações relevantes\n",
    "    mPFSP.optimize()\n",
    "    runtime = mPFSP.Runtime\n",
    "    TT = round(mPFSP.objVal)\n",
    "    gap = mPFSP.MIPGap\n",
    "    \n",
    "    #pega a posição ideal de cada job do modelo, e \n",
    "    pos = np.reshape(mPFSP.getVars()[:n*n], (n, n))\n",
    "    for i in range(n):\n",
    "        for j in range(n):\n",
    "            if pos[i, j].x > 0.999:\n",
    "                jobs[i].bestPos = j\n",
    "                break\n",
    "\n",
    "    jobs.sort(key=lambda job: job.bestPos)\n",
    "    print([job.i+1 for job in jobs])\n",
    "    _ = calcCmax(m, jobs)\n",
    "    \n",
    "    return jobs, TT, runtime, gap"
   ]
  },
  {
   "cell_type": "code",
   "execution_count": 11,
   "metadata": {},
   "outputs": [],
   "source": [
    "def gravaSchedGurobi(i: int,jobs: list,TT: int, m: int, Runtime: float, Gap: float):\n",
    "    n=len(jobs)\n",
    "    tab=[]\n",
    "    for job in jobs:\n",
    "        a=[job.i+1]+job.p+job.C+[job.d]\n",
    "        tab.append(a)\n",
    "\n",
    "    if i==0:\n",
    "        plan=wb2.sheets[0]\n",
    "        plan.name='I(1)'\n",
    "    else:\n",
    "        plan=wb2.sheets.add('I('+str(i+1)+')',after=i)\n",
    "        \n",
    "    plan.range('A5').value=['m',m]\n",
    "    plan.range('A6').value=['n',n]\n",
    "    plan.range('E5').value=['TT',TT]\n",
    "    plan.range('H5').value=['Runtime',Runtime]\n",
    "    plan.range('H6').value=['Gap',Gap]\n",
    "    plan.range('A10').value=['#','p1','p2', 'p3', 'p4', 'p5','C1','C2','C3','C4','C5','d']\n",
    "    plan.range('A11').value=tab\n",
    "\n",
    "    print()\n",
    "    print('TT (I('+str(i+1)+')): ', TT)\n",
    "    print()\n",
    "    print()"
   ]
  },
  {
   "cell_type": "code",
   "execution_count": 12,
   "metadata": {},
   "outputs": [],
   "source": [
    "wb1 = xw.Book(\"xl15 2 A PFSP TT.xlsx\")\n",
    "wb2 = xw.Book()\n",
    "I = wb1.sheets.count"
   ]
  },
  {
   "cell_type": "code",
   "execution_count": null,
   "metadata": {},
   "outputs": [],
   "source": [
    "for i in range(1):\n",
    "    print()\n",
    "    print(i+1)\n",
    "    m,n,jobs=leInst(i)\n",
    "\n",
    "    jobs, TT, runtime, gap = schedGurobi(jobs)\n",
    "\n",
    "#     gravaSchedGurobi(i, jobs, TT, m, runtime, gap)"
   ]
  }
 ],
 "metadata": {
  "kernelspec": {
   "display_name": "Python 3",
   "language": "python",
   "name": "python3"
  },
  "language_info": {
   "codemirror_mode": {
    "name": "ipython",
    "version": 3
   },
   "file_extension": ".py",
   "mimetype": "text/x-python",
   "name": "python",
   "nbconvert_exporter": "python",
   "pygments_lexer": "ipython3",
   "version": "3.7.9"
  }
 },
 "nbformat": 4,
 "nbformat_minor": 4
}

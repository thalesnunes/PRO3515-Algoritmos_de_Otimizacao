{
 "cells": [
  {
   "cell_type": "markdown",
   "metadata": {},
   "source": [
    "## Gantt PFSP"
   ]
  },
  {
   "cell_type": "code",
   "execution_count": 1,
   "metadata": {},
   "outputs": [],
   "source": [
    "import matplotlib.pyplot as plt\n",
    "import numpy as np\n",
    "import pandas as pd"
   ]
  },
  {
   "cell_type": "markdown",
   "metadata": {},
   "source": [
    "|-|M1|M2|M3|\n",
    "|---|---|---|---|\n",
    "|**J1**|16|18|12|\n",
    "|**J2**|14|10|11|\n",
    "|**J3**|13|20|15|\n",
    "|**J4**|19|15|19|\n",
    "|**J5**|15|16|16|"
   ]
  },
  {
   "cell_type": "code",
   "execution_count": 2,
   "metadata": {},
   "outputs": [
    {
     "name": "stdout",
     "output_type": "stream",
     "text": [
      "3 5\n",
      "[[16, 18, 12], [14, 10, 11], [13, 20, 15], [19, 15, 19], [15, 16, 16]]\n"
     ]
    }
   ],
   "source": [
    "m=3\n",
    "n=5\n",
    "p=[[16,18,12],\n",
    "   [14,10,11],\n",
    "   [13,20,15],\n",
    "   [19,15,19],\n",
    "   [15,16,16]]\n",
    "\n",
    "print(m,n)\n",
    "print(p)"
   ]
  },
  {
   "cell_type": "code",
   "execution_count": 3,
   "metadata": {},
   "outputs": [
    {
     "name": "stdout",
     "output_type": "stream",
     "text": [
      "[[0. 0. 0.]\n",
      " [0. 0. 0.]\n",
      " [0. 0. 0.]\n",
      " [0. 0. 0.]\n",
      " [0. 0. 0.]]\n",
      "[[0. 0. 0.]\n",
      " [0. 0. 0.]\n",
      " [0. 0. 0.]\n",
      " [0. 0. 0.]\n",
      " [0. 0. 0.]]\n"
     ]
    }
   ],
   "source": [
    "s=np.zeros((n,m))\n",
    "c=np.zeros((n,m))\n",
    "print(s)\n",
    "print(c)"
   ]
  },
  {
   "cell_type": "code",
   "execution_count": 4,
   "metadata": {},
   "outputs": [
    {
     "name": "stdout",
     "output_type": "stream",
     "text": [
      "[[  0.  16.  34.]\n",
      " [ 16.  40.  57.]\n",
      " [ 30.  63.  83.]\n",
      " [ 43.  77. 111.]\n",
      " [ 62.  93. 125.]]\n",
      "[[ 16.  34.  46.]\n",
      " [ 30.  50.  68.]\n",
      " [ 43.  83.  98.]\n",
      " [ 62.  92. 130.]\n",
      " [ 77. 109. 141.]]\n"
     ]
    }
   ],
   "source": [
    "s[0][0]=0.0\n",
    "c[0][0]=s[0][0]+p[0][0]\n",
    "for k in range(1,m):\n",
    "    s[0][k]=c[0][k-1]\n",
    "    c[0][k]=s[0][k]+p[0][k]\n",
    "for j in range(1,n):\n",
    "    s[j][0]=c[j-1][0]\n",
    "    c[j][0]=s[j][0]+p[j][0]\n",
    "    for k in range(1,m):\n",
    "        s[j][k]=min(c[j][k-1],c[j-1][k])+p[j][k]\n",
    "        c[j][k]=s[j][k]+p[j][k]\n",
    "\n",
    "print(s)\n",
    "print(c)"
   ]
  },
  {
   "cell_type": "markdown",
   "metadata": {},
   "source": [
    "..."
   ]
  },
  {
   "cell_type": "markdown",
   "metadata": {},
   "source": [
    "### Gantt com Pandas"
   ]
  },
  {
   "cell_type": "code",
   "execution_count": 5,
   "metadata": {},
   "outputs": [
    {
     "name": "stdout",
     "output_type": "stream",
     "text": [
      "    0  1  2  3  4  5\n",
      "M1  0  3  0  1  0  3\n",
      "M2  3  2  0  1  1  3\n"
     ]
    }
   ],
   "source": [
    "tab = pd.DataFrame({'0': [0,3], '1': [3,2], '2': [0,0],'3': [1,1],'4': [0,1],'5': [3,3]}, index=['M1','M2'])\n",
    "print(tab)"
   ]
  },
  {
   "cell_type": "code",
   "execution_count": 6,
   "metadata": {},
   "outputs": [
    {
     "data": {
      "text/plain": [
       "<matplotlib.axes._subplots.AxesSubplot at 0x1e3af677940>"
      ]
     },
     "execution_count": 6,
     "metadata": {},
     "output_type": "execute_result"
    },
    {
     "data": {
      "image/png": "[encoded data removed]",
      "text/plain": [
       "<Figure size 432x288 with 1 Axes>"
      ]
     },
     "metadata": {
      "needs_background": "light"
     },
     "output_type": "display_data"
    }
   ],
   "source": [
    "tab.plot.barh(stacked=True)"
   ]
  },
  {
   "cell_type": "code",
   "execution_count": 7,
   "metadata": {},
   "outputs": [
    {
     "data": {
      "text/plain": [
       "['w', 'b', 'w', 'b', 'w', 'b']"
      ]
     },
     "execution_count": 7,
     "metadata": {},
     "output_type": "execute_result"
    }
   ],
   "source": [
    "colors=['w', 'b', 'w', 'b', 'w', 'b']\n",
    "colors"
   ]
  },
  {
   "cell_type": "code",
   "execution_count": 8,
   "metadata": {},
   "outputs": [
    {
     "data": {
      "text/plain": [
       "<matplotlib.axes._subplots.AxesSubplot at 0x1e3af51b828>"
      ]
     },
     "execution_count": 8,
     "metadata": {},
     "output_type": "execute_result"
    },
    {
     "data": {
      "image/png": "[encoded data removed]",
      "text/plain": [
       "<Figure size 432x288 with 1 Axes>"
      ]
     },
     "metadata": {
      "needs_background": "light"
     },
     "output_type": "display_data"
    }
   ],
   "source": [
    "tab.plot.barh(stacked=True, color=colors, edgecolor = 'black')"
   ]
  },
  {
   "cell_type": "code",
   "execution_count": null,
   "metadata": {},
   "outputs": [],
   "source": []
  }
 ],
 "metadata": {
  "kernelspec": {
   "display_name": "Python 3",
   "language": "python",
   "name": "python3"
  },
  "language_info": {
   "codemirror_mode": {
    "name": "ipython",
    "version": 3
   },
   "file_extension": ".py",
   "mimetype": "text/x-python",
   "name": "python",
   "nbconvert_exporter": "python",
   "pygments_lexer": "ipython3",
   "version": "3.7.9"
  }
 },
 "nbformat": 4,
 "nbformat_minor": 4
}

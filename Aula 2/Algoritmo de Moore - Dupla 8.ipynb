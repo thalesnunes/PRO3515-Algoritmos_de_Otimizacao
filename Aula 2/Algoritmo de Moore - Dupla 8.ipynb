{
 "metadata": {
  "language_info": {
   "codemirror_mode": {
    "name": "ipython",
    "version": 3
   },
   "file_extension": ".py",
   "mimetype": "text/x-python",
   "name": "python",
   "nbconvert_exporter": "python",
   "pygments_lexer": "ipython3",
   "version": "3.7.7-final"
  },
  "orig_nbformat": 2,
  "kernelspec": {
   "name": "python_defaultSpec_1598704204176",
   "display_name": "Python 3.7.7 64-bit ('base': conda)"
  }
 },
 "nbformat": 4,
 "nbformat_minor": 2,
 "cells": [
  {
   "cell_type": "markdown",
   "metadata": {},
   "source": [
    "# PRO3515 - Algoritmo de Moore\n",
    "\n",
    "\n",
    "## Dupla 8\n",
    "\n",
    "### Nomes: \n",
    "### Lucas Hideki Takeuchi Okamura NUSP:  9274315\n",
    "### Thales Arantes Kerche Nunes   NUSP: 10769372\n",
    "\n"
   ]
  },
  {
   "cell_type": "markdown",
   "metadata": {},
   "source": [
    "### 1. Definindo a classe Job para termos melhor organização dos dados de cada job"
   ]
  },
  {
   "cell_type": "code",
   "execution_count": 64,
   "metadata": {},
   "outputs": [],
   "source": [
    "class Job:\n",
    "    def __init__(self,i,pi,di):\n",
    "        self.i = i     # número do job, pela ordem de chegada\n",
    "        self.p = pi     # processing time\n",
    "        self.d = di     # due date\n",
    "        self.C = 0.0     # completion time\n",
    "        self.T = 0.0     # tardiness\n",
    "    \n",
    "    def __str__(self):   # para que quando dermos print() ele imprima de forma legível\n",
    "        return 'Job #{}, p = {}, d = {}, C = {}, T = {}'.format(self.i, self.p, self.d, self.C, self.T)"
   ]
  },
  {
   "cell_type": "markdown",
   "metadata": {},
   "source": [
    "### 2. Definindo funções auxiliares que vamos usar repetidamente, como o cálculo do término dos jobs e o processo de achar um job atrasado e remover o de maior duração"
   ]
  },
  {
   "cell_type": "code",
   "execution_count": 65,
   "metadata": {},
   "outputs": [],
   "source": [
    "def calc_completion(jobs):\n",
    "    jobs[0].C = jobs[0].p\n",
    "    for j in range(1, len(jobs)):\n",
    "        jobs[j].C = jobs[j-1].C + jobs[j].p\n",
    "    return jobs\n",
    "\n",
    "def find_tardiness(jobs, B):\n",
    "    for i in range(len(jobs)):\n",
    "        if jobs[i].T > 0:\n",
    "            highest_value = max([job.p for job in jobs[:i+1]])\n",
    "            job_remove = [job for job in jobs[:i+1] if job.p == highest_value][0]\n",
    "            B.append(job_remove)\n",
    "            jobs.remove(job_remove)\n",
    "            break\n",
    "    return jobs, B\n",
    "\n",
    "def calculate_final_values(jobs):\n",
    "\n",
    "    TT = nT = Fbar = Tmax = 0\n",
    "    for job in jobs:\n",
    "        job.T = max(0, job.C - job.d)\n",
    "        TT += job.T\n",
    "        Fbar += job.C\n",
    "        if job.T > 0:\n",
    "            nT += 1\n",
    "            Tmax = max(Tmax, job.T)\n",
    "    \n",
    "    Cmax = jobs[-1].C\n",
    " \n",
    "    Fbar = Fbar/len(jobs)\n",
    "\n",
    "    return Cmax, Fbar, TT, Tmax, nT, jobs"
   ]
  },
  {
   "cell_type": "markdown",
   "metadata": {},
   "source": [
    "### 3. Finalmente, definimos a estrutura do algoritmo, seguindo as etapas propostas no enunciado"
   ]
  },
  {
   "cell_type": "code",
   "execution_count": 66,
   "metadata": {},
   "outputs": [],
   "source": [
    "def moore(jobs):\n",
    "    \n",
    "    jobs.sort(key=lambda job: job.d)\n",
    "    B = []\n",
    "    entrada = True\n",
    "    \n",
    "    while sum([job.T for job in jobs]) != 0 or entrada:\n",
    "\n",
    "        if entrada:\n",
    "            entrada = False\n",
    "\n",
    "        jobs = calc_completion(jobs)\n",
    "\n",
    "        for i in range(len(jobs)):\n",
    "            jobs[i].T = max(0, jobs[i].C - jobs[i].d)\n",
    "        \n",
    "        jobs, B = find_tardiness(jobs, B)\n",
    "    \n",
    "    B.sort(key=lambda job: job.p)\n",
    "    jobs = jobs + B\n",
    "\n",
    "    jobs = calc_completion(jobs)        \n",
    "    \n",
    "    Cmax, Fbar, TT, Tmax, nT, jobs = calculate_final_values(jobs)\n",
    "\n",
    "    return Cmax, Fbar,TT, Tmax, nT, jobs"
   ]
  },
  {
   "cell_type": "code",
   "execution_count": 79,
   "metadata": {},
   "outputs": [],
   "source": [
    "def fazer_teste(p, d):\n",
    "\n",
    "    jobs=[]\n",
    "    for i, (pi, di) in enumerate(zip(p, d)):\n",
    "        jobs.append(Job(i , pi, di))\n",
    "        print(jobs[i])\n",
    "    \n",
    "    print('\\nAplicando o algoritmo\\n')\n",
    "    \n",
    "    Cmax, Fbar, TT, Tmax, nT, jobs = moore(jobs)\n",
    "\n",
    "    print('{:2s} {:2s} {:2s} {:2s} {:2s}'.format('#','p','d','C','T'))\n",
    "    for job in jobs:\n",
    "        print('{:2d} {:2d} {:2d} {:2d} {:2d}'.format(job.i, job.p, job.d, job.C, job.T))\n",
    "\n",
    "    print()\n",
    "    print('Cmax: {:4.1f}'.format(Cmax))\n",
    "    print('Fbar: {:4.1f}'.format(Fbar))\n",
    "    print('TT:   {:4.1f}'.format(TT))\n",
    "    print('Tmax: {:4.1f}'.format(Tmax))\n",
    "    print('nT:   {:4d}'.format(nT))\n",
    "\n",
    "    "
   ]
  },
  {
   "cell_type": "markdown",
   "metadata": {},
   "source": [
    "## Resultados:"
   ]
  },
  {
   "cell_type": "markdown",
   "metadata": {},
   "source": [
    "### Teste 1:"
   ]
  },
  {
   "cell_type": "code",
   "execution_count": 80,
   "metadata": {
    "tags": []
   },
   "outputs": [
    {
     "output_type": "stream",
     "name": "stdout",
     "text": "Job #0, p = 3, d = 7, C = 0.0, T = 0.0\nJob #1, p = 4, d = 8, C = 0.0, T = 0.0\nJob #2, p = 2, d = 9, C = 0.0, T = 0.0\nJob #3, p = 6, d = 12, C = 0.0, T = 0.0\nJob #4, p = 1, d = 4, C = 0.0, T = 0.0\n\nAplicando o algoritmo\n\n#  p  d  C  T \n 4  1  4  1  0\n 0  3  7  4  0\n 2  2  9  6  0\n 3  6 12 12  0\n 1  4  8 16  8\n\nCmax: 16.0\nFbar:  7.8\nTT:    8.0\nTmax:  8.0\nnT:      1\n"
    }
   ],
   "source": [
    "fazer_teste(p=[3, 4, 2, 6, 1], d=[7, 8, 9, 12, 4])"
   ]
  },
  {
   "cell_type": "markdown",
   "metadata": {},
   "source": [
    "### Teste 2:"
   ]
  },
  {
   "cell_type": "code",
   "execution_count": 81,
   "metadata": {
    "tags": []
   },
   "outputs": [
    {
     "output_type": "stream",
     "name": "stdout",
     "text": "Job #0, p = 3, d = 20, C = 0.0, T = 0.0\nJob #1, p = 4, d = 20, C = 0.0, T = 0.0\nJob #2, p = 2, d = 20, C = 0.0, T = 0.0\nJob #3, p = 6, d = 20, C = 0.0, T = 0.0\nJob #4, p = 1, d = 20, C = 0.0, T = 0.0\n\nAplicando o algoritmo\n\n#  p  d  C  T \n 0  3 20  3  0\n 1  4 20  7  0\n 2  2 20  9  0\n 3  6 20 15  0\n 4  1 20 16  0\n\nCmax: 16.0\nFbar: 10.0\nTT:    0.0\nTmax:  0.0\nnT:      0\n"
    }
   ],
   "source": [
    "fazer_teste(p=[3, 4, 2, 6, 1], d=[20, 20, 20, 20, 20])"
   ]
  },
  {
   "cell_type": "markdown",
   "metadata": {},
   "source": [
    "### Teste 3:"
   ]
  },
  {
   "cell_type": "code",
   "execution_count": 82,
   "metadata": {
    "tags": []
   },
   "outputs": [
    {
     "output_type": "stream",
     "name": "stdout",
     "text": "Job #0, p = 3, d = 0, C = 0.0, T = 0.0\nJob #1, p = 4, d = 0, C = 0.0, T = 0.0\nJob #2, p = 2, d = 0, C = 0.0, T = 0.0\nJob #3, p = 6, d = 0, C = 0.0, T = 0.0\nJob #4, p = 1, d = 0, C = 0.0, T = 0.0\n\nAplicando o algoritmo\n\n#  p  d  C  T \n 4  1  0  1  1\n 2  2  0  3  3\n 0  3  0  6  6\n 1  4  0 10 10\n 3  6  0 16 16\n\nCmax: 16.0\nFbar:  7.2\nTT:   36.0\nTmax: 16.0\nnT:      5\n"
    }
   ],
   "source": [
    "fazer_teste(p=[3, 4, 2, 6, 1], d=[0, 0, 0, 0, 0])"
   ]
  },
  {
   "cell_type": "markdown",
   "metadata": {},
   "source": [
    "### Teste 4:"
   ]
  },
  {
   "cell_type": "code",
   "execution_count": 83,
   "metadata": {
    "tags": []
   },
   "outputs": [
    {
     "output_type": "stream",
     "name": "stdout",
     "text": "Job #0, p = 1, d = 10, C = 0.0, T = 0.0\nJob #1, p = 2, d = 10, C = 0.0, T = 0.0\nJob #2, p = 3, d = 10, C = 0.0, T = 0.0\nJob #3, p = 4, d = 10, C = 0.0, T = 0.0\nJob #4, p = 5, d = 10, C = 0.0, T = 0.0\n\nAplicando o algoritmo\n\n#  p  d  C  T \n 0  1 10  1  0\n 1  2 10  3  0\n 2  3 10  6  0\n 3  4 10 10  0\n 4  5 10 15  5\n\nCmax: 15.0\nFbar:  7.0\nTT:    5.0\nTmax:  5.0\nnT:      1\n"
    }
   ],
   "source": [
    "fazer_teste(p=[1, 2, 3, 4, 5], d=[10, 10, 10, 10, 10])"
   ]
  },
  {
   "cell_type": "markdown",
   "metadata": {},
   "source": [
    "### Teste 5:"
   ]
  },
  {
   "cell_type": "code",
   "execution_count": 84,
   "metadata": {
    "tags": []
   },
   "outputs": [
    {
     "output_type": "stream",
     "name": "stdout",
     "text": "Job #0, p = 1, d = 20, C = 0.0, T = 0.0\nJob #1, p = 6, d = 30, C = 0.0, T = 0.0\nJob #2, p = 2, d = 30, C = 0.0, T = 0.0\nJob #3, p = 1, d = 30, C = 0.0, T = 0.0\nJob #4, p = 9, d = 30, C = 0.0, T = 0.0\nJob #5, p = 8, d = 30, C = 0.0, T = 0.0\nJob #6, p = 2, d = 30, C = 0.0, T = 0.0\nJob #7, p = 3, d = 30, C = 0.0, T = 0.0\nJob #8, p = 9, d = 30, C = 0.0, T = 0.0\nJob #9, p = 1, d = 40, C = 0.0, T = 0.0\n\nAplicando o algoritmo\n\n#  p  d  C  T \n 0  1 20  1  0\n 1  6 30  7  0\n 2  2 30  9  0\n 3  1 30 10  0\n 5  8 30 18  0\n 6  2 30 20  0\n 7  3 30 23  0\n 9  1 40 24  0\n 4  9 30 33  3\n 8  9 30 42 12\n\nCmax: 42.0\nFbar: 18.7\nTT:   15.0\nTmax: 12.0\nnT:      2\n"
    }
   ],
   "source": [
    "fazer_teste(p=[1, 6, 2, 1, 9, 8, 2, 3, 9, 1], d=[20, 30, 30, 30, 30, 30, 30, 30, 30, 40])"
   ]
  }
 ]
}
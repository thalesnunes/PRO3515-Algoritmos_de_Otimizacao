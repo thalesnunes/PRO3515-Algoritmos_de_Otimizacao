{
 "metadata": {
  "language_info": {
   "codemirror_mode": {
    "name": "ipython",
    "version": 3
   },
   "file_extension": ".py",
   "mimetype": "text/x-python",
   "name": "python",
   "nbconvert_exporter": "python",
   "pygments_lexer": "ipython3",
   "version": "3.7.7-final"
  },
  "orig_nbformat": 2,
  "kernelspec": {
   "name": "python_defaultSpec_1598645083610",
   "display_name": "Python 3.7.7 64-bit ('base': conda)"
  }
 },
 "nbformat": 4,
 "nbformat_minor": 2,
 "cells": [
  {
   "cell_type": "markdown",
   "metadata": {},
   "source": [
    "# PRO3515 - Algoritmo de Moore\n",
    "\n",
    "### Nomes: Lucas Hideki Takeuchi Okamura NUSP:  9274315\n",
    "###        Thales Arantes Kerche Nunes   NUSP: 10769372\n",
    "\n"
   ]
  },
  {
   "cell_type": "code",
   "execution_count": 25,
   "metadata": {},
   "outputs": [],
   "source": [
    "class Job:\n",
    "    def __init__(self,i,pi,di):\n",
    "        self.i = i     # número do job, pela ordem de chegada\n",
    "        self.p = pi     # processing time\n",
    "        self.d = di     # due date\n",
    "        self.C = 0.0     # completion time\n",
    "        self.T = 0.0     # tardiness\n",
    "    \n",
    "    def __str__(self):   # para que quando dermos print() ele imprima de forma legível\n",
    "        return 'Job #{}, p = {}, d = {}, C = {}, T = {}'.format(self.i, self.p, self.d, self.C, self.T)"
   ]
  },
  {
   "cell_type": "code",
   "execution_count": 56,
   "metadata": {},
   "outputs": [],
   "source": [
    "def calc_completion(jobs):\n",
    "    jobs[0].C = jobs[0].p\n",
    "    for j in range(1, len(jobs)):\n",
    "        jobs[j].C = jobs[j-1].C + jobs[j].p\n",
    "    return jobs\n",
    "\n",
    "def moore(jobs):\n",
    "    \n",
    "    jobs.sort(key=lambda job: job.d)\n",
    "    B = []\n",
    "    entrada = True\n",
    "    \n",
    "    while sum([job.T for job in jobs]) != 0 or entrada:\n",
    "\n",
    "        if entrada:\n",
    "            entrada = False\n",
    "\n",
    "        jobs = calc_completion(jobs)\n",
    "    \n",
    "        for i in range(len(jobs)):\n",
    "            jobs[i].T = max(0, jobs[i].C - jobs[i].d)\n",
    "            if jobs[i].T > 0:\n",
    "                highest_value = max([job.p for job in jobs[:i+1]])\n",
    "                job_remove = [job for job in jobs[:i+1] if job.p == highest_value][0]\n",
    "                B.append(job_remove)\n",
    "                jobs.remove(job_remove)\n",
    "                break\n",
    "    \n",
    "    B.sort(key=lambda job: job.p)\n",
    "    print(B[0])\n",
    "    jobs = jobs + B\n",
    "    \n",
    "    TT = nT = Fbar = Tmax = 0\n",
    "    for job in jobs:\n",
    "        TT += job.T\n",
    "        Fbar += job.C\n",
    "        if job.T > 0:\n",
    "            nT += 1\n",
    "            Tmax = max(Tmax, job.T)\n",
    "    \n",
    "    Cmax = jobs[-1].C\n",
    " \n",
    "    Fbar = Fbar/len(jobs)\n",
    "\n",
    "    return Cmax, Fbar,TT, Tmax, nT, jobs"
   ]
  },
  {
   "cell_type": "code",
   "execution_count": 57,
   "metadata": {
    "tags": []
   },
   "outputs": [
    {
     "output_type": "stream",
     "name": "stdout",
     "text": "Job #0, p = 3, d = 7, C = 0.0, T = 0.0\nJob #1, p = 4, d = 8, C = 0.0, T = 0.0\nJob #2, p = 2, d = 9, C = 0.0, T = 0.0\nJob #3, p = 6, d = 12, C = 0.0, T = 0.0\nJob #4, p = 1, d = 4, C = 0.0, T = 0.0\n"
    }
   ],
   "source": [
    "n=5\n",
    "p=[3,4,2,6,1]\n",
    "d=[7,8,9,12,4]\n",
    "\n",
    "jobs=[]\n",
    "for i in range(n):\n",
    "    jobs.append(Job(i,p[i],d[i]))\n",
    "\n",
    "for job in jobs:\n",
    "    print(job)"
   ]
  },
  {
   "cell_type": "code",
   "execution_count": 58,
   "metadata": {
    "tags": []
   },
   "outputs": [
    {
     "output_type": "stream",
     "name": "stdout",
     "text": "Job #1, p = 4, d = 8, C = 8, T = 0\nJob #1, p = 4, d = 8, C = 16, T = 8\nJob #1, p = 4, d = 8, C = 14, T = 6\nJob #1, p = 4, d = 8, C = 24, T = 16\nJob #1, p = 4, d = 8, C = 38, T = 16\nJob #1, p = 4, d = 8, C = 50, T = 42\nJob #1, p = 4, d = 8, C = 74, T = 66\nJob #1, p = 4, d = 8, C = 102, T = 66\nJob #1, p = 4, d = 8, C = 128, T = 120\nJob #1, p = 4, d = 8, C = 166, T = 158\nJob #1, p = 4, d = 8, C = 208, T = 200\nJob #1, p = 4, d = 8, C = 254, T = 200\nJob #1, p = 4, d = 8, C = 298, T = 290\nJob #1, p = 4, d = 8, C = 354, T = 346\nJob #1, p = 4, d = 8, C = 414, T = 406\nJob #1, p = 4, d = 8, C = 478, T = 406\nJob #1, p = 4, d = 8, C = 540, T = 406\nJob #1, p = 4, d = 8, C = 608, T = 600\nJob #1, p = 4, d = 8, C = 688, T = 680\nJob #1, p = 4, d = 8, C = 772, T = 764\nJob #1, p = 4, d = 8, C = 860, T = 852\nJob #1, p = 4, d = 8, C = 952, T = 852\nJob #1, p = 4, d = 8, C = 1042, T = 852\nJob #1, p = 4, d = 8, C = 1138, T = 1130\nJob #1, p = 4, d = 8, C = 1246, T = 1238\nJob #1, p = 4, d = 8, C = 1358, T = 1350\nJob #1, p = 4, d = 8, C = 1474, T = 1466\nJob #1, p = 4, d = 8, C = 1594, T = 1586\nJob #1, p = 4, d = 8, C = 1718, T = 1586\nJob #1, p = 4, d = 8, C = 1840, T = 1586\nJob #1, p = 4, d = 8, C = 1968, T = 1960\nJob #1, p = 4, d = 8, C = 2108, T = 2100\nJob #1, p = 4, d = 8, C = 2252, T = 2244\nJob #1, p = 4, d = 8, C = 2400, T = 2392\nJob #1, p = 4, d = 8, C = 2552, T = 2544\nJob #1, p = 4, d = 8, C = 2708, T = 2544\nJob #1, p = 4, d = 8, C = 2862, T = 2544\nJob #1, p = 4, d = 8, C = 3022, T = 2544\nJob #1, p = 4, d = 8, C = 3188, T = 3180\nJob #1, p = 4, d = 8, C = 3366, T = 3358\nJob #1, p = 4, d = 8, C = 3548, T = 3540\nJob #1, p = 4, d = 8, C = 3734, T = 3726\nJob #1, p = 4, d = 8, C = 3924, T = 3916\nJob #1, p = 4, d = 8, C = 4118, T = 4110\nJob #1, p = 4, d = 8, C = 4316, T = 4110\nJob #1, p = 4, d = 8, C = 4512, T = 4110\nJob #1, p = 4, d = 8, C = 4714, T = 4110\nJob #1, p = 4, d = 8, C = 4922, T = 4914\nJob #1, p = 4, d = 8, C = 5142, T = 5134\nJob #1, p = 4, d = 8, C = 5366, T = 5358\nJob #1, p = 4, d = 8, C = 5594, T = 5586\nJob #1, p = 4, d = 8, C = 5826, T = 5818\nJob #1, p = 4, d = 8, C = 6062, T = 6054\nJob #1, p = 4, d = 8, C = 6302, T = 6294\nJob #1, p = 4, d = 8, C = 6546, T = 6294\nJob #1, p = 4, d = 8, C = 6788, T = 6294\nJob #1, p = 4, d = 8, C = 7036, T = 6294\nJob #1, p = 4, d = 8, C = 7290, T = 7282\nJob #1, p = 4, d = 8, C = 7556, T = 7548\nJob #1, p = 4, d = 8, C = 7826, T = 7818\nJob #1, p = 4, d = 8, C = 8100, T = 8092\nJob #1, p = 4, d = 8, C = 8378, T = 8370\nJob #1, p = 4, d = 8, C = 8660, T = 8652\nJob #1, p = 4, d = 8, C = 8946, T = 8938\nJob #1, p = 4, d = 8, C = 9236, T = 9228\nJob #1, p = 4, d = 8, C = 9530, T = 9228\nJob #1, p = 4, d = 8, C = 9822, T = 9228\nJob #1, p = 4, d = 8, C = 10120, T = 9228\nJob #1, p = 4, d = 8, C = 10424, T = 10416\nJob #1, p = 4, d = 8, C = 10740, T = 10732\nJob #1, p = 4, d = 8, C = 11060, T = 11052\nJob #1, p = 4, d = 8, C = 11384, T = 11376\nJob #1, p = 4, d = 8, C = 11712, T = 11704\nJob #1, p = 4, d = 8, C = 12044, T = 12036\nJob #1, p = 4, d = 8, C = 12380, T = 12372\nJob #1, p = 4, d = 8, C = 12720, T = 12712\nJob #1, p = 4, d = 8, C = 13064, T = 12712\nJob #1, p = 4, d = 8, C = 13406, T = 12712\nJob #1, p = 4, d = 8, C = 13754, T = 12712\nJob #1, p = 4, d = 8, C = 14108, T = 12712\nJob #1, p = 4, d = 8, C = 14468, T = 14460\nJob #1, p = 4, d = 8, C = 14840, T = 14832\nJob #1, p = 4, d = 8, C = 15216, T = 15208\nJob #1, p = 4, d = 8, C = 15596, T = 15588\nJob #1, p = 4, d = 8, C = 15980, T = 15972\nJob #1, p = 4, d = 8, C = 16368, T = 16360\nJob #1, p = 4, d = 8, C = 16760, T = 16752\nJob #1, p = 4, d = 8, C = 17156, T = 17148\nJob #1, p = 4, d = 8, C = 17556, T = 17548\nJob #1, p = 4, d = 8, C = 17960, T = 17548\nJob #1, p = 4, d = 8, C = 18362, T = 17548\nJob #1, p = 4, d = 8, C = 18770, T = 17548\nJob #1, p = 4, d = 8, C = 19184, T = 17548\nJob #1, p = 4, d = 8, C = 19604, T = 19596\nJob #1, p = 4, d = 8, C = 20036, T = 20028\nJob #1, p = 4, d = 8, C = 20472, T = 20464\nJob #1, p = 4, d = 8, C = 20912, T = 20904\nJob #1, p = 4, d = 8, C = 21356, T = 21348\nJob #1, p = 4, d = 8, C = 21804, T = 21796\nJob #1, p = 4, d = 8, C = 22256, T = 22248\nJob #1, p = 4, d = 8, C = 22712, T = 22704\nJob #1, p = 4, d = 8, C = 23172, T = 23164\nJob #1, p = 4, d = 8, C = 23636, T = 23628\nJob #1, p = 4, d = 8, C = 24104, T = 23628\nJob #1, p = 4, d = 8, C = 24570, T = 23628\nJob #1, p = 4, d = 8, C = 25042, T = 23628\nJob #1, p = 4, d = 8, C = 25520, T = 23628\nJob #1, p = 4, d = 8, C = 26004, T = 25996\nJob #1, p = 4, d = 8, C = 26500, T = 26492\nJob #1, p = 4, d = 8, C = 27000, T = 26992\nJob #1, p = 4, d = 8, C = 27504, T = 27496\nJob #1, p = 4, d = 8, C = 28012, T = 28004\nJob #1, p = 4, d = 8, C = 28524, T = 28516\nJob #1, p = 4, d = 8, C = 29040, T = 29032\nJob #1, p = 4, d = 8, C = 29560, T = 29552\nJob #1, p = 4, d = 8, C = 30084, T = 30076\nJob #1, p = 4, d = 8, C = 30612, T = 30604\nJob #1, p = 4, d = 8, C = 31144, T = 31136\nJob #1, p = 4, d = 8, C = 31680, T = 31136\nJob #1, p = 4, d = 8, C = 32214, T = 31136\nJob #1, p = 4, d = 8, C = 32754, T = 31136\nJob #1, p = 4, d = 8, C = 33300, T = 31136\nJob #1, p = 4, d = 8, C = 33852, T = 33844\nJob #1, p = 4, d = 8, C = 34416, T = 34408\nJob #1, p = 4, d = 8, C = 34984, T = 34976\nJob #1, p = 4, d = 8, C = 35556, T = 35548\nJob #1, p = 4, d = 8, C = 36132, T = 36124\nJob #1, p = 4, d = 8, C = 36712, T = 36704\nJob #1, p = 4, d = 8, C = 37296, T = 37288\nJob #1, p = 4, d = 8, C = 37884, T = 37876\nJob #1, p = 4, d = 8, C = 38476, T = 38468\nJob #1, p = 4, d = 8, C = 39072, T = 39064\nJob #1, p = 4, d = 8, C = 39672, T = 39664\nJob #1, p = 4, d = 8, C = 40276, T = 39664\nJob #1, p = 4, d = 8, C = 40878, T = 39664\nJob #1, p = 4, d = 8, C = 41486, T = 39664\nJob #1, p = 4, d = 8, C = 42100, T = 39664\nJob #1, p = 4, d = 8, C = 42720, T = 39664\nJob #1, p = 4, d = 8, C = 43346, T = 43338\nJob #1, p = 4, d = 8, C = 43984, T = 43976\nJob #1, p = 4, d = 8, C = 44626, T = 44618\nJob #1, p = 4, d = 8, C = 45272, T = 45264\nJob #1, p = 4, d = 8, C = 45922, T = 45914\nJob #1, p = 4, d = 8, C = 46576, T = 46568\nJob #1, p = 4, d = 8, C = 47234, T = 47226\nJob #1, p = 4, d = 8, C = 47896, T = 47888\nJob #1, p = 4, d = 8, C = 48562, T = 48554\nJob #1, p = 4, d = 8, C = 49232, T = 49224\nJob #1, p = 4, d = 8, C = 49906, T = 49898\nJob #1, p = 4, d = 8, C = 50584, T = 49898\nJob #1, p = 4, d = 8, C = 51260, T = 49898\nJob #1, p = 4, d = 8, C = 51942, T = 49898\nJob #1, p = 4, d = 8, C = 52630, T = 49898\nJob #1, p = 4, d = 8, C = 53324, T = 49898\nJob #1, p = 4, d = 8, C = 54024, T = 49898\nJob #1, p = 4, d = 8, C = 54730, T = 54722\nJob #1, p = 4, d = 8, C = 55448, T = 55440\nJob #1, p = 4, d = 8, C = 56170, T = 56162\nJob #1, p = 4, d = 8, C = 56896, T = 56888\nJob #1, p = 4, d = 8, C = 57626, T = 57618\nJob #1, p = 4, d = 8, C = 58360, T = 58352\nJob #1, p = 4, d = 8, C = 59098, T = 59090\nJob #1, p = 4, d = 8, C = 59840, T = 59832\nJob #1, p = 4, d = 8, C = 60586, T = 60578\nJob #1, p = 4, d = 8, C = 61336, T = 61328\nJob #1, p = 4, d = 8, C = 62090, T = 62082\nJob #1, p = 4, d = 8, C = 62848, T = 62840\nJob #1, p = 4, d = 8, C = 63610, T = 62840\nJob #1, p = 4, d = 8, C = 64370, T = 62840\nJob #1, p = 4, d = 8, C = 65136, T = 62840\nJob #1, p = 4, d = 8, C = 65908, T = 62840\nJob #1, p = 4, d = 8, C = 66686, T = 62840\nJob #1, p = 4, d = 8, C = 67470, T = 62840\nJob #1, p = 4, d = 8, C = 68260, T = 68252\nJob #1, p = 4, d = 8, C = 69062, T = 69054\nJob #1, p = 4, d = 8, C = 69868, T = 69860\nJob #1, p = 4, d = 8, C = 70678, T = 70670\nJob #1, p = 4, d = 8, C = 71492, T = 71484\nJob #1, p = 4, d = 8, C = 72310, T = 72302\nJob #1, p = 4, d = 8, C = 73132, T = 73124\nJob #1, p = 4, d = 8, C = 73958, T = 73950\nJob #1, p = 4, d = 8, C = 74788, T = 74780\nJob #1, p = 4, d = 8, C = 75622, T = 75614\nJob #1, p = 4, d = 8, C = 76460, T = 76452\nJob #1, p = 4, d = 8, C = 77302, T = 77294\nJob #1, p = 4, d = 8, C = 78148, T = 78140\nJob #1, p = 4, d = 8, C = 78998, T = 78140\nJob #1, p = 4, d = 8, C = 79846, T = 78140\nJob #1, p = 4, d = 8, C = 80700, T = 78140\nJob #1, p = 4, d = 8, C = 81560, T = 78140\nJob #1, p = 4, d = 8, C = 82426, T = 78140\nJob #1, p = 4, d = 8, C = 83298, T = 78140\nJob #1, p = 4, d = 8, C = 84176, T = 84168\nJob #1, p = 4, d = 8, C = 85066, T = 85058\nJob #1, p = 4, d = 8, C = 85960, T = 85952\nJob #1, p = 4, d = 8, C = 86858, T = 86850\nJob #1, p = 4, d = 8, C = 87760, T = 87752\nJob #1, p = 4, d = 8, C = 88666, T = 88658\nJob #1, p = 4, d = 8, C = 89576, T = 89568\nJob #1, p = 4, d = 8, C = 90490, T = 90482\nJob #1, p = 4, d = 8, C = 91408, T = 91400\nJob #1, p = 4, d = 8, C = 92330, T = 92322\nJob #1, p = 4, d = 8, C = 93256, T = 93248\nJob #1, p = 4, d = 8, C = 94186, T = 94178\nJob #1, p = 4, d = 8, C = 95120, T = 95112\nJob #1, p = 4, d = 8, C = 96058, T = 96050\nJob #1, p = 4, d = 8, C = 97000, T = 96050\nJob #1, p = 4, d = 8, C = 97940, T = 96050\nJob #1, p = 4, d = 8, C = 98886, T = 96050\nJob #1, p = 4, d = 8, C = 99838, T = 96050\nJob #1, p = 4, d = 8, C = 100796, T = 96050\nJob #1, p = 4, d = 8, C = 101760, T = 96050\nJob #1, p = 4, d = 8, C = 102730, T = 102722\nJob #1, p = 4, d = 8, C = 103712, T = 103704\nJob #1, p = 4, d = 8, C = 104698, T = 104690\nJob #1, p = 4, d = 8, C = 105688, T = 105680\nJob #1, p = 4, d = 8, C = 106682, T = 106674\nJob #1, p = 4, d = 8, C = 107680, T = 107672\nJob #1, p = 4, d = 8, C = 108682, T = 108674\nJob #1, p = 4, d = 8, C = 109688, T = 109680\nJob #1, p = 4, d = 8, C = 110698, T = 110690\nJob #1, p = 4, d = 8, C = 111712, T = 111704\nJob #1, p = 4, d = 8, C = 112730, T = 112722\nJob #1, p = 4, d = 8, C = 113752, T = 113744\nJob #1, p = 4, d = 8, C = 114778, T = 114770\nJob #1, p = 4, d = 8, C = 115808, T = 115800\nJob #1, p = 4, d = 8, C = 116842, T = 116834\nJob #1, p = 4, d = 8, C = 117880, T = 116834\nJob #1, p = 4, d = 8, C = 118916, T = 116834\nJob #1, p = 4, d = 8, C = 119958, T = 116834\nJob #1, p = 4, d = 8, C = 121006, T = 116834\nJob #1, p = 4, d = 8, C = 122060, T = 116834\nJob #1, p = 4, d = 8, C = 123120, T = 116834\nJob #1, p = 4, d = 8, C = 124186, T = 124178\nJob #1, p = 4, d = 8, C = 125264, T = 125256\nJob #1, p = 4, d = 8, C = 126346, T = 126338\nJob #1, p = 4, d = 8, C = 127432, T = 127424\nJob #1, p = 4, d = 8, C = 128522, T = 128514\nJob #1, p = 4, d = 8, C = 129616, T = 129608\nJob #1, p = 4, d = 8, C = 130714, T = 130706\nJob #1, p = 4, d = 8, C = 131816, T = 131808\nJob #1, p = 4, d = 8, C = 132922, T = 132914\nJob #1, p = 4, d = 8, C = 134032, T = 134024\nJob #1, p = 4, d = 8, C = 135146, T = 135138\nJob #1, p = 4, d = 8, C = 136264, T = 136256\nJob #1, p = 4, d = 8, C = 137386, T = 137378\nJob #1, p = 4, d = 8, C = 138512, T = 138504\nJob #1, p = 4, d = 8, C = 139642, T = 139634\nJob #1, p = 4, d = 8, C = 140776, T = 139634\nJob #1, p = 4, d = 8, C = 141908, T = 139634\nJob #1, p = 4, d = 8, C = 143046, T = 139634\nJob #1, p = 4, d = 8, C = 144190, T = 139634\nJob #1, p = 4, d = 8, C = 145340, T = 139634\nJob #1, p = 4, d = 8, C = 146496, T = 139634\nJob #1, p = 4, d = 8, C = 147658, T = 139634\nJob #1, p = 4, d = 8, C = 148826, T = 148818\nJob #1, p = 4, d = 8, C = 150006, T = 149998\nJob #1, p = 4, d = 8, C = 151190, T = 151182\nJob #1, p = 4, d = 8, C = 152378, T = 152370\nJob #1, p = 4, d = 8, C = 153570, T = 153562\nJob #1, p = 4, d = 8, C = 154766, T = 154758\nJob #1, p = 4, d = 8, C = 155966, T = 155958\nJob #1, p = 4, d = 8, C = 157170, T = 157162\nJob #1, p = 4, d = 8, C = 158378, T = 158370\nJob #1, p = 4, d = 8, C = 159590, T = 159582\nJob #1, p = 4, d = 8, C = 160806, T = 160798\nJob #1, p = 4, d = 8, C = 162026, T = 162018\nJob #1, p = 4, d = 8, C = 163250, T = 163242\nJob #1, p = 4, d = 8, C = 164478, T = 164470\nJob #1, p = 4, d = 8, C = 165710, T = 165702\nJob #1, p = 4, d = 8, C = 166946, T = 165702\nJob #1, p = 4, d = 8, C = 168180, T = 165702\nJob #1, p = 4, d = 8, C = 169420, T = 165702\nJob #1, p = 4, d = 8, C = 170666, T = 165702\nJob #1, p = 4, d = 8, C = 171918, T = 165702\nJob #1, p = 4, d = 8, C = 173176, T = 165702\nJob #1, p = 4, d = 8, C = 174440, T = 165702\nJob #1, p = 4, d = 8, C = 175710, T = 165702\nJob #1, p = 4, d = 8, C = 176986, T = 176978\nJob #1, p = 4, d = 8, C = 178274, T = 178266\nJob #1, p = 4, d = 8, C = 179566, T = 179558\nJob #1, p = 4, d = 8, C = 180862, T = 180854\nJob #1, p = 4, d = 8, C = 182162, T = 182154\nJob #1, p = 4, d = 8, C = 183466, T = 183458\nJob #1, p = 4, d = 8, C = 184774, T = 184766\nJob #1, p = 4, d = 8, C = 186086, T = 186078\nJob #1, p = 4, d = 8, C = 187402, T = 187394\nJob #1, p = 4, d = 8, C = 188722, T = 188714\nJob #1, p = 4, d = 8, C = 190046, T = 190038\nJob #1, p = 4, d = 8, C = 191374, T = 191366\nJob #1, p = 4, d = 8, C = 192706, T = 192698\nJob #1, p = 4, d = 8, C = 194042, T = 194034\nJob #1, p = 4, d = 8, C = 195382, T = 195374\nJob #1, p = 4, d = 8, C = 196726, T = 196718\nJob #1, p = 4, d = 8, C = 198074, T = 196718\nJob #1, p = 4, d = 8, C = 199420, T = 196718\nJob #1, p = 4, d = 8, C = 200772, T = 196718\nJob #1, p = 4, d = 8, C = 202130, T = 196718\nJob #1, p = 4, d = 8, C = 203494, T = 196718\nJob #1, p = 4, d = 8, C = 204864, T = 196718\nJob #1, p = 4, d = 8, C = 206240, T = 196718\nJob #1, p = 4, d = 8, C = 207622, T = 196718\nJob #1, p = 4, d = 8, C = 209010, T = 209002\nJob #1, p = 4, d = 8, C = 210410, T = 210402\nJob #1, p = 4, d = 8, C = 211814, T = 211806\nJob #1, p = 4, d = 8, C = 213222, T = 213214\nJob #1, p = 4, d = 8, C = 214634, T = 214626\nJob #1, p = 4, d = 8, C = 216050, T = 216042\nJob #1, p = 4, d = 8, C = 217470, T = 217462\nJob #1, p = 4, d = 8, C = 218894, T = 218886\nJob #1, p = 4, d = 8, C = 220322, T = 220314\nJob #1, p = 4, d = 8, C = 221754, T = 221746\nJob #1, p = 4, d = 8, C = 223190, T = 223182\nJob #1, p = 4, d = 8, C = 224630, T = 224622\nJob #1, p = 4, d = 8, C = 226074, T = 226066\nJob #1, p = 4, d = 8, C = 227522, T = 227514\nJob #1, p = 4, d = 8, C = 228974, T = 228966\nJob #1, p = 4, d = 8, C = 230430, T = 230422\nJob #1, p = 4, d = 8, C = 231890, T = 231882\nJob #1, p = 4, d = 8, C = 233354, T = 231882\nJob #1, p = 4, d = 8, C = 234816, T = 231882\nJob #1, p = 4, d = 8, C = 236284, T = 231882\nJob #1, p = 4, d = 8, C = 237758, T = 231882\nJob #1, p = 4, d = 8, C = 239238, T = 231882\nJob #1, p = 4, d = 8, C = 240724, T = 231882\nJob #1, p = 4, d = 8, C = 242216, T = 231882\nJob #1, p = 4, d = 8, C = 243714, T = 231882\nJob #1, p = 4, d = 8, C = 245218, T = 245210\nJob #1, p = 4, d = 8, C = 246734, T = 246726\nJob #1, p = 4, d = 8, C = 248254, T = 248246\nJob #1, p = 4, d = 8, C = 249778, T = 249770\nJob #1, p = 4, d = 8, C = 251306, T = 251298\nJob #1, p = 4, d = 8, C = 252838, T = 252830\nJob #1, p = 4, d = 8, C = 254374, T = 254366\nJob #1, p = 4, d = 8, C = 255914, T = 255906\nJob #1, p = 4, d = 8, C = 257458, T = 257450\nJob #1, p = 4, d = 8, C = 259006, T = 258998\nJob #1, p = 4, d = 8, C = 260558, T = 260550\nJob #1, p = 4, d = 8, C = 262114, T = 262106\nJob #1, p = 4, d = 8, C = 263674, T = 263666\nJob #1, p = 4, d = 8, C = 265238, T = 265230\nJob #1, p = 4, d = 8, C = 266806, T = 266798\nJob #1, p = 4, d = 8, C = 268378, T = 268370\nJob #1, p = 4, d = 8, C = 269954, T = 269946\nJob #1, p = 4, d = 8, C = 271534, T = 271526\nJob #1, p = 4, d = 8, C = 273118, T = 271526\nJob #1, p = 4, d = 8, C = 274700, T = 271526\nJob #1, p = 4, d = 8, C = 276288, T = 271526\nJob #1, p = 4, d = 8, C = 277882, T = 271526\nJob #1, p = 4, d = 8, C = 279482, T = 271526\nJob #1, p = 4, d = 8, C = 281088, T = 271526\nJob #1, p = 4, d = 8, C = 282700, T = 271526\nJob #1, p = 4, d = 8, C = 284318, T = 271526\nJob #1, p = 4, d = 8, C = 285942, T = 285934\nJob #1, p = 4, d = 8, C = 287578, T = 287570\nJob #1, p = 4, d = 8, C = 289218, T = 289210\nJob #1, p = 4, d = 8, C = 290862, T = 290854\nJob #1, p = 4, d = 8, C = 292510, T = 292502\nJob #1, p = 4, d = 8, C = 294162, T = 294154\nJob #1, p = 4, d = 8, C = 295818, T = 295810\nJob #1, p = 4, d = 8, C = 297478, T = 297470\nJob #1, p = 4, d = 8, C = 299142, T = 299134\nJob #1, p = 4, d = 8, C = 300810, T = 300802\nJob #1, p = 4, d = 8, C = 302482, T = 302474\nJob #1, p = 4, d = 8, C = 304158, T = 304150\nJob #1, p = 4, d = 8, C = 305838, T = 305830\nJob #1, p = 4, d = 8, C = 307522, T = 307514\nJob #1, p = 4, d = 8, C = 309210, T = 309202\nJob #1, p = 4, d = 8, C = 310902, T = 310894\nJob #1, p = 4, d = 8, C = 312598, T = 312590\nJob #1, p = 4, d = 8, C = 314298, T = 314290\nJob #1, p = 4, d = 8, C = 316002, T = 315994\nJob #1, p = 4, d = 8, C = 317710, T = 315994\nJob #1, p = 4, d = 8, C = 319416, T = 315994\nJob #1, p = 4, d = 8, C = 321128, T = 315994\nJob #1, p = 4, d = 8, C = 322846, T = 315994\nJob #1, p = 4, d = 8, C = 324570, T = 315994\nJob #1, p = 4, d = 8, C = 326300, T = 315994\nJob #1, p = 4, d = 8, C = 328036, T = 315994\nJob #1, p = 4, d = 8, C = 329778, T = 315994\nJob #1, p = 4, d = 8, C = 331526, T = 331518\nJob #1, p = 4, d = 8, C = 333286, T = 333278\nJob #1, p = 4, d = 8, C = 335050, T = 335042\nJob #1, p = 4, d = 8, C = 336818, T = 336810\nJob #1, p = 4, d = 8, C = 338590, T = 338582\nJob #1, p = 4, d = 8, C = 340366, T = 340358\nJob #1, p = 4, d = 8, C = 342146, T = 342138\nJob #1, p = 4, d = 8, C = 343930, T = 343922\nJob #1, p = 4, d = 8, C = 345718, T = 345710\nJob #1, p = 4, d = 8, C = 347510, T = 347502\nJob #1, p = 4, d = 8, C = 349306, T = 349298\nJob #1, p = 4, d = 8, C = 351106, T = 351098\nJob #1, p = 4, d = 8, C = 352910, T = 352902\nJob #1, p = 4, d = 8, C = 354718, T = 354710\nJob #1, p = 4, d = 8, C = 356530, T = 356522\nJob #1, p = 4, d = 8, C = 358346, T = 358338\nJob #1, p = 4, d = 8, C = 360166, T = 360158\nJob #1, p = 4, d = 8, C = 361990, T = 361982\nJob #1, p = 4, d = 8, C = 363818, T = 363810\nJob #1, p = 4, d = 8, C = 365650, T = 365642\nJob #1, p = 4, d = 8, C = 367486, T = 365642\nJob #1, p = 4, d = 8, C = 369320, T = 365642\nJob #1, p = 4, d = 8, C = 371160, T = 365642\nJob #1, p = 4, d = 8, C = 373006, T = 365642\nJob #1, p = 4, d = 8, C = 374858, T = 365642\nJob #1, p = 4, d = 8, C = 376716, T = 365642\nJob #1, p = 4, d = 8, C = 378580, T = 365642\nJob #1, p = 4, d = 8, C = 380450, T = 365642\nJob #1, p = 4, d = 8, C = 382326, T = 382318\nJob #1, p = 4, d = 8, C = 384214, T = 384206\nJob #1, p = 4, d = 8, C = 386106, T = 386098\nJob #1, p = 4, d = 8, C = 388002, T = 387994\nJob #1, p = 4, d = 8, C = 389902, T = 389894\nJob #1, p = 4, d = 8, C = 391806, T = 391798\n"
    },
    {
     "output_type": "error",
     "ename": "KeyboardInterrupt",
     "evalue": "",
     "traceback": [
      "\u001b[1;31m---------------------------------------------------------------------------\u001b[0m",
      "\u001b[1;31mKeyboardInterrupt\u001b[0m                         Traceback (most recent call last)",
      "\u001b[1;32m<ipython-input-58-0b661e7b1985>\u001b[0m in \u001b[0;36m<module>\u001b[1;34m\u001b[0m\n\u001b[1;32m----> 1\u001b[1;33m \u001b[0mCmax\u001b[0m\u001b[1;33m,\u001b[0m \u001b[0mFbar\u001b[0m\u001b[1;33m,\u001b[0m \u001b[0mTT\u001b[0m\u001b[1;33m,\u001b[0m \u001b[0mTmax\u001b[0m\u001b[1;33m,\u001b[0m \u001b[0mnT\u001b[0m\u001b[1;33m,\u001b[0m \u001b[0mjobs\u001b[0m \u001b[1;33m=\u001b[0m \u001b[0mmoore\u001b[0m\u001b[1;33m(\u001b[0m\u001b[0mjobs\u001b[0m\u001b[1;33m)\u001b[0m\u001b[1;33m\u001b[0m\u001b[1;33m\u001b[0m\u001b[0m\n\u001b[0m\u001b[0;32m      2\u001b[0m \u001b[1;33m\u001b[0m\u001b[0m\n\u001b[0;32m      3\u001b[0m \u001b[0mprint\u001b[0m\u001b[1;33m(\u001b[0m\u001b[1;34m'SPT'\u001b[0m\u001b[1;33m)\u001b[0m\u001b[1;33m\u001b[0m\u001b[1;33m\u001b[0m\u001b[0m\n\u001b[0;32m      4\u001b[0m \u001b[0mprint\u001b[0m\u001b[1;33m(\u001b[0m\u001b[1;34m'{:2s} {:2s} {:2s} {:2s} {:2s}'\u001b[0m\u001b[1;33m.\u001b[0m\u001b[0mformat\u001b[0m\u001b[1;33m(\u001b[0m\u001b[1;34m'#'\u001b[0m\u001b[1;33m,\u001b[0m\u001b[1;34m'p'\u001b[0m\u001b[1;33m,\u001b[0m\u001b[1;34m'd'\u001b[0m\u001b[1;33m,\u001b[0m\u001b[1;34m'C'\u001b[0m\u001b[1;33m,\u001b[0m\u001b[1;34m'T'\u001b[0m\u001b[1;33m)\u001b[0m\u001b[1;33m)\u001b[0m\u001b[1;33m\u001b[0m\u001b[1;33m\u001b[0m\u001b[0m\n\u001b[0;32m      5\u001b[0m \u001b[1;32mfor\u001b[0m \u001b[0mjob\u001b[0m \u001b[1;32min\u001b[0m \u001b[0mjobs\u001b[0m\u001b[1;33m:\u001b[0m\u001b[1;33m\u001b[0m\u001b[1;33m\u001b[0m\u001b[0m\n",
      "\u001b[1;32m<ipython-input-56-aa39df829593>\u001b[0m in \u001b[0;36mmoore\u001b[1;34m(jobs)\u001b[0m\n\u001b[0;32m     16\u001b[0m             \u001b[0mentrada\u001b[0m \u001b[1;33m=\u001b[0m \u001b[1;32mFalse\u001b[0m\u001b[1;33m\u001b[0m\u001b[1;33m\u001b[0m\u001b[0m\n\u001b[0;32m     17\u001b[0m \u001b[1;33m\u001b[0m\u001b[0m\n\u001b[1;32m---> 18\u001b[1;33m         \u001b[0mjobs\u001b[0m \u001b[1;33m=\u001b[0m \u001b[0mcalc_completion\u001b[0m\u001b[1;33m(\u001b[0m\u001b[0mjobs\u001b[0m\u001b[1;33m)\u001b[0m\u001b[1;33m\u001b[0m\u001b[1;33m\u001b[0m\u001b[0m\n\u001b[0m\u001b[0;32m     19\u001b[0m \u001b[1;33m\u001b[0m\u001b[0m\n\u001b[0;32m     20\u001b[0m         \u001b[1;32mfor\u001b[0m \u001b[0mi\u001b[0m \u001b[1;32min\u001b[0m \u001b[0mrange\u001b[0m\u001b[1;33m(\u001b[0m\u001b[0mlen\u001b[0m\u001b[1;33m(\u001b[0m\u001b[0mjobs\u001b[0m\u001b[1;33m)\u001b[0m\u001b[1;33m)\u001b[0m\u001b[1;33m:\u001b[0m\u001b[1;33m\u001b[0m\u001b[1;33m\u001b[0m\u001b[0m\n",
      "\u001b[1;32m<ipython-input-56-aa39df829593>\u001b[0m in \u001b[0;36mcalc_completion\u001b[1;34m(jobs)\u001b[0m\n\u001b[0;32m      2\u001b[0m     \u001b[0mjobs\u001b[0m\u001b[1;33m[\u001b[0m\u001b[1;36m0\u001b[0m\u001b[1;33m]\u001b[0m\u001b[1;33m.\u001b[0m\u001b[0mC\u001b[0m \u001b[1;33m=\u001b[0m \u001b[0mjobs\u001b[0m\u001b[1;33m[\u001b[0m\u001b[1;36m0\u001b[0m\u001b[1;33m]\u001b[0m\u001b[1;33m.\u001b[0m\u001b[0mp\u001b[0m\u001b[1;33m\u001b[0m\u001b[1;33m\u001b[0m\u001b[0m\n\u001b[0;32m      3\u001b[0m     \u001b[1;32mfor\u001b[0m \u001b[0mj\u001b[0m \u001b[1;32min\u001b[0m \u001b[0mrange\u001b[0m\u001b[1;33m(\u001b[0m\u001b[1;36m1\u001b[0m\u001b[1;33m,\u001b[0m \u001b[0mlen\u001b[0m\u001b[1;33m(\u001b[0m\u001b[0mjobs\u001b[0m\u001b[1;33m)\u001b[0m\u001b[1;33m)\u001b[0m\u001b[1;33m:\u001b[0m\u001b[1;33m\u001b[0m\u001b[1;33m\u001b[0m\u001b[0m\n\u001b[1;32m----> 4\u001b[1;33m         \u001b[0mjobs\u001b[0m\u001b[1;33m[\u001b[0m\u001b[0mj\u001b[0m\u001b[1;33m]\u001b[0m\u001b[1;33m.\u001b[0m\u001b[0mC\u001b[0m \u001b[1;33m=\u001b[0m \u001b[0mjobs\u001b[0m\u001b[1;33m[\u001b[0m\u001b[0mj\u001b[0m\u001b[1;33m-\u001b[0m\u001b[1;36m1\u001b[0m\u001b[1;33m]\u001b[0m\u001b[1;33m.\u001b[0m\u001b[0mC\u001b[0m \u001b[1;33m+\u001b[0m \u001b[0mjobs\u001b[0m\u001b[1;33m[\u001b[0m\u001b[0mj\u001b[0m\u001b[1;33m]\u001b[0m\u001b[1;33m.\u001b[0m\u001b[0mp\u001b[0m\u001b[1;33m\u001b[0m\u001b[1;33m\u001b[0m\u001b[0m\n\u001b[0m\u001b[0;32m      5\u001b[0m     \u001b[1;32mreturn\u001b[0m \u001b[0mjobs\u001b[0m\u001b[1;33m\u001b[0m\u001b[1;33m\u001b[0m\u001b[0m\n\u001b[0;32m      6\u001b[0m \u001b[1;33m\u001b[0m\u001b[0m\n",
      "\u001b[1;31mKeyboardInterrupt\u001b[0m: "
     ]
    }
   ],
   "source": [
    "Cmax, Fbar, TT, Tmax, nT, jobs = moore(jobs)\n",
    "\n",
    "print('SPT')\n",
    "print('{:2s} {:2s} {:2s} {:2s} {:2s}'.format('#','p','d','C','T'))\n",
    "for job in jobs:\n",
    "    print('{:2d} {:2d} {:2d} {:2d} {:2d}'.format(job.i, job.p, job.d, job.C, job.T))\n",
    "\n",
    "print()\n",
    "print('Cmax: {:4.1f}'.format(Cmax))\n",
    "print('Fbar: {:4.1f}'.format(Fbar))\n",
    "print('TT:   {:4.1f}'.format(TT))\n",
    "print('Tmax: {:4.1f}'.format(Tmax))\n",
    "print('nT:   {:4d}'.format(nT))"
   ]
  }
 ]
}
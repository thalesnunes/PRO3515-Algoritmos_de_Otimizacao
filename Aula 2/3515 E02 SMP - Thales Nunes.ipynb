{
 "cells": [
  {
   "cell_type": "markdown",
   "metadata": {},
   "source": [
    "# PRO3515 Algoritmos de Otimização para Programação de Produção\n",
    "## Aula 2"
   ]
  },
  {
   "cell_type": "markdown",
   "metadata": {},
   "source": [
    "### Nome: Thales Nunes"
   ]
  },
  {
   "cell_type": "markdown",
   "metadata": {},
   "source": []
  },
  {
   "cell_type": "markdown",
   "metadata": {},
   "source": [
    "### Exercício SMP"
   ]
  },
  {
   "attachments": {},
   "cell_type": "markdown",
   "metadata": {},
   "source": [
    "Considere um problema de programação de máquina única (SMP) com os seguintes dados:"
   ]
  },
  {
   "attachments": {},
   "cell_type": "markdown",
   "metadata": {},
   "source": [
    "|Job|p|d|\n",
    "|---|---|---|\n",
    "|A|6|16|\n",
    "|B|2|20|\n",
    "|C|3|19|\n",
    "|D|4|18|\n",
    "|E|5|17|\n",
    "|F|1|21|"
   ]
  },
  {
   "cell_type": "markdown",
   "metadata": {},
   "source": [
    "Determine uma sequência com menor tempo de fluxo e sem ordens atrasadas.\n",
    "\n",
    "Apresente a sequência encontrada, o tempo médio de fluxo e número de ordens atrasadas.\n",
    "\n",
    "Explique a sua lógica de solução do problema.\n",
    "\n",
    "(Dica: utilize a planilha apresentada na aula passada para testar as sequências)"
   ]
  },
  {
   "cell_type": "markdown",
   "metadata": {},
   "source": [
    "### Resposta"
   ]
  },
  {
   "cell_type": "markdown",
   "metadata": {},
   "source": [
    "### D -> E -> A -> C -> B -> F"
   ]
  },
  {
   "cell_type": "markdown",
   "metadata": {},
   "source": [
    "| Indicador | Valor |\n",
    "| :--------: | :--------: |\n",
    "| Tempo total | 21,0 |\n",
    "| Tempo médio de fluxo | 14,5 |\n",
    "| Atraso total | 0,0 |\n",
    "| Atraso máximo | 0,0 |\n",
    "| Ordens atrasadas | 0 |"
   ]
  },
  {
   "cell_type": "markdown",
   "metadata": {},
   "source": [
    "Como se trata somente de uma máquina, para não haver nenhuma ordem atrasada priorizamos primeiramente a due date, que, neste caso, é crescente para um process time decrescente, chegando na solução inicial. Porém, para melhorar o tempo médio de fluxo, é possível colocar o job A mais a frente, o mais próximo de sua entrega possível, assim chegando na solução acima."
   ]
  }
 ],
 "metadata": {
  "kernelspec": {
   "display_name": "Python 3",
   "language": "python",
   "name": "python3"
  },
  "language_info": {
   "codemirror_mode": {
    "name": "ipython",
    "version": 3
   },
   "file_extension": ".py",
   "mimetype": "text/x-python",
   "name": "python",
   "nbconvert_exporter": "python",
   "pygments_lexer": "ipython3",
   "version": "3.7.7-final"
  }
 },
 "nbformat": 4,
 "nbformat_minor": 2
}
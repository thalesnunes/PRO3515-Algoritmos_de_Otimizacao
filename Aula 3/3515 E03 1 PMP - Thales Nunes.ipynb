{
 "cells": [
  {
   "cell_type": "markdown",
   "metadata": {},
   "source": [
    "# PRO3515 Algoritmos de Otimização para Programação de Produção\n",
    "## Aula 3 - Exercício Individual"
   ]
  },
  {
   "cell_type": "markdown",
   "metadata": {},
   "source": [
    "### Nome: Thales Arantes Kerche Nunes - NUSP: 10769372"
   ]
  },
  {
   "cell_type": "code",
   "execution_count": null,
   "metadata": {},
   "outputs": [],
   "source": []
  },
  {
   "cell_type": "markdown",
   "metadata": {},
   "source": [
    "### Exercício PMP"
   ]
  },
  {
   "cell_type": "markdown",
   "metadata": {},
   "source": [
    "Considere um problema de programação de máquinas paralelas (PMP) com duas máquinas e os seguintes jobs:"
   ]
  },
  {
   "cell_type": "markdown",
   "metadata": {},
   "source": [
    "|Job|p|d|\n",
    "|---|---|---|\n",
    "|A|6|20|\n",
    "|B|7|20|\n",
    "|C|8|20|\n",
    "|D|13|20|\n",
    "|E|14|20|\n",
    "|F|15|20|"
   ]
  },
  {
   "cell_type": "markdown",
   "metadata": {},
   "source": [
    "Determine uma sequência com o menor tempo de fluxo.\n",
    "\n",
    "Apresente a sequência encontrada, o tempo médio de fluxo e número de ordens atrasadas.\n",
    "\n",
    "Explique a sua lógica de solução do problema.\n",
    "\n",
    "(Dica: utilize a planilha apresentada na aula passada para testar as sequências)"
   ]
  },
  {
   "cell_type": "markdown",
   "metadata": {},
   "source": [
    "### Resposta"
   ]
  },
  {
   "cell_type": "markdown",
   "metadata": {},
   "source": [
    "### M1: A  ->  D  ->  E\n",
    "\n",
    "### M2: B  ->  C  ->  F"
   ]
  },
  {
   "cell_type": "markdown",
   "metadata": {},
   "source": [
    "| Indicador | Valor |\n",
    "| --------------- | ------- |\n",
    "| Tempo total |\t33.0 |\n",
    "| Tempo médio de fluxo | 18.3 |\n",
    "| Atraso total | 23.0 |\n",
    "| Atraso máximo | 13.0 |\n",
    "| Ordens atrasadas | 2 |"
   ]
  },
  {
   "cell_type": "markdown",
   "metadata": {},
   "source": [
    "Como todos os jobs tem due date igual, para conseguirmos o menor fluxo medio tentamos completar o maximo de tarefas possivel, colocando os menores tempos primeiro"
   ]
  },
  {
   "cell_type": "code",
   "execution_count": null,
   "metadata": {},
   "outputs": [],
   "source": []
  }
 ],
 "metadata": {
  "kernelspec": {
   "display_name": "Python 3",
   "language": "python",
   "name": "python3"
  },
  "language_info": {
   "codemirror_mode": {
    "name": "ipython",
    "version": 3
   },
   "file_extension": ".py",
   "mimetype": "text/x-python",
   "name": "python",
   "nbconvert_exporter": "python",
   "pygments_lexer": "ipython3",
   "version": "3.7.1"
  }
 },
 "nbformat": 4,
 "nbformat_minor": 2
}
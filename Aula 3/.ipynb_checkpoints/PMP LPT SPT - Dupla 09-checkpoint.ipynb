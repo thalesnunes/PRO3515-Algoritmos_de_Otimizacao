{
 "metadata": {
  "language_info": {
   "codemirror_mode": {
    "name": "ipython",
    "version": 3
   },
   "file_extension": ".py",
   "mimetype": "text/x-python",
   "name": "python",
   "nbconvert_exporter": "python",
   "pygments_lexer": "ipython3",
   "version": "3.7.7-final"
  },
  "orig_nbformat": 2,
  "kernelspec": {
   "name": "python_defaultSpec_1599248511767",
   "display_name": "Python 3.7.7 64-bit ('base': conda)"
  }
 },
 "nbformat": 4,
 "nbformat_minor": 2,
 "cells": [
  {
   "cell_type": "markdown",
   "metadata": {},
   "source": [
    "# PRO3515 - PMP LPT/SPT\n",
    "\n",
    "\n",
    "## Dupla 9\n",
    "\n",
    "### Nomes: \n",
    "### Lucas Hideki Takeuchi Okamura NUSP:  9274315\n",
    "### Thales Arantes Kerche Nunes   NUSP: 10769372\n"
   ]
  },
  {
   "cell_type": "markdown",
   "metadata": {},
   "source": [
    "### Objetivo\n",
    "        * Minimizar o tempo total (makespan) na programação de máquinas paralelas (PMP - Parallel Machine Problem),\n",
    "        utilizando a regra do maior tempo de processamento (LPT - longest processing time)"
   ]
  },
  {
   "cell_type": "markdown",
   "metadata": {},
   "source": [
    "Importando a biblioteca sugerida"
   ]
  },
  {
   "cell_type": "code",
   "execution_count": 1,
   "metadata": {},
   "outputs": [],
   "source": [
    "import xlwings as xw"
   ]
  },
  {
   "cell_type": "markdown",
   "metadata": {},
   "source": [
    "Definindo as classes de Job e Maq que usaremos no algoritmo"
   ]
  },
  {
   "cell_type": "code",
   "execution_count": 2,
   "metadata": {},
   "outputs": [],
   "source": [
    "class Job:\n",
    "    def __init__(self,i,pi,di):\n",
    "        self.i=i     # número do job, pela ordem de chegada\n",
    "        self.p=pi     # processing time\n",
    "        self.d=di     # due date\n",
    "        self.C=0     # completion time\n",
    "        self.T=0     # tardiness"
   ]
  },
  {
   "cell_type": "code",
   "execution_count": 3,
   "metadata": {},
   "outputs": [],
   "source": [
    "class Maq:\n",
    "    def __init__(self,k):\n",
    "        self.k=k     # índice da máquina\n",
    "        self.jobs=[]     # jobs alocados à máquina\n",
    "        self.carga=0.0     # carga alocada à máquina"
   ]
  },
  {
   "cell_type": "markdown",
   "metadata": {},
   "source": [
    "### Reutilizamos a função disponibilizada pelo professor, com alguns ajustes para ler o número de máquinas"
   ]
  },
  {
   "cell_type": "code",
   "execution_count": 4,
   "metadata": {},
   "outputs": [],
   "source": [
    "def leInst(sheet_num):\n",
    "    pl1 = wb1.sheets[sheet_num]\n",
    "    m=int(pl1.range('B5').value)     # converter em inteiro\n",
    "    n=int(pl1.range('B6').value)     # converter em inteiro\n",
    "    tab1=pl1.range('A11').options(expand='table', numbers=int).value     # ler como tabela e inteiros\n",
    "    print()\n",
    "    print('n =',n)\n",
    "    print('m =',m)\n",
    "    print('dados =',tab1)\n",
    "    jobs=[]\n",
    "    for i in range(n):\n",
    "        pi=tab1[i][1]\n",
    "        jobs.append(Job(i,pi,0))\n",
    "    \n",
    "    return m,n,jobs"
   ]
  },
  {
   "cell_type": "markdown",
   "metadata": {},
   "source": [
    "Também reutilizamos a de gravar, novamente, com alguns ajustes"
   ]
  },
  {
   "cell_type": "code",
   "execution_count": 5,
   "metadata": {},
   "outputs": [],
   "source": [
    "def gravaSched(maqs,m,regra):\n",
    "\n",
    "    n=len(jobs)\n",
    "    tab1=[]\n",
    "    print(regra)\n",
    "    print('{:2s} {:2s} {:2s} {:2s}'.format('maq','#','p','C'))\n",
    "    for maq in maqs:\n",
    "        for job in maq.jobs:\n",
    "            tab1.append([maq.k,job.i, job.p, job.C])\n",
    "            print('{:2d} {:2d} {:2d} {:2d}'.format(maq.k, job.i, job.p, job.C))\n",
    "    \n",
    "    i=wb2.sheets.count\n",
    "    pl1=wb2.sheets.add(regra,after=i)\n",
    "    pl1.range('A5').value=['m',m]\n",
    "    pl1.range('A6').value=['n',n]\n",
    "    pl1.range('E5').value=['Fbar',Fbar]\n",
    "    pl1.range('E6').value=['Cmax',Cmax]\n",
    "    pl1.range('A10').value=['maq','#','p','C']\n",
    "    pl1.range('A11').value=tab1\n",
    "\n",
    "    print()\n",
    "    print('Cmax: {:4.1f}'.format(Cmax))\n",
    "    print('Fbar: {:4.1f}'.format(Fbar))"
   ]
  },
  {
   "cell_type": "markdown",
   "metadata": {},
   "source": []
  },
  {
   "cell_type": "markdown",
   "metadata": {},
   "source": [
    "### Procedimento\n",
    "    1. Ordenar os jobs em ordem decrescente dos tempos de processamento (LPT).\n",
    "\n",
    "    2. Seguindo a ordem LPT, alocar os jobs na máquina com menor carga (soma dos tempos de processamento dos jobs já alocados). Em caso de empate, escolher arbitrariamente uma entre as máquinas com menor carga (p.ex: máquina de menor índice).\n",
    "\n",
    "    3. Definidas as alocações, ordenar os jobs em cada máquina em ordem crescente dos tempos (SPT).\n",
    "    \n",
    "    4. Calcular os indicadores Cmax e Fbar."
   ]
  },
  {
   "cell_type": "code",
   "execution_count": 6,
   "metadata": {},
   "outputs": [],
   "source": [
    "def calcInd(jobs, m, n):     # Indicadores para SMP\n",
    "    \n",
    "    maqs = [Maq(k+1) for k in range(m)]\n",
    "    jobs.sort(key=lambda job: job.p, reverse=True)\n",
    "    for job in jobs:\n",
    "        minim = 9999999999\n",
    "        for ind in range(len(maqs)):\n",
    "            if maqs[ind].carga < minim:\n",
    "                minim = maqs[ind].carga\n",
    "                achou = ind\n",
    "        maqs[achou].jobs.append(job)\n",
    "        maqs[achou].carga += job.p\n",
    "\n",
    "    Cmax=0\n",
    "    for maq in maqs:\n",
    "        maq.jobs.sort(key=lambda job: job.p)\n",
    "        maq.jobs[0].C=maq.jobs[0].p\n",
    "        for j in range(1,len(maq.jobs)):\n",
    "            maq.jobs[j].C=maq.jobs[j-1].C+maq.jobs[j].p\n",
    "        if maq.carga > Cmax:\n",
    "            Cmax = maq.carga\n",
    "    \n",
    "    Fbar = sum([job.C for maq in maqs for job in maq.jobs])/n\n",
    "\n",
    "    return maqs, Cmax, Fbar"
   ]
  },
  {
   "cell_type": "markdown",
   "metadata": {},
   "source": []
  },
  {
   "cell_type": "markdown",
   "metadata": {},
   "source": [
    "## Principal"
   ]
  },
  {
   "cell_type": "markdown",
   "metadata": {},
   "source": [
    "Abre os dois arquivos que vão ser usados"
   ]
  },
  {
   "cell_type": "code",
   "execution_count": 7,
   "metadata": {
    "tags": []
   },
   "outputs": [],
   "source": [
    "wb1 = xw.Book(\"xl06 3 A PMP Cmax LPT-SPT.xlsx\")\n",
    "wb2 = xw.Book()"
   ]
  },
  {
   "cell_type": "markdown",
   "metadata": {},
   "source": [
    "Teste 1:"
   ]
  },
  {
   "cell_type": "code",
   "execution_count": 8,
   "metadata": {
    "tags": []
   },
   "outputs": [
    {
     "output_type": "stream",
     "name": "stdout",
     "text": "\nn = 5\nm = 2\ndados = [[1, 3], [2, 4], [3, 2], [4, 6], [5, 1]]\nI(1)\nmaq #  p  C \n 1  2  2  2\n 1  3  6  8\n 2  4  1  1\n 2  0  3  4\n 2  1  4  8\n\nCmax:  8.0\nFbar:  4.6\n"
    }
   ],
   "source": [
    "m,n,jobs=leInst(0)\n",
    "\n",
    "maqs, Cmax, Fbar = calcInd(jobs, m, n)\n",
    "\n",
    "gravaSched(maqs, m, 'I(1)')"
   ]
  },
  {
   "cell_type": "markdown",
   "metadata": {},
   "source": []
  },
  {
   "cell_type": "markdown",
   "metadata": {},
   "source": [
    "Teste 2:"
   ]
  },
  {
   "cell_type": "code",
   "execution_count": 9,
   "metadata": {
    "tags": []
   },
   "outputs": [
    {
     "output_type": "stream",
     "name": "stdout",
     "text": "\nn = 10\nm = 3\ndados = [[1, 4], [2, 2], [3, 9], [4, 12], [5, 15], [6, 1], [7, 5], [8, 1], [9, 3], [10, 7]]\nI(2)\nmaq #  p  C \n 1  5  1  1\n 1  0  4  5\n 1  4 15 20\n 2  7  1  1\n 2  1  2  3\n 2  6  5  8\n 2  3 12 20\n 3  8  3  3\n 3  9  7 10\n 3  2  9 19\n\nCmax: 20.0\nFbar:  9.0\n"
    }
   ],
   "source": [
    "m,n,jobs=leInst(1)\n",
    "\n",
    "maqs, Cmax, Fbar = calcInd(jobs, m, n)\n",
    "\n",
    "gravaSched(maqs, m, 'I(2)')"
   ]
  },
  {
   "cell_type": "markdown",
   "metadata": {},
   "source": []
  },
  {
   "cell_type": "markdown",
   "metadata": {},
   "source": [
    "Teste 3:"
   ]
  },
  {
   "cell_type": "code",
   "execution_count": 10,
   "metadata": {
    "tags": []
   },
   "outputs": [
    {
     "output_type": "stream",
     "name": "stdout",
     "text": "\nn = 12\nm = 3\ndados = [[1, 12], [2, 6], [3, 7], [4, 8], [5, 2], [6, 3], [7, 15], [8, 16], [9, 20], [10, 13], [11, 17], [12, 10]]\nI(3)\nmaq #  p  C \n 1  1  6  6\n 1  2  7 13\n 1  0 12 25\n 1  8 20 45\n 2  4  2  2\n 2 11 10 12\n 2  9 13 25\n 2 10 17 42\n 3  5  3  3\n 3  3  8 11\n 3  6 15 26\n 3  7 16 42\n\nCmax: 45.0\nFbar: 21.0\n"
    }
   ],
   "source": [
    "m,n,jobs=leInst(2)\n",
    "\n",
    "maqs, Cmax, Fbar = calcInd(jobs, m, n)\n",
    "\n",
    "gravaSched(maqs, m, 'I(3)')"
   ]
  },
  {
   "cell_type": "markdown",
   "metadata": {},
   "source": []
  },
  {
   "cell_type": "markdown",
   "metadata": {},
   "source": [
    "Teste 4:"
   ]
  },
  {
   "cell_type": "code",
   "execution_count": 11,
   "metadata": {
    "tags": []
   },
   "outputs": [
    {
     "output_type": "stream",
     "name": "stdout",
     "text": "\nn = 12\nm = 3\ndados = [[1, 1], [2, 2], [3, 3], [4, 4], [5, 5], [6, 6], [7, 7], [8, 8], [9, 9], [10, 10], [11, 11], [12, 12]]\nI(4)\nmaq #  p  C \n 1  0  1  1\n 1  5  6  7\n 1  6  7 14\n 1 11 12 26\n 2  1  2  2\n 2  4  5  7\n 2  7  8 15\n 2 10 11 26\n 3  2  3  3\n 3  3  4  7\n 3  8  9 16\n 3  9 10 26\n\nCmax: 26.0\nFbar: 12.5\n"
    }
   ],
   "source": [
    "m,n,jobs=leInst(3)\n",
    "\n",
    "maqs, Cmax, Fbar = calcInd(jobs, m, n)\n",
    "\n",
    "gravaSched(maqs, m, 'I(4)')"
   ]
  },
  {
   "cell_type": "markdown",
   "metadata": {},
   "source": []
  },
  {
   "cell_type": "markdown",
   "metadata": {},
   "source": [
    "Teste 5:"
   ]
  },
  {
   "cell_type": "code",
   "execution_count": 12,
   "metadata": {
    "tags": []
   },
   "outputs": [
    {
     "output_type": "stream",
     "name": "stdout",
     "text": "\nn = 15\nm = 5\ndados = [[1, 1], [2, 1], [3, 1], [4, 1], [5, 1], [6, 1], [7, 1], [8, 1], [9, 1], [10, 1], [11, 1], [12, 1], [13, 1], [14, 1], [15, 1]]\nI(5)\nmaq #  p  C \n 1  0  1  1\n 1  5  1  2\n 1 10  1  3\n 2  1  1  1\n 2  6  1  2\n 2 11  1  3\n 3  2  1  1\n 3  7  1  2\n 3 12  1  3\n 4  3  1  1\n 4  8  1  2\n 4 13  1  3\n 5  4  1  1\n 5  9  1  2\n 5 14  1  3\n\nCmax:  3.0\nFbar:  2.0\n"
    }
   ],
   "source": [
    "m,n,jobs=leInst(4)\n",
    "\n",
    "maqs, Cmax, Fbar = calcInd(jobs, m, n)\n",
    "\n",
    "gravaSched(maqs, m, 'I(5)')"
   ]
  },
  {
   "cell_type": "markdown",
   "metadata": {},
   "source": []
  },
  {
   "cell_type": "markdown",
   "metadata": {},
   "source": [
    "Teste 6:"
   ]
  },
  {
   "cell_type": "code",
   "execution_count": 13,
   "metadata": {
    "tags": []
   },
   "outputs": [
    {
     "output_type": "stream",
     "name": "stdout",
     "text": "\nn = 20\nm = 5\ndados = [[1, 13], [2, 48], [3, 55], [4, 76], [5, 63], [6, 61], [7, 90], [8, 19], [9, 48], [10, 94], [11, 55], [12, 32], [13, 37], [14, 14], [15, 14], [16, 15], [17, 24], [18, 17], [19, 70], [20, 2]]\nI(6)\nmaq #  p  C \n 1  0 13 13\n 1 17 17 30\n 1  8 48 78\n 1  9 94 172\n 2 13 14 14\n 2  7 19 33\n 2  1 48 81\n 2  6 90 171\n 3 15 15 15\n 3 16 24 39\n 3 10 55 94\n 3  3 76 170\n 4 14 14 14\n 4 11 32 46\n 4  2 55 101\n 4 18 70 171\n 5 19  2  2\n 5 12 37 39\n 5  5 61 100\n 5  4 63 163\n\nCmax: 172.0\nFbar: 77.3\n"
    }
   ],
   "source": [
    "m,n,jobs=leInst(5)\n",
    "\n",
    "maqs, Cmax, Fbar = calcInd(jobs, m, n)\n",
    "\n",
    "gravaSched(maqs, m, 'I(6)')"
   ]
  },
  {
   "cell_type": "markdown",
   "metadata": {},
   "source": []
  },
  {
   "cell_type": "markdown",
   "metadata": {},
   "source": [
    "Teste 7:"
   ]
  },
  {
   "cell_type": "code",
   "execution_count": 14,
   "metadata": {
    "tags": []
   },
   "outputs": [
    {
     "output_type": "stream",
     "name": "stdout",
     "text": "\nn = 50\nm = 5\ndados = [[1, 27], [2, 59], [3, 91], [4, 25], [5, 70], [6, 51], [7, 61], [8, 98], [9, 98], [10, 77], [11, 48], [12, 81], [13, 53], [14, 7], [15, 95], [16, 56], [17, 1], [18, 48], [19, 92], [20, 42], [21, 61], [22, 19], [23, 93], [24, 9], [25, 60], [26, 59], [27, 71], [28, 69], [29, 11], [30, 36], [31, 85], [32, 82], [33, 87], [34, 36], [35, 13], [36, 9], [37, 61], [38, 85], [39, 82], [40, 99], [41, 17], [42, 24], [43, 32], [44, 77], [45, 45], [46, 18], [47, 72], [48, 44], [49, 21], [50, 48]]\nI(7)\nmaq #  p  C \n 1 16  1  1\n 1 40 17 18\n 1 29 36 54\n 1 33 36 90\n 1 12 53 143\n 1  1 59 202\n 1 27 69 271\n 1 38 82 353\n 1 37 85 438\n 1 39 99 537\n 2 23  9  9\n 2 45 18 27\n 2  0 27 54\n 2 47 44 98\n 2 15 56 154\n 2  6 61 215\n 2 20 61 276\n 2 11 81 357\n 2 32 87 444\n 2  7 98 542\n 3 28 11 11\n 3 34 13 24\n 3 42 32 56\n 3 19 42 98\n 3  5 51 149\n 3 25 59 208\n 3  4 70 278\n 3 31 82 360\n 3 30 85 445\n 3  8 98 543\n 4 13  7  7\n 4 48 21 28\n 4  3 25 53\n 4 44 45 98\n 4 17 48 146\n 4 36 61 207\n 4 26 71 278\n 4 43 77 355\n 4  2 91 446\n 4 14 95 541\n 5 35  9  9\n 5 21 19 28\n 5 41 24 52\n 5 10 48 100\n 5 49 48 148\n 5 24 60 208\n 5 46 72 280\n 5  9 77 357\n 5 18 92 449\n 5 22 93 542\n\nCmax: 543.0\nFbar: 215.7\n"
    }
   ],
   "source": [
    "m,n,jobs=leInst(6)\n",
    "\n",
    "maqs, Cmax, Fbar = calcInd(jobs, m, n)\n",
    "\n",
    "gravaSched(maqs, m, 'I(7)')"
   ]
  },
  {
   "cell_type": "markdown",
   "metadata": {},
   "source": []
  },
  {
   "cell_type": "markdown",
   "metadata": {},
   "source": [
    "Fecha o workbook de Dados"
   ]
  },
  {
   "cell_type": "code",
   "execution_count": 15,
   "metadata": {},
   "outputs": [],
   "source": [
    "wb1.close()"
   ]
  }
 ]
}
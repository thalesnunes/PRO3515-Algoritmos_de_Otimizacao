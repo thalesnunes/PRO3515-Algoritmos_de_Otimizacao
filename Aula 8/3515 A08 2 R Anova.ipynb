{
 "cells": [
  {
   "cell_type": "markdown",
   "metadata": {},
   "source": [
    "# PRO3515 Algoritmos de Otimização para Programação de Produção\n",
    "## Aula 8 - R Anova"
   ]
  },
  {
   "cell_type": "markdown",
   "metadata": {},
   "source": [
    "### R"
   ]
  },
  {
   "cell_type": "code",
   "execution_count": null,
   "metadata": {},
   "outputs": [],
   "source": [
    "print('Olá R')"
   ]
  },
  {
   "cell_type": "markdown",
   "metadata": {},
   "source": [
    "### Estrutura de Dados"
   ]
  },
  {
   "cell_type": "markdown",
   "metadata": {},
   "source": [
    "#### Variáveis"
   ]
  },
  {
   "cell_type": "code",
   "execution_count": 5,
   "metadata": {},
   "outputs": [
    {
     "data": {
      "text/html": [
       "2"
      ],
      "text/latex": [
       "2"
      ],
      "text/markdown": [
       "2"
      ],
      "text/plain": [
       "[1] 2"
      ]
     },
     "metadata": {},
     "output_type": "display_data"
    }
   ],
   "source": [
    "x<-2.0\n",
    "x"
   ]
  },
  {
   "cell_type": "code",
   "execution_count": 6,
   "metadata": {},
   "outputs": [
    {
     "data": {
      "text/html": [
       "'numeric'"
      ],
      "text/latex": [
       "'numeric'"
      ],
      "text/markdown": [
       "'numeric'"
      ],
      "text/plain": [
       "[1] \"numeric\""
      ]
     },
     "metadata": {},
     "output_type": "display_data"
    }
   ],
   "source": [
    "class(x)"
   ]
  },
  {
   "cell_type": "code",
   "execution_count": 7,
   "metadata": {},
   "outputs": [
    {
     "data": {
      "text/html": [
       "12"
      ],
      "text/latex": [
       "12"
      ],
      "text/markdown": [
       "12"
      ],
      "text/plain": [
       "[1] 12"
      ]
     },
     "metadata": {},
     "output_type": "display_data"
    }
   ],
   "source": [
    "y<-x**2+3*x+2\n",
    "y"
   ]
  },
  {
   "cell_type": "code",
   "execution_count": 8,
   "metadata": {},
   "outputs": [
    {
     "data": {
      "text/html": [
       "TRUE"
      ],
      "text/latex": [
       "TRUE"
      ],
      "text/markdown": [
       "TRUE"
      ],
      "text/plain": [
       "[1] TRUE"
      ]
     },
     "metadata": {},
     "output_type": "display_data"
    }
   ],
   "source": [
    "a<-TRUE\n",
    "a"
   ]
  },
  {
   "cell_type": "code",
   "execution_count": 9,
   "metadata": {},
   "outputs": [
    {
     "data": {
      "text/html": [
       "FALSE"
      ],
      "text/latex": [
       "FALSE"
      ],
      "text/markdown": [
       "FALSE"
      ],
      "text/plain": [
       "[1] FALSE"
      ]
     },
     "metadata": {},
     "output_type": "display_data"
    }
   ],
   "source": [
    "b<-!a\n",
    "b"
   ]
  },
  {
   "cell_type": "code",
   "execution_count": 10,
   "metadata": {},
   "outputs": [
    {
     "name": "stdout",
     "output_type": "stream",
     "text": [
      "[1] TRUE\n"
     ]
    }
   ],
   "source": [
    "print(a|b)"
   ]
  },
  {
   "cell_type": "code",
   "execution_count": 11,
   "metadata": {},
   "outputs": [
    {
     "data": {
      "text/html": [
       "'maça'"
      ],
      "text/latex": [
       "'maça'"
      ],
      "text/markdown": [
       "'maça'"
      ],
      "text/plain": [
       "[1] \"maça\""
      ]
     },
     "metadata": {},
     "output_type": "display_data"
    }
   ],
   "source": [
    "fruta<-'maça'\n",
    "fruta"
   ]
  },
  {
   "cell_type": "markdown",
   "metadata": {},
   "source": [
    "#### Vetor"
   ]
  },
  {
   "cell_type": "code",
   "execution_count": 12,
   "metadata": {},
   "outputs": [
    {
     "data": {
      "text/html": [
       "<style>\n",
       ".list-inline {list-style: none; margin:0; padding: 0}\n",
       ".list-inline>li {display: inline-block}\n",
       ".list-inline>li:not(:last-child)::after {content: \"\\00b7\"; padding: 0 .5ex}\n",
       "</style>\n",
       "<ol class=list-inline><li>1</li><li>2</li><li>3</li></ol>\n"
      ],
      "text/latex": [
       "\\begin{enumerate*}\n",
       "\\item 1\n",
       "\\item 2\n",
       "\\item 3\n",
       "\\end{enumerate*}\n"
      ],
      "text/markdown": [
       "1. 1\n",
       "2. 2\n",
       "3. 3\n",
       "\n",
       "\n"
      ],
      "text/plain": [
       "[1] 1 2 3"
      ]
     },
     "metadata": {},
     "output_type": "display_data"
    }
   ],
   "source": [
    "x<-c(1,2,3)\n",
    "x"
   ]
  },
  {
   "cell_type": "code",
   "execution_count": 13,
   "metadata": {},
   "outputs": [
    {
     "data": {
      "text/html": [
       "<style>\n",
       ".list-inline {list-style: none; margin:0; padding: 0}\n",
       ".list-inline>li {display: inline-block}\n",
       ".list-inline>li:not(:last-child)::after {content: \"\\00b7\"; padding: 0 .5ex}\n",
       "</style>\n",
       "<ol class=list-inline><li>'a'</li><li>'b'</li><li>'c'</li></ol>\n"
      ],
      "text/latex": [
       "\\begin{enumerate*}\n",
       "\\item 'a'\n",
       "\\item 'b'\n",
       "\\item 'c'\n",
       "\\end{enumerate*}\n"
      ],
      "text/markdown": [
       "1. 'a'\n",
       "2. 'b'\n",
       "3. 'c'\n",
       "\n",
       "\n"
      ],
      "text/plain": [
       "[1] \"a\" \"b\" \"c\""
      ]
     },
     "metadata": {},
     "output_type": "display_data"
    }
   ],
   "source": [
    "a<-c('a','b','c')\n",
    "a"
   ]
  },
  {
   "cell_type": "markdown",
   "metadata": {},
   "source": [
    "#### Matriz"
   ]
  },
  {
   "cell_type": "code",
   "execution_count": 14,
   "metadata": {},
   "outputs": [
    {
     "name": "stdout",
     "output_type": "stream",
     "text": [
      "     [,1] [,2] [,3]\n",
      "[1,]    2    4    3\n",
      "[2,]    1    5    7\n"
     ]
    }
   ],
   "source": [
    "A <- matrix(c(2, 4, 3, 1, 5, 7), nrow=2, ncol=3, byrow = TRUE)\n",
    "print(A)"
   ]
  },
  {
   "cell_type": "markdown",
   "metadata": {},
   "source": [
    "#### Tabelas"
   ]
  },
  {
   "cell_type": "code",
   "execution_count": 15,
   "metadata": {},
   "outputs": [
    {
     "name": "stdout",
     "output_type": "stream",
     "text": [
      "                     mpg cyl  disp  hp drat    wt  qsec vs am gear carb\n",
      "Mazda RX4           21.0   6 160.0 110 3.90 2.620 16.46  0  1    4    4\n",
      "Mazda RX4 Wag       21.0   6 160.0 110 3.90 2.875 17.02  0  1    4    4\n",
      "Datsun 710          22.8   4 108.0  93 3.85 2.320 18.61  1  1    4    1\n",
      "Hornet 4 Drive      21.4   6 258.0 110 3.08 3.215 19.44  1  0    3    1\n",
      "Hornet Sportabout   18.7   8 360.0 175 3.15 3.440 17.02  0  0    3    2\n",
      "Valiant             18.1   6 225.0 105 2.76 3.460 20.22  1  0    3    1\n",
      "Duster 360          14.3   8 360.0 245 3.21 3.570 15.84  0  0    3    4\n",
      "Merc 240D           24.4   4 146.7  62 3.69 3.190 20.00  1  0    4    2\n",
      "Merc 230            22.8   4 140.8  95 3.92 3.150 22.90  1  0    4    2\n",
      "Merc 280            19.2   6 167.6 123 3.92 3.440 18.30  1  0    4    4\n",
      "Merc 280C           17.8   6 167.6 123 3.92 3.440 18.90  1  0    4    4\n",
      "Merc 450SE          16.4   8 275.8 180 3.07 4.070 17.40  0  0    3    3\n",
      "Merc 450SL          17.3   8 275.8 180 3.07 3.730 17.60  0  0    3    3\n",
      "Merc 450SLC         15.2   8 275.8 180 3.07 3.780 18.00  0  0    3    3\n",
      "Cadillac Fleetwood  10.4   8 472.0 205 2.93 5.250 17.98  0  0    3    4\n",
      "Lincoln Continental 10.4   8 460.0 215 3.00 5.424 17.82  0  0    3    4\n",
      "Chrysler Imperial   14.7   8 440.0 230 3.23 5.345 17.42  0  0    3    4\n",
      "Fiat 128            32.4   4  78.7  66 4.08 2.200 19.47  1  1    4    1\n",
      "Honda Civic         30.4   4  75.7  52 4.93 1.615 18.52  1  1    4    2\n",
      "Toyota Corolla      33.9   4  71.1  65 4.22 1.835 19.90  1  1    4    1\n",
      "Toyota Corona       21.5   4 120.1  97 3.70 2.465 20.01  1  0    3    1\n",
      "Dodge Challenger    15.5   8 318.0 150 2.76 3.520 16.87  0  0    3    2\n",
      "AMC Javelin         15.2   8 304.0 150 3.15 3.435 17.30  0  0    3    2\n",
      "Camaro Z28          13.3   8 350.0 245 3.73 3.840 15.41  0  0    3    4\n",
      "Pontiac Firebird    19.2   8 400.0 175 3.08 3.845 17.05  0  0    3    2\n",
      "Fiat X1-9           27.3   4  79.0  66 4.08 1.935 18.90  1  1    4    1\n",
      "Porsche 914-2       26.0   4 120.3  91 4.43 2.140 16.70  0  1    5    2\n",
      "Lotus Europa        30.4   4  95.1 113 3.77 1.513 16.90  1  1    5    2\n",
      "Ford Pantera L      15.8   8 351.0 264 4.22 3.170 14.50  0  1    5    4\n",
      "Ferrari Dino        19.7   6 145.0 175 3.62 2.770 15.50  0  1    5    6\n",
      "Maserati Bora       15.0   8 301.0 335 3.54 3.570 14.60  0  1    5    8\n",
      "Volvo 142E          21.4   4 121.0 109 4.11 2.780 18.60  1  1    4    2\n"
     ]
    }
   ],
   "source": [
    "print(mtcars)"
   ]
  },
  {
   "cell_type": "code",
   "execution_count": 16,
   "metadata": {},
   "outputs": [
    {
     "name": "stdout",
     "output_type": "stream",
     "text": [
      " [1] 21.0 21.0 22.8 21.4 18.7 18.1 14.3 24.4 22.8 19.2 17.8 16.4 17.3 15.2 10.4\n",
      "[16] 10.4 14.7 32.4 30.4 33.9 21.5 15.5 15.2 13.3 19.2 27.3 26.0 30.4 15.8 19.7\n",
      "[31] 15.0 21.4\n"
     ]
    }
   ],
   "source": [
    "print(mtcars[,1])"
   ]
  },
  {
   "cell_type": "code",
   "execution_count": 17,
   "metadata": {},
   "outputs": [
    {
     "name": "stdout",
     "output_type": "stream",
     "text": [
      "          mpg cyl disp  hp drat   wt  qsec vs am gear carb\n",
      "Mazda RX4  21   6  160 110  3.9 2.62 16.46  0  1    4    4\n"
     ]
    }
   ],
   "source": [
    "print(mtcars[1,])"
   ]
  },
  {
   "cell_type": "code",
   "execution_count": 18,
   "metadata": {},
   "outputs": [
    {
     "name": "stdout",
     "output_type": "stream",
     "text": [
      "                   mpg cyl disp  hp drat    wt  qsec vs am gear carb\n",
      "Mazda RX4         21.0   6  160 110 3.90 2.620 16.46  0  1    4    4\n",
      "Mazda RX4 Wag     21.0   6  160 110 3.90 2.875 17.02  0  1    4    4\n",
      "Datsun 710        22.8   4  108  93 3.85 2.320 18.61  1  1    4    1\n",
      "Hornet 4 Drive    21.4   6  258 110 3.08 3.215 19.44  1  0    3    1\n",
      "Hornet Sportabout 18.7   8  360 175 3.15 3.440 17.02  0  0    3    2\n",
      "Valiant           18.1   6  225 105 2.76 3.460 20.22  1  0    3    1\n"
     ]
    }
   ],
   "source": [
    "print(head(mtcars))"
   ]
  },
  {
   "cell_type": "markdown",
   "metadata": {},
   "source": [
    "### Variáveis Qualitativas"
   ]
  },
  {
   "cell_type": "code",
   "execution_count": 19,
   "metadata": {},
   "outputs": [
    {
     "name": "stdout",
     "output_type": "stream",
     "text": [
      " [1] \"a\" \"b\" \"c\" \"a\" \"a\" \"b\" \"c\" \"b\" \"a\" \"a\"\n"
     ]
    }
   ],
   "source": [
    "amostra1<-c('a','b','c','a','a','b','c','b','a','a')\n",
    "print(amostra1)"
   ]
  },
  {
   "cell_type": "code",
   "execution_count": 20,
   "metadata": {},
   "outputs": [
    {
     "name": "stdout",
     "output_type": "stream",
     "text": [
      "amostra1\n",
      "a b c \n",
      "5 3 2 \n"
     ]
    }
   ],
   "source": [
    "amostra1.freq<-table(amostra1)\n",
    "print(amostra1.freq)"
   ]
  },
  {
   "cell_type": "code",
   "execution_count": 24,
   "metadata": {},
   "outputs": [
    {
     "data": {
      "image/png": "[encoded data removed]",
      "text/plain": [
       "plot without title"
      ]
     },
     "metadata": {
      "image/png": {
       "height": 420,
       "width": 420
      }
     },
     "output_type": "display_data"
    }
   ],
   "source": [
    "barplot(amostra1.freq)"
   ]
  },
  {
   "cell_type": "code",
   "execution_count": 25,
   "metadata": {},
   "outputs": [
    {
     "data": {
      "image/png": "[encoded data removed]",
      "text/plain": [
       "plot without title"
      ]
     },
     "metadata": {
      "image/png": {
       "height": 420,
       "width": 420
      }
     },
     "output_type": "display_data"
    }
   ],
   "source": [
    "pie(amostra1.freq) "
   ]
  },
  {
   "cell_type": "markdown",
   "metadata": {},
   "source": [
    "### Variáveis Quantitativas"
   ]
  },
  {
   "cell_type": "code",
   "execution_count": 26,
   "metadata": {},
   "outputs": [
    {
     "name": "stdout",
     "output_type": "stream",
     "text": [
      " [1] 21.0 21.0 22.8 21.4 18.7 18.1 14.3 24.4 22.8 19.2 17.8 16.4 17.3 15.2 10.4\n",
      "[16] 10.4 14.7 32.4 30.4 33.9 21.5 15.5 15.2 13.3 19.2 27.3 26.0 30.4 15.8 19.7\n",
      "[31] 15.0 21.4\n"
     ]
    }
   ],
   "source": [
    "amostra2<-mtcars[,1]\n",
    "print(amostra2)"
   ]
  },
  {
   "cell_type": "code",
   "execution_count": 27,
   "metadata": {},
   "outputs": [
    {
     "data": {
      "text/html": [
       "20.090625"
      ],
      "text/latex": [
       "20.090625"
      ],
      "text/markdown": [
       "20.090625"
      ],
      "text/plain": [
       "[1] 20.09062"
      ]
     },
     "metadata": {},
     "output_type": "display_data"
    }
   ],
   "source": [
    "mean(amostra2)"
   ]
  },
  {
   "cell_type": "code",
   "execution_count": 28,
   "metadata": {},
   "outputs": [
    {
     "data": {
      "text/html": [
       "6.0269480520891"
      ],
      "text/latex": [
       "6.0269480520891"
      ],
      "text/markdown": [
       "6.0269480520891"
      ],
      "text/plain": [
       "[1] 6.026948"
      ]
     },
     "metadata": {},
     "output_type": "display_data"
    }
   ],
   "source": [
    "sd(amostra2)"
   ]
  },
  {
   "cell_type": "code",
   "execution_count": 29,
   "metadata": {},
   "outputs": [
    {
     "data": {
      "text/plain": [
       "   Min. 1st Qu.  Median    Mean 3rd Qu.    Max. \n",
       "  10.40   15.43   19.20   20.09   22.80   33.90 "
      ]
     },
     "metadata": {},
     "output_type": "display_data"
    }
   ],
   "source": [
    "summary(amostra2)"
   ]
  },
  {
   "cell_type": "code",
   "execution_count": 30,
   "metadata": {},
   "outputs": [
    {
     "data": {
      "image/png": "[encoded data removed]",
      "text/plain": [
       "Plot with title “Histogram of amostra2”"
      ]
     },
     "metadata": {
      "image/png": {
       "height": 420,
       "width": 420
      }
     },
     "output_type": "display_data"
    }
   ],
   "source": [
    "hist(amostra2)"
   ]
  },
  {
   "cell_type": "code",
   "execution_count": 31,
   "metadata": {},
   "outputs": [
    {
     "data": {
      "image/png": "[encoded data removed]",
      "text/plain": [
       "plot without title"
      ]
     },
     "metadata": {
      "image/png": {
       "height": 420,
       "width": 420
      }
     },
     "output_type": "display_data"
    }
   ],
   "source": [
    "boxplot(amostra2, horizontal=TRUE)"
   ]
  },
  {
   "cell_type": "markdown",
   "metadata": {},
   "source": [
    "### Anova - Analysis of Variance"
   ]
  },
  {
   "cell_type": "markdown",
   "metadata": {},
   "source": [
    "### 1. Dados simulados"
   ]
  },
  {
   "cell_type": "code",
   "execution_count": 32,
   "metadata": {},
   "outputs": [],
   "source": [
    "a<-rnorm(100,40,1)"
   ]
  },
  {
   "cell_type": "code",
   "execution_count": 33,
   "metadata": {},
   "outputs": [
    {
     "name": "stdout",
     "output_type": "stream",
     "text": [
      "  [1] 40.79461 38.44245 39.38531 38.89723 40.73460 39.44478 39.92144 39.73942\n",
      "  [9] 42.05406 41.04020 40.18929 39.08233 40.46723 38.53111 39.74341 39.40976\n",
      " [17] 40.56937 39.91351 40.02964 40.50005 38.40284 40.04347 39.75609 39.10965\n",
      " [25] 39.11211 38.71070 40.32622 41.89043 40.10919 40.42883 41.27715 39.04410\n",
      " [33] 39.71875 40.78220 41.36114 38.99541 40.14003 42.01304 41.46864 41.52926\n",
      " [41] 40.62009 41.69556 39.78857 40.84496 38.32736 41.61316 39.43093 40.35099\n",
      " [49] 40.90977 39.02729 38.74400 41.38539 41.43841 38.67755 41.67987 38.44353\n",
      " [57] 39.24884 40.01437 39.01956 41.17634 40.42358 39.50715 40.23051 40.31912\n",
      " [65] 40.38311 40.14225 41.71189 39.06871 41.37255 41.13122 40.55303 39.27572\n",
      " [73] 37.42683 40.41516 40.68744 39.32785 39.82009 39.24462 39.12866 39.99512\n",
      " [81] 41.29831 40.37294 40.14449 39.31829 40.01234 38.68082 38.62745 39.03503\n",
      " [89] 41.07034 39.61425 38.83302 41.15374 38.67799 39.94486 42.59416 41.09367\n",
      " [97] 40.33627 40.34105 40.62908 40.49069\n"
     ]
    }
   ],
   "source": [
    "print(a)"
   ]
  },
  {
   "cell_type": "code",
   "execution_count": 34,
   "metadata": {},
   "outputs": [
    {
     "data": {
      "text/html": [
       "40.0797897086576"
      ],
      "text/latex": [
       "40.0797897086576"
      ],
      "text/markdown": [
       "40.0797897086576"
      ],
      "text/plain": [
       "[1] 40.07979"
      ]
     },
     "metadata": {},
     "output_type": "display_data"
    }
   ],
   "source": [
    "mean(a)"
   ]
  },
  {
   "cell_type": "code",
   "execution_count": 35,
   "metadata": {},
   "outputs": [
    {
     "data": {
      "text/html": [
       "1.02988199044457"
      ],
      "text/latex": [
       "1.02988199044457"
      ],
      "text/markdown": [
       "1.02988199044457"
      ],
      "text/plain": [
       "[1] 1.029882"
      ]
     },
     "metadata": {},
     "output_type": "display_data"
    }
   ],
   "source": [
    "sd(a)"
   ]
  },
  {
   "cell_type": "code",
   "execution_count": 36,
   "metadata": {},
   "outputs": [
    {
     "data": {
      "image/png": "[encoded data removed]",
      "text/plain": [
       "Plot with title “Histogram of a”"
      ]
     },
     "metadata": {
      "image/png": {
       "height": 420,
       "width": 420
      }
     },
     "output_type": "display_data"
    }
   ],
   "source": [
    "hist(a)"
   ]
  },
  {
   "cell_type": "code",
   "execution_count": 37,
   "metadata": {},
   "outputs": [
    {
     "data": {
      "image/png": "[encoded data removed]",
      "text/plain": [
       "plot without title"
      ]
     },
     "metadata": {
      "image/png": {
       "height": 420,
       "width": 420
      }
     },
     "output_type": "display_data"
    }
   ],
   "source": [
    "boxplot(a,horizontal = TRUE)"
   ]
  },
  {
   "cell_type": "code",
   "execution_count": 38,
   "metadata": {},
   "outputs": [
    {
     "data": {
      "text/plain": [
       "   Min. 1st Qu.  Median    Mean 3rd Qu.    Max. \n",
       "  37.43   39.25   40.12   40.08   40.79   42.59 "
      ]
     },
     "metadata": {},
     "output_type": "display_data"
    }
   ],
   "source": [
    "summary(a)"
   ]
  },
  {
   "cell_type": "markdown",
   "metadata": {},
   "source": [
    "#### Três amostras para A.V."
   ]
  },
  {
   "cell_type": "code",
   "execution_count": 40,
   "metadata": {},
   "outputs": [
    {
     "data": {
      "text/html": [
       "<style>\n",
       ".list-inline {list-style: none; margin:0; padding: 0}\n",
       ".list-inline>li {display: inline-block}\n",
       ".list-inline>li:not(:last-child)::after {content: \"\\00b7\"; padding: 0 .5ex}\n",
       "</style>\n",
       "<ol class=list-inline><li>38.6845103482894</li><li>38.9580742114322</li><li>41.6746040710707</li><li>39.3060959077074</li><li>39.5854134454648</li><li>39.4029928805511</li><li>42.0398912856045</li><li>40.2788204200104</li><li>38.9821292634108</li><li>39.5659098372566</li></ol>\n"
      ],
      "text/latex": [
       "\\begin{enumerate*}\n",
       "\\item 38.6845103482894\n",
       "\\item 38.9580742114322\n",
       "\\item 41.6746040710707\n",
       "\\item 39.3060959077074\n",
       "\\item 39.5854134454648\n",
       "\\item 39.4029928805511\n",
       "\\item 42.0398912856045\n",
       "\\item 40.2788204200104\n",
       "\\item 38.9821292634108\n",
       "\\item 39.5659098372566\n",
       "\\end{enumerate*}\n"
      ],
      "text/markdown": [
       "1. 38.6845103482894\n",
       "2. 38.9580742114322\n",
       "3. 41.6746040710707\n",
       "4. 39.3060959077074\n",
       "5. 39.5854134454648\n",
       "6. 39.4029928805511\n",
       "7. 42.0398912856045\n",
       "8. 40.2788204200104\n",
       "9. 38.9821292634108\n",
       "10. 39.5659098372566\n",
       "\n",
       "\n"
      ],
      "text/plain": [
       " [1] 38.68451 38.95807 41.67460 39.30610 39.58541 39.40299 42.03989 40.27882\n",
       " [9] 38.98213 39.56591"
      ]
     },
     "metadata": {},
     "output_type": "display_data"
    }
   ],
   "source": [
    "a1<-rnorm(10,40,1)\n",
    "a1"
   ]
  },
  {
   "cell_type": "code",
   "execution_count": 41,
   "metadata": {},
   "outputs": [
    {
     "data": {
      "text/html": [
       "<style>\n",
       ".list-inline {list-style: none; margin:0; padding: 0}\n",
       ".list-inline>li {display: inline-block}\n",
       ".list-inline>li:not(:last-child)::after {content: \"\\00b7\"; padding: 0 .5ex}\n",
       "</style>\n",
       "<ol class=list-inline><li>42.4914784809912</li><li>39.491413793199</li><li>39.9971483304154</li><li>39.3072439088558</li><li>40.5129761484472</li><li>40.1273642455034</li><li>40.847322606586</li><li>38.9641799827514</li><li>39.6987890651203</li><li>39.1275877537663</li></ol>\n"
      ],
      "text/latex": [
       "\\begin{enumerate*}\n",
       "\\item 42.4914784809912\n",
       "\\item 39.491413793199\n",
       "\\item 39.9971483304154\n",
       "\\item 39.3072439088558\n",
       "\\item 40.5129761484472\n",
       "\\item 40.1273642455034\n",
       "\\item 40.847322606586\n",
       "\\item 38.9641799827514\n",
       "\\item 39.6987890651203\n",
       "\\item 39.1275877537663\n",
       "\\end{enumerate*}\n"
      ],
      "text/markdown": [
       "1. 42.4914784809912\n",
       "2. 39.491413793199\n",
       "3. 39.9971483304154\n",
       "4. 39.3072439088558\n",
       "5. 40.5129761484472\n",
       "6. 40.1273642455034\n",
       "7. 40.847322606586\n",
       "8. 38.9641799827514\n",
       "9. 39.6987890651203\n",
       "10. 39.1275877537663\n",
       "\n",
       "\n"
      ],
      "text/plain": [
       " [1] 42.49148 39.49141 39.99715 39.30724 40.51298 40.12736 40.84732 38.96418\n",
       " [9] 39.69879 39.12759"
      ]
     },
     "metadata": {},
     "output_type": "display_data"
    }
   ],
   "source": [
    "a2<-rnorm(10,40,1)\n",
    "a2"
   ]
  },
  {
   "cell_type": "code",
   "execution_count": 42,
   "metadata": {},
   "outputs": [
    {
     "data": {
      "text/html": [
       "<style>\n",
       ".list-inline {list-style: none; margin:0; padding: 0}\n",
       ".list-inline>li {display: inline-block}\n",
       ".list-inline>li:not(:last-child)::after {content: \"\\00b7\"; padding: 0 .5ex}\n",
       "</style>\n",
       "<ol class=list-inline><li>37.8996894116732</li><li>39.9194387729688</li><li>40.9580907235635</li><li>39.9255226848221</li><li>39.9403856811344</li><li>41.3339030822691</li><li>40.2070683219168</li><li>39.5039101803019</li><li>38.1369995744955</li><li>39.9550682981566</li></ol>\n"
      ],
      "text/latex": [
       "\\begin{enumerate*}\n",
       "\\item 37.8996894116732\n",
       "\\item 39.9194387729688\n",
       "\\item 40.9580907235635\n",
       "\\item 39.9255226848221\n",
       "\\item 39.9403856811344\n",
       "\\item 41.3339030822691\n",
       "\\item 40.2070683219168\n",
       "\\item 39.5039101803019\n",
       "\\item 38.1369995744955\n",
       "\\item 39.9550682981566\n",
       "\\end{enumerate*}\n"
      ],
      "text/markdown": [
       "1. 37.8996894116732\n",
       "2. 39.9194387729688\n",
       "3. 40.9580907235635\n",
       "4. 39.9255226848221\n",
       "5. 39.9403856811344\n",
       "6. 41.3339030822691\n",
       "7. 40.2070683219168\n",
       "8. 39.5039101803019\n",
       "9. 38.1369995744955\n",
       "10. 39.9550682981566\n",
       "\n",
       "\n"
      ],
      "text/plain": [
       " [1] 37.89969 39.91944 40.95809 39.92552 39.94039 41.33390 40.20707 39.50391\n",
       " [9] 38.13700 39.95507"
      ]
     },
     "metadata": {},
     "output_type": "display_data"
    }
   ],
   "source": [
    "a3<-rnorm(10,40,1)\n",
    "a3"
   ]
  },
  {
   "cell_type": "code",
   "execution_count": 45,
   "metadata": {},
   "outputs": [
    {
     "data": {
      "text/html": [
       "39.8478441670798"
      ],
      "text/latex": [
       "39.8478441670798"
      ],
      "text/markdown": [
       "39.8478441670798"
      ],
      "text/plain": [
       "[1] 39.84784"
      ]
     },
     "metadata": {},
     "output_type": "display_data"
    },
    {
     "data": {
      "text/html": [
       "1.14804674620466"
      ],
      "text/latex": [
       "1.14804674620466"
      ],
      "text/markdown": [
       "1.14804674620466"
      ],
      "text/plain": [
       "[1] 1.148047"
      ]
     },
     "metadata": {},
     "output_type": "display_data"
    }
   ],
   "source": [
    "mean(a1)\n",
    "sd(a1)"
   ]
  },
  {
   "cell_type": "code",
   "execution_count": 46,
   "metadata": {},
   "outputs": [
    {
     "data": {
      "text/html": [
       "40.0565504315636"
      ],
      "text/latex": [
       "40.0565504315636"
      ],
      "text/markdown": [
       "40.0565504315636"
      ],
      "text/plain": [
       "[1] 40.05655"
      ]
     },
     "metadata": {},
     "output_type": "display_data"
    },
    {
     "data": {
      "text/html": [
       "1.04542073476395"
      ],
      "text/latex": [
       "1.04542073476395"
      ],
      "text/markdown": [
       "1.04542073476395"
      ],
      "text/plain": [
       "[1] 1.045421"
      ]
     },
     "metadata": {},
     "output_type": "display_data"
    }
   ],
   "source": [
    "mean(a2)\n",
    "sd(a2)"
   ]
  },
  {
   "cell_type": "code",
   "execution_count": 47,
   "metadata": {},
   "outputs": [
    {
     "data": {
      "text/html": [
       "39.7780076731302"
      ],
      "text/latex": [
       "39.7780076731302"
      ],
      "text/markdown": [
       "39.7780076731302"
      ],
      "text/plain": [
       "[1] 39.77801"
      ]
     },
     "metadata": {},
     "output_type": "display_data"
    },
    {
     "data": {
      "text/html": [
       "1.07461086467062"
      ],
      "text/latex": [
       "1.07461086467062"
      ],
      "text/markdown": [
       "1.07461086467062"
      ],
      "text/plain": [
       "[1] 1.074611"
      ]
     },
     "metadata": {},
     "output_type": "display_data"
    }
   ],
   "source": [
    "mean(a3)\n",
    "sd(a3)"
   ]
  },
  {
   "cell_type": "code",
   "execution_count": 48,
   "metadata": {},
   "outputs": [
    {
     "data": {
      "text/html": [
       "<style>\n",
       ".list-inline {list-style: none; margin:0; padding: 0}\n",
       ".list-inline>li {display: inline-block}\n",
       ".list-inline>li:not(:last-child)::after {content: \"\\00b7\"; padding: 0 .5ex}\n",
       "</style>\n",
       "<ol class=list-inline><li>38.6845103482894</li><li>38.9580742114322</li><li>41.6746040710707</li><li>39.3060959077074</li><li>39.5854134454648</li><li>39.4029928805511</li><li>42.0398912856045</li><li>40.2788204200104</li><li>38.9821292634108</li><li>39.5659098372566</li><li>42.4914784809912</li><li>39.491413793199</li><li>39.9971483304154</li><li>39.3072439088558</li><li>40.5129761484472</li><li>40.1273642455034</li><li>40.847322606586</li><li>38.9641799827514</li><li>39.6987890651203</li><li>39.1275877537663</li><li>37.8996894116732</li><li>39.9194387729688</li><li>40.9580907235635</li><li>39.9255226848221</li><li>39.9403856811344</li><li>41.3339030822691</li><li>40.2070683219168</li><li>39.5039101803019</li><li>38.1369995744955</li><li>39.9550682981566</li></ol>\n"
      ],
      "text/latex": [
       "\\begin{enumerate*}\n",
       "\\item 38.6845103482894\n",
       "\\item 38.9580742114322\n",
       "\\item 41.6746040710707\n",
       "\\item 39.3060959077074\n",
       "\\item 39.5854134454648\n",
       "\\item 39.4029928805511\n",
       "\\item 42.0398912856045\n",
       "\\item 40.2788204200104\n",
       "\\item 38.9821292634108\n",
       "\\item 39.5659098372566\n",
       "\\item 42.4914784809912\n",
       "\\item 39.491413793199\n",
       "\\item 39.9971483304154\n",
       "\\item 39.3072439088558\n",
       "\\item 40.5129761484472\n",
       "\\item 40.1273642455034\n",
       "\\item 40.847322606586\n",
       "\\item 38.9641799827514\n",
       "\\item 39.6987890651203\n",
       "\\item 39.1275877537663\n",
       "\\item 37.8996894116732\n",
       "\\item 39.9194387729688\n",
       "\\item 40.9580907235635\n",
       "\\item 39.9255226848221\n",
       "\\item 39.9403856811344\n",
       "\\item 41.3339030822691\n",
       "\\item 40.2070683219168\n",
       "\\item 39.5039101803019\n",
       "\\item 38.1369995744955\n",
       "\\item 39.9550682981566\n",
       "\\end{enumerate*}\n"
      ],
      "text/markdown": [
       "1. 38.6845103482894\n",
       "2. 38.9580742114322\n",
       "3. 41.6746040710707\n",
       "4. 39.3060959077074\n",
       "5. 39.5854134454648\n",
       "6. 39.4029928805511\n",
       "7. 42.0398912856045\n",
       "8. 40.2788204200104\n",
       "9. 38.9821292634108\n",
       "10. 39.5659098372566\n",
       "11. 42.4914784809912\n",
       "12. 39.491413793199\n",
       "13. 39.9971483304154\n",
       "14. 39.3072439088558\n",
       "15. 40.5129761484472\n",
       "16. 40.1273642455034\n",
       "17. 40.847322606586\n",
       "18. 38.9641799827514\n",
       "19. 39.6987890651203\n",
       "20. 39.1275877537663\n",
       "21. 37.8996894116732\n",
       "22. 39.9194387729688\n",
       "23. 40.9580907235635\n",
       "24. 39.9255226848221\n",
       "25. 39.9403856811344\n",
       "26. 41.3339030822691\n",
       "27. 40.2070683219168\n",
       "28. 39.5039101803019\n",
       "29. 38.1369995744955\n",
       "30. 39.9550682981566\n",
       "\n",
       "\n"
      ],
      "text/plain": [
       " [1] 38.68451 38.95807 41.67460 39.30610 39.58541 39.40299 42.03989 40.27882\n",
       " [9] 38.98213 39.56591 42.49148 39.49141 39.99715 39.30724 40.51298 40.12736\n",
       "[17] 40.84732 38.96418 39.69879 39.12759 37.89969 39.91944 40.95809 39.92552\n",
       "[25] 39.94039 41.33390 40.20707 39.50391 38.13700 39.95507"
      ]
     },
     "metadata": {},
     "output_type": "display_data"
    }
   ],
   "source": [
    "Y<-c(a1,a2,a3)\n",
    "Y"
   ]
  },
  {
   "cell_type": "code",
   "execution_count": 49,
   "metadata": {},
   "outputs": [
    {
     "data": {
      "text/html": [
       "<style>\n",
       ".list-inline {list-style: none; margin:0; padding: 0}\n",
       ".list-inline>li {display: inline-block}\n",
       ".list-inline>li:not(:last-child)::after {content: \"\\00b7\"; padding: 0 .5ex}\n",
       "</style>\n",
       "<ol class=list-inline><li>'a1'</li><li>'a1'</li><li>'a1'</li><li>'a1'</li><li>'a1'</li><li>'a1'</li><li>'a1'</li><li>'a1'</li><li>'a1'</li><li>'a1'</li></ol>\n"
      ],
      "text/latex": [
       "\\begin{enumerate*}\n",
       "\\item 'a1'\n",
       "\\item 'a1'\n",
       "\\item 'a1'\n",
       "\\item 'a1'\n",
       "\\item 'a1'\n",
       "\\item 'a1'\n",
       "\\item 'a1'\n",
       "\\item 'a1'\n",
       "\\item 'a1'\n",
       "\\item 'a1'\n",
       "\\end{enumerate*}\n"
      ],
      "text/markdown": [
       "1. 'a1'\n",
       "2. 'a1'\n",
       "3. 'a1'\n",
       "4. 'a1'\n",
       "5. 'a1'\n",
       "6. 'a1'\n",
       "7. 'a1'\n",
       "8. 'a1'\n",
       "9. 'a1'\n",
       "10. 'a1'\n",
       "\n",
       "\n"
      ],
      "text/plain": [
       " [1] \"a1\" \"a1\" \"a1\" \"a1\" \"a1\" \"a1\" \"a1\" \"a1\" \"a1\" \"a1\""
      ]
     },
     "metadata": {},
     "output_type": "display_data"
    }
   ],
   "source": [
    "A<-rep('a1',length(a1))\n",
    "A"
   ]
  },
  {
   "cell_type": "code",
   "execution_count": 50,
   "metadata": {},
   "outputs": [
    {
     "data": {
      "text/html": [
       "<style>\n",
       ".list-inline {list-style: none; margin:0; padding: 0}\n",
       ".list-inline>li {display: inline-block}\n",
       ".list-inline>li:not(:last-child)::after {content: \"\\00b7\"; padding: 0 .5ex}\n",
       "</style>\n",
       "<ol class=list-inline><li>'a1'</li><li>'a1'</li><li>'a1'</li><li>'a1'</li><li>'a1'</li><li>'a1'</li><li>'a1'</li><li>'a1'</li><li>'a1'</li><li>'a1'</li><li>'a2'</li><li>'a2'</li><li>'a2'</li><li>'a2'</li><li>'a2'</li><li>'a2'</li><li>'a2'</li><li>'a2'</li><li>'a2'</li><li>'a2'</li><li>'a3'</li><li>'a3'</li><li>'a3'</li><li>'a3'</li><li>'a3'</li><li>'a3'</li><li>'a3'</li><li>'a3'</li><li>'a3'</li><li>'a3'</li></ol>\n"
      ],
      "text/latex": [
       "\\begin{enumerate*}\n",
       "\\item 'a1'\n",
       "\\item 'a1'\n",
       "\\item 'a1'\n",
       "\\item 'a1'\n",
       "\\item 'a1'\n",
       "\\item 'a1'\n",
       "\\item 'a1'\n",
       "\\item 'a1'\n",
       "\\item 'a1'\n",
       "\\item 'a1'\n",
       "\\item 'a2'\n",
       "\\item 'a2'\n",
       "\\item 'a2'\n",
       "\\item 'a2'\n",
       "\\item 'a2'\n",
       "\\item 'a2'\n",
       "\\item 'a2'\n",
       "\\item 'a2'\n",
       "\\item 'a2'\n",
       "\\item 'a2'\n",
       "\\item 'a3'\n",
       "\\item 'a3'\n",
       "\\item 'a3'\n",
       "\\item 'a3'\n",
       "\\item 'a3'\n",
       "\\item 'a3'\n",
       "\\item 'a3'\n",
       "\\item 'a3'\n",
       "\\item 'a3'\n",
       "\\item 'a3'\n",
       "\\end{enumerate*}\n"
      ],
      "text/markdown": [
       "1. 'a1'\n",
       "2. 'a1'\n",
       "3. 'a1'\n",
       "4. 'a1'\n",
       "5. 'a1'\n",
       "6. 'a1'\n",
       "7. 'a1'\n",
       "8. 'a1'\n",
       "9. 'a1'\n",
       "10. 'a1'\n",
       "11. 'a2'\n",
       "12. 'a2'\n",
       "13. 'a2'\n",
       "14. 'a2'\n",
       "15. 'a2'\n",
       "16. 'a2'\n",
       "17. 'a2'\n",
       "18. 'a2'\n",
       "19. 'a2'\n",
       "20. 'a2'\n",
       "21. 'a3'\n",
       "22. 'a3'\n",
       "23. 'a3'\n",
       "24. 'a3'\n",
       "25. 'a3'\n",
       "26. 'a3'\n",
       "27. 'a3'\n",
       "28. 'a3'\n",
       "29. 'a3'\n",
       "30. 'a3'\n",
       "\n",
       "\n"
      ],
      "text/plain": [
       " [1] \"a1\" \"a1\" \"a1\" \"a1\" \"a1\" \"a1\" \"a1\" \"a1\" \"a1\" \"a1\" \"a2\" \"a2\" \"a2\" \"a2\" \"a2\"\n",
       "[16] \"a2\" \"a2\" \"a2\" \"a2\" \"a2\" \"a3\" \"a3\" \"a3\" \"a3\" \"a3\" \"a3\" \"a3\" \"a3\" \"a3\" \"a3\""
      ]
     },
     "metadata": {},
     "output_type": "display_data"
    }
   ],
   "source": [
    "A<-c(rep('a1',length(a1)),rep('a2',length(a2)),rep('a3',length(a3)))\n",
    "A"
   ]
  },
  {
   "cell_type": "code",
   "execution_count": 51,
   "metadata": {},
   "outputs": [
    {
     "data": {
      "text/html": [
       "<style>\n",
       ".list-inline {list-style: none; margin:0; padding: 0}\n",
       ".list-inline>li {display: inline-block}\n",
       ".list-inline>li:not(:last-child)::after {content: \"\\00b7\"; padding: 0 .5ex}\n",
       "</style>\n",
       "<ol class=list-inline><li>38.6845103482894</li><li>38.9580742114322</li><li>41.6746040710707</li><li>39.3060959077074</li><li>39.5854134454648</li><li>39.4029928805511</li><li>42.0398912856045</li><li>40.2788204200104</li><li>38.9821292634108</li><li>39.5659098372566</li><li>42.4914784809912</li><li>39.491413793199</li><li>39.9971483304154</li><li>39.3072439088558</li><li>40.5129761484472</li><li>40.1273642455034</li><li>40.847322606586</li><li>38.9641799827514</li><li>39.6987890651203</li><li>39.1275877537663</li><li>37.8996894116732</li><li>39.9194387729688</li><li>40.9580907235635</li><li>39.9255226848221</li><li>39.9403856811344</li><li>41.3339030822691</li><li>40.2070683219168</li><li>39.5039101803019</li><li>38.1369995744955</li><li>39.9550682981566</li></ol>\n"
      ],
      "text/latex": [
       "\\begin{enumerate*}\n",
       "\\item 38.6845103482894\n",
       "\\item 38.9580742114322\n",
       "\\item 41.6746040710707\n",
       "\\item 39.3060959077074\n",
       "\\item 39.5854134454648\n",
       "\\item 39.4029928805511\n",
       "\\item 42.0398912856045\n",
       "\\item 40.2788204200104\n",
       "\\item 38.9821292634108\n",
       "\\item 39.5659098372566\n",
       "\\item 42.4914784809912\n",
       "\\item 39.491413793199\n",
       "\\item 39.9971483304154\n",
       "\\item 39.3072439088558\n",
       "\\item 40.5129761484472\n",
       "\\item 40.1273642455034\n",
       "\\item 40.847322606586\n",
       "\\item 38.9641799827514\n",
       "\\item 39.6987890651203\n",
       "\\item 39.1275877537663\n",
       "\\item 37.8996894116732\n",
       "\\item 39.9194387729688\n",
       "\\item 40.9580907235635\n",
       "\\item 39.9255226848221\n",
       "\\item 39.9403856811344\n",
       "\\item 41.3339030822691\n",
       "\\item 40.2070683219168\n",
       "\\item 39.5039101803019\n",
       "\\item 38.1369995744955\n",
       "\\item 39.9550682981566\n",
       "\\end{enumerate*}\n"
      ],
      "text/markdown": [
       "1. 38.6845103482894\n",
       "2. 38.9580742114322\n",
       "3. 41.6746040710707\n",
       "4. 39.3060959077074\n",
       "5. 39.5854134454648\n",
       "6. 39.4029928805511\n",
       "7. 42.0398912856045\n",
       "8. 40.2788204200104\n",
       "9. 38.9821292634108\n",
       "10. 39.5659098372566\n",
       "11. 42.4914784809912\n",
       "12. 39.491413793199\n",
       "13. 39.9971483304154\n",
       "14. 39.3072439088558\n",
       "15. 40.5129761484472\n",
       "16. 40.1273642455034\n",
       "17. 40.847322606586\n",
       "18. 38.9641799827514\n",
       "19. 39.6987890651203\n",
       "20. 39.1275877537663\n",
       "21. 37.8996894116732\n",
       "22. 39.9194387729688\n",
       "23. 40.9580907235635\n",
       "24. 39.9255226848221\n",
       "25. 39.9403856811344\n",
       "26. 41.3339030822691\n",
       "27. 40.2070683219168\n",
       "28. 39.5039101803019\n",
       "29. 38.1369995744955\n",
       "30. 39.9550682981566\n",
       "\n",
       "\n"
      ],
      "text/plain": [
       " [1] 38.68451 38.95807 41.67460 39.30610 39.58541 39.40299 42.03989 40.27882\n",
       " [9] 38.98213 39.56591 42.49148 39.49141 39.99715 39.30724 40.51298 40.12736\n",
       "[17] 40.84732 38.96418 39.69879 39.12759 37.89969 39.91944 40.95809 39.92552\n",
       "[25] 39.94039 41.33390 40.20707 39.50391 38.13700 39.95507"
      ]
     },
     "metadata": {},
     "output_type": "display_data"
    }
   ],
   "source": [
    "Y"
   ]
  },
  {
   "cell_type": "code",
   "execution_count": 52,
   "metadata": {},
   "outputs": [],
   "source": [
    "av<-aov(Y~A)"
   ]
  },
  {
   "cell_type": "code",
   "execution_count": 53,
   "metadata": {},
   "outputs": [
    {
     "data": {
      "text/plain": [
       "            Df Sum Sq Mean Sq F value Pr(>F)\n",
       "A            2   0.42   0.210   0.177  0.839\n",
       "Residuals   27  32.09   1.189               "
      ]
     },
     "metadata": {},
     "output_type": "display_data"
    }
   ],
   "source": [
    "summary(av)"
   ]
  },
  {
   "cell_type": "code",
   "execution_count": 54,
   "metadata": {},
   "outputs": [
    {
     "data": {
      "image/png": "[encoded data removed]",
      "text/plain": [
       "plot without title"
      ]
     },
     "metadata": {
      "image/png": {
       "height": 420,
       "width": 420
      }
     },
     "output_type": "display_data"
    }
   ],
   "source": [
    "boxplot(Y~A)"
   ]
  },
  {
   "cell_type": "markdown",
   "metadata": {},
   "source": [
    "### 2. Entrada manual"
   ]
  },
  {
   "cell_type": "markdown",
   "metadata": {},
   "source": [
    "#### Exemplo com um único fator"
   ]
  },
  {
   "cell_type": "code",
   "execution_count": 61,
   "metadata": {},
   "outputs": [
    {
     "data": {
      "text/html": [
       "<style>\n",
       ".list-inline {list-style: none; margin:0; padding: 0}\n",
       ".list-inline>li {display: inline-block}\n",
       ".list-inline>li:not(:last-child)::after {content: \"\\00b7\"; padding: 0 .5ex}\n",
       "</style>\n",
       "<ol class=list-inline><li>41.6</li><li>40.6</li><li>39.7</li><li>39.7</li><li>41</li><li>39.7</li></ol>\n"
      ],
      "text/latex": [
       "\\begin{enumerate*}\n",
       "\\item 41.6\n",
       "\\item 40.6\n",
       "\\item 39.7\n",
       "\\item 39.7\n",
       "\\item 41\n",
       "\\item 39.7\n",
       "\\end{enumerate*}\n"
      ],
      "text/markdown": [
       "1. 41.6\n",
       "2. 40.6\n",
       "3. 39.7\n",
       "4. 39.7\n",
       "5. 41\n",
       "6. 39.7\n",
       "\n",
       "\n"
      ],
      "text/plain": [
       "[1] 41.6 40.6 39.7 39.7 41.0 39.7"
      ]
     },
     "metadata": {},
     "output_type": "display_data"
    },
    {
     "data": {
      "text/html": [
       "<style>\n",
       ".list-inline {list-style: none; margin:0; padding: 0}\n",
       ".list-inline>li {display: inline-block}\n",
       ".list-inline>li:not(:last-child)::after {content: \"\\00b7\"; padding: 0 .5ex}\n",
       "</style>\n",
       "<ol class=list-inline><li>39.9</li><li>40.9</li><li>38.6</li><li>41.9</li><li>41.7</li><li>39.2</li></ol>\n"
      ],
      "text/latex": [
       "\\begin{enumerate*}\n",
       "\\item 39.9\n",
       "\\item 40.9\n",
       "\\item 38.6\n",
       "\\item 41.9\n",
       "\\item 41.7\n",
       "\\item 39.2\n",
       "\\end{enumerate*}\n"
      ],
      "text/markdown": [
       "1. 39.9\n",
       "2. 40.9\n",
       "3. 38.6\n",
       "4. 41.9\n",
       "5. 41.7\n",
       "6. 39.2\n",
       "\n",
       "\n"
      ],
      "text/plain": [
       "[1] 39.9 40.9 38.6 41.9 41.7 39.2"
      ]
     },
     "metadata": {},
     "output_type": "display_data"
    },
    {
     "data": {
      "text/html": [
       "<style>\n",
       ".list-inline {list-style: none; margin:0; padding: 0}\n",
       ".list-inline>li {display: inline-block}\n",
       ".list-inline>li:not(:last-child)::after {content: \"\\00b7\"; padding: 0 .5ex}\n",
       "</style>\n",
       "<ol class=list-inline><li>39.8</li><li>39.1</li><li>38.7</li><li>40.9</li><li>41.7</li><li>39.9</li></ol>\n"
      ],
      "text/latex": [
       "\\begin{enumerate*}\n",
       "\\item 39.8\n",
       "\\item 39.1\n",
       "\\item 38.7\n",
       "\\item 40.9\n",
       "\\item 41.7\n",
       "\\item 39.9\n",
       "\\end{enumerate*}\n"
      ],
      "text/markdown": [
       "1. 39.8\n",
       "2. 39.1\n",
       "3. 38.7\n",
       "4. 40.9\n",
       "5. 41.7\n",
       "6. 39.9\n",
       "\n",
       "\n"
      ],
      "text/plain": [
       "[1] 39.8 39.1 38.7 40.9 41.7 39.9"
      ]
     },
     "metadata": {},
     "output_type": "display_data"
    }
   ],
   "source": [
    "a1<-c(41.6,40.6,39.7,39.7,41.0,39.7)\n",
    "a2<-c(39.9,40.9,38.6,41.9,41.7,39.2)\n",
    "a3<-c(39.8,39.1,38.7,40.9,41.7,39.9)\n",
    "a1\n",
    "a2\n",
    "a3"
   ]
  },
  {
   "cell_type": "code",
   "execution_count": 62,
   "metadata": {},
   "outputs": [
    {
     "name": "stdout",
     "output_type": "stream",
     "text": [
      "    a1   a2   a3\n",
      "1 41.6 39.9 39.8\n",
      "2 40.6 40.9 39.1\n",
      "3 39.7 38.6 38.7\n",
      "4 39.7 41.9 40.9\n",
      "5 41.0 41.7 41.7\n",
      "6 39.7 39.2 39.9\n"
     ]
    }
   ],
   "source": [
    "tab<-data.frame(a1,a2,a3)\n",
    "print(tab)"
   ]
  },
  {
   "cell_type": "code",
   "execution_count": 63,
   "metadata": {},
   "outputs": [
    {
     "data": {
      "text/html": [
       "<style>\n",
       ".list-inline {list-style: none; margin:0; padding: 0}\n",
       ".list-inline>li {display: inline-block}\n",
       ".list-inline>li:not(:last-child)::after {content: \"\\00b7\"; padding: 0 .5ex}\n",
       "</style>\n",
       "<ol class=list-inline><li>41.6</li><li>40.6</li><li>39.7</li><li>39.7</li><li>41</li><li>39.7</li><li>39.9</li><li>40.9</li><li>38.6</li><li>41.9</li><li>41.7</li><li>39.2</li><li>39.8</li><li>39.1</li><li>38.7</li><li>40.9</li><li>41.7</li><li>39.9</li></ol>\n"
      ],
      "text/latex": [
       "\\begin{enumerate*}\n",
       "\\item 41.6\n",
       "\\item 40.6\n",
       "\\item 39.7\n",
       "\\item 39.7\n",
       "\\item 41\n",
       "\\item 39.7\n",
       "\\item 39.9\n",
       "\\item 40.9\n",
       "\\item 38.6\n",
       "\\item 41.9\n",
       "\\item 41.7\n",
       "\\item 39.2\n",
       "\\item 39.8\n",
       "\\item 39.1\n",
       "\\item 38.7\n",
       "\\item 40.9\n",
       "\\item 41.7\n",
       "\\item 39.9\n",
       "\\end{enumerate*}\n"
      ],
      "text/markdown": [
       "1. 41.6\n",
       "2. 40.6\n",
       "3. 39.7\n",
       "4. 39.7\n",
       "5. 41\n",
       "6. 39.7\n",
       "7. 39.9\n",
       "8. 40.9\n",
       "9. 38.6\n",
       "10. 41.9\n",
       "11. 41.7\n",
       "12. 39.2\n",
       "13. 39.8\n",
       "14. 39.1\n",
       "15. 38.7\n",
       "16. 40.9\n",
       "17. 41.7\n",
       "18. 39.9\n",
       "\n",
       "\n"
      ],
      "text/plain": [
       " [1] 41.6 40.6 39.7 39.7 41.0 39.7 39.9 40.9 38.6 41.9 41.7 39.2 39.8 39.1 38.7\n",
       "[16] 40.9 41.7 39.9"
      ]
     },
     "metadata": {},
     "output_type": "display_data"
    }
   ],
   "source": [
    "Y<-c(a1,a2,a3)\n",
    "Y"
   ]
  },
  {
   "cell_type": "code",
   "execution_count": 64,
   "metadata": {},
   "outputs": [
    {
     "data": {
      "text/html": [
       "<style>\n",
       ".list-inline {list-style: none; margin:0; padding: 0}\n",
       ".list-inline>li {display: inline-block}\n",
       ".list-inline>li:not(:last-child)::after {content: \"\\00b7\"; padding: 0 .5ex}\n",
       "</style>\n",
       "<ol class=list-inline><li>'a1'</li><li>'a1'</li><li>'a1'</li><li>'a1'</li><li>'a1'</li><li>'a1'</li><li>'a2'</li><li>'a2'</li><li>'a2'</li><li>'a2'</li><li>'a2'</li><li>'a2'</li><li>'a3'</li><li>'a3'</li><li>'a3'</li><li>'a3'</li><li>'a3'</li><li>'a3'</li></ol>\n"
      ],
      "text/latex": [
       "\\begin{enumerate*}\n",
       "\\item 'a1'\n",
       "\\item 'a1'\n",
       "\\item 'a1'\n",
       "\\item 'a1'\n",
       "\\item 'a1'\n",
       "\\item 'a1'\n",
       "\\item 'a2'\n",
       "\\item 'a2'\n",
       "\\item 'a2'\n",
       "\\item 'a2'\n",
       "\\item 'a2'\n",
       "\\item 'a2'\n",
       "\\item 'a3'\n",
       "\\item 'a3'\n",
       "\\item 'a3'\n",
       "\\item 'a3'\n",
       "\\item 'a3'\n",
       "\\item 'a3'\n",
       "\\end{enumerate*}\n"
      ],
      "text/markdown": [
       "1. 'a1'\n",
       "2. 'a1'\n",
       "3. 'a1'\n",
       "4. 'a1'\n",
       "5. 'a1'\n",
       "6. 'a1'\n",
       "7. 'a2'\n",
       "8. 'a2'\n",
       "9. 'a2'\n",
       "10. 'a2'\n",
       "11. 'a2'\n",
       "12. 'a2'\n",
       "13. 'a3'\n",
       "14. 'a3'\n",
       "15. 'a3'\n",
       "16. 'a3'\n",
       "17. 'a3'\n",
       "18. 'a3'\n",
       "\n",
       "\n"
      ],
      "text/plain": [
       " [1] \"a1\" \"a1\" \"a1\" \"a1\" \"a1\" \"a1\" \"a2\" \"a2\" \"a2\" \"a2\" \"a2\" \"a2\" \"a3\" \"a3\" \"a3\"\n",
       "[16] \"a3\" \"a3\" \"a3\""
      ]
     },
     "metadata": {},
     "output_type": "display_data"
    }
   ],
   "source": [
    "A<-c(rep('a1',length(a1)),rep('a2',length(a2)),rep('a3',length(a3)))\n",
    "A"
   ]
  },
  {
   "cell_type": "code",
   "execution_count": 65,
   "metadata": {},
   "outputs": [],
   "source": [
    "av<-aov(Y~A)"
   ]
  },
  {
   "cell_type": "code",
   "execution_count": 66,
   "metadata": {},
   "outputs": [
    {
     "data": {
      "text/plain": [
       "            Df Sum Sq Mean Sq F value Pr(>F)\n",
       "A            2  0.514  0.2572   0.207  0.816\n",
       "Residuals   15 18.670  1.2447               "
      ]
     },
     "metadata": {},
     "output_type": "display_data"
    }
   ],
   "source": [
    "summary(av)"
   ]
  },
  {
   "cell_type": "code",
   "execution_count": 67,
   "metadata": {},
   "outputs": [
    {
     "data": {
      "image/png": "[encoded data removed]",
      "text/plain": [
       "plot without title"
      ]
     },
     "metadata": {
      "image/png": {
       "height": 420,
       "width": 420
      }
     },
     "output_type": "display_data"
    }
   ],
   "source": [
    "boxplot(Y~A)"
   ]
  },
  {
   "cell_type": "markdown",
   "metadata": {},
   "source": [
    "#### Exemplo com dois fatores"
   ]
  },
  {
   "cell_type": "code",
   "execution_count": 68,
   "metadata": {},
   "outputs": [],
   "source": [
    "A<-c( 'a1', 'a1', 'a1', 'a1', 'a1', 'a1', 'a1', 'a1', 'a1', 'a1', 'a1', 'a1', 'a1', 'a1', 'a1', 'a2', 'a2', 'a2', 'a2', 'a2', 'a2', 'a2', 'a2', 'a2', 'a2', 'a2', 'a2', 'a2', 'a2', 'a2', 'a3', 'a3', 'a3', 'a3', 'a3', 'a3', 'a3', 'a3', 'a3', 'a3', 'a3', 'a3', 'a3', 'a3', 'a3') \n",
    "B<-c( 'b1', 'b1', 'b1', 'b1', 'b1', 'b2', 'b2', 'b2', 'b2', 'b2', 'b3', 'b3', 'b3', 'b3', 'b3', 'b1', 'b1', 'b1', 'b1', 'b1', 'b2', 'b2', 'b2', 'b2', 'b2', 'b3', 'b3', 'b3', 'b3', 'b3', 'b1', 'b1', 'b1', 'b1', 'b1', 'b2', 'b2', 'b2', 'b2', 'b2', 'b3', 'b3', 'b3', 'b3', 'b3')\n",
    "Y<-c( 35.9,35.8,35.4,36.5,34.3,38.3,38.2,37.8,36.4,35.7,38.5,37.7,39.7,37,38.2,38.8,38.9,41.6,39.2,40.1,41,40.2,41.3,40.6,42.1,43.4,41.2,42.3,42.6,40.4,40.1,42.8,41.7,41.8,41.1,43,41.3,42.5,41.2,43.5,41.9,43.6,42.6,44.8,43.4)"
   ]
  },
  {
   "cell_type": "code",
   "execution_count": 69,
   "metadata": {},
   "outputs": [
    {
     "data": {
      "text/html": [
       "45"
      ],
      "text/latex": [
       "45"
      ],
      "text/markdown": [
       "45"
      ],
      "text/plain": [
       "[1] 45"
      ]
     },
     "metadata": {},
     "output_type": "display_data"
    },
    {
     "data": {
      "text/html": [
       "45"
      ],
      "text/latex": [
       "45"
      ],
      "text/markdown": [
       "45"
      ],
      "text/plain": [
       "[1] 45"
      ]
     },
     "metadata": {},
     "output_type": "display_data"
    },
    {
     "data": {
      "text/html": [
       "45"
      ],
      "text/latex": [
       "45"
      ],
      "text/markdown": [
       "45"
      ],
      "text/plain": [
       "[1] 45"
      ]
     },
     "metadata": {},
     "output_type": "display_data"
    }
   ],
   "source": [
    "length(Y)\n",
    "length(A)\n",
    "length(B)"
   ]
  },
  {
   "cell_type": "code",
   "execution_count": 70,
   "metadata": {},
   "outputs": [],
   "source": [
    "av2<-aov(Y~A*B)"
   ]
  },
  {
   "cell_type": "code",
   "execution_count": 71,
   "metadata": {},
   "outputs": [
    {
     "data": {
      "text/plain": [
       "            Df Sum Sq Mean Sq F value   Pr(>F)    \n",
       "A            2 227.77  113.88 107.313 6.78e-16 ***\n",
       "B            2  37.23   18.61  17.541 4.81e-06 ***\n",
       "A:B          4   1.33    0.33   0.313    0.867    \n",
       "Residuals   36  38.20    1.06                     \n",
       "---\n",
       "Signif. codes:  0 ‘***’ 0.001 ‘**’ 0.01 ‘*’ 0.05 ‘.’ 0.1 ‘ ’ 1"
      ]
     },
     "metadata": {},
     "output_type": "display_data"
    }
   ],
   "source": [
    "summary(av2)"
   ]
  },
  {
   "cell_type": "code",
   "execution_count": 72,
   "metadata": {},
   "outputs": [
    {
     "data": {
      "image/png": "[encoded data removed]",
      "text/plain": [
       "plot without title"
      ]
     },
     "metadata": {
      "image/png": {
       "height": 420,
       "width": 420
      }
     },
     "output_type": "display_data"
    }
   ],
   "source": [
    "boxplot(Y~A)"
   ]
  },
  {
   "cell_type": "code",
   "execution_count": 73,
   "metadata": {},
   "outputs": [
    {
     "data": {
      "image/png": "[encoded data removed]",
      "text/plain": [
       "plot without title"
      ]
     },
     "metadata": {
      "image/png": {
       "height": 420,
       "width": 420
      }
     },
     "output_type": "display_data"
    }
   ],
   "source": [
    "boxplot(Y~B)"
   ]
  },
  {
   "cell_type": "code",
   "execution_count": 74,
   "metadata": {},
   "outputs": [
    {
     "data": {
      "image/png": "[encoded data removed]",
      "text/plain": [
       "plot without title"
      ]
     },
     "metadata": {
      "image/png": {
       "height": 420,
       "width": 420
      }
     },
     "output_type": "display_data"
    }
   ],
   "source": [
    "boxplot(Y~A*B)"
   ]
  },
  {
   "cell_type": "markdown",
   "metadata": {},
   "source": [
    "### 3. Leitura de dados em arquivo csv"
   ]
  },
  {
   "cell_type": "code",
   "execution_count": 75,
   "metadata": {},
   "outputs": [
    {
     "name": "stdout",
     "output_type": "stream",
     "text": [
      "    A  B    Y\n",
      "1  a1 b1 35.9\n",
      "2  a1 b1 35.8\n",
      "3  a1 b1 35.4\n",
      "4  a1 b1 36.5\n",
      "5  a1 b1 34.3\n",
      "6  a1 b2 38.3\n",
      "7  a1 b2 38.2\n",
      "8  a1 b2 37.8\n",
      "9  a1 b2 36.4\n",
      "10 a1 b2 35.7\n",
      "11 a1 b3 38.5\n",
      "12 a1 b3 37.7\n",
      "13 a1 b3 39.7\n",
      "14 a1 b3 37.0\n",
      "15 a1 b3 38.2\n",
      "16 a2 b1 38.8\n",
      "17 a2 b1 38.9\n",
      "18 a2 b1 41.6\n",
      "19 a2 b1 39.2\n",
      "20 a2 b1 40.1\n",
      "21 a2 b2 41.0\n",
      "22 a2 b2 40.2\n",
      "23 a2 b2 41.3\n",
      "24 a2 b2 40.6\n",
      "25 a2 b2 42.1\n",
      "26 a2 b3 43.4\n",
      "27 a2 b3 41.2\n",
      "28 a2 b3 42.3\n",
      "29 a2 b3 42.6\n",
      "30 a2 b3 40.4\n",
      "31 a3 b1 40.1\n",
      "32 a3 b1 42.8\n",
      "33 a3 b1 41.7\n",
      "34 a3 b1 41.8\n",
      "35 a3 b1 41.1\n",
      "36 a3 b2 43.0\n",
      "37 a3 b2 41.3\n",
      "38 a3 b2 42.5\n",
      "39 a3 b2 41.2\n",
      "40 a3 b2 43.5\n",
      "41 a3 b3 41.9\n",
      "42 a3 b3 43.6\n",
      "43 a3 b3 42.6\n",
      "44 a3 b3 44.8\n",
      "45 a3 b3 43.4\n"
     ]
    }
   ],
   "source": [
    "tab <- read.csv(file = '3515 A08 AV Tabela csv.csv',sep=\";\")\n",
    "print(tab)"
   ]
  },
  {
   "cell_type": "code",
   "execution_count": 77,
   "metadata": {},
   "outputs": [
    {
     "data": {
      "text/html": [
       "'data.frame'"
      ],
      "text/latex": [
       "'data.frame'"
      ],
      "text/markdown": [
       "'data.frame'"
      ],
      "text/plain": [
       "[1] \"data.frame\""
      ]
     },
     "metadata": {},
     "output_type": "display_data"
    }
   ],
   "source": [
    "class(tab)"
   ]
  },
  {
   "cell_type": "code",
   "execution_count": 76,
   "metadata": {},
   "outputs": [
    {
     "data": {
      "text/html": [
       "<style>\n",
       ".list-inline {list-style: none; margin:0; padding: 0}\n",
       ".list-inline>li {display: inline-block}\n",
       ".list-inline>li:not(:last-child)::after {content: \"\\00b7\"; padding: 0 .5ex}\n",
       "</style>\n",
       "<ol class=list-inline><li>35.9</li><li>35.8</li><li>35.4</li><li>36.5</li><li>34.3</li><li>38.3</li><li>38.2</li><li>37.8</li><li>36.4</li><li>35.7</li><li>38.5</li><li>37.7</li><li>39.7</li><li>37</li><li>38.2</li><li>38.8</li><li>38.9</li><li>41.6</li><li>39.2</li><li>40.1</li><li>41</li><li>40.2</li><li>41.3</li><li>40.6</li><li>42.1</li><li>43.4</li><li>41.2</li><li>42.3</li><li>42.6</li><li>40.4</li><li>40.1</li><li>42.8</li><li>41.7</li><li>41.8</li><li>41.1</li><li>43</li><li>41.3</li><li>42.5</li><li>41.2</li><li>43.5</li><li>41.9</li><li>43.6</li><li>42.6</li><li>44.8</li><li>43.4</li></ol>\n"
      ],
      "text/latex": [
       "\\begin{enumerate*}\n",
       "\\item 35.9\n",
       "\\item 35.8\n",
       "\\item 35.4\n",
       "\\item 36.5\n",
       "\\item 34.3\n",
       "\\item 38.3\n",
       "\\item 38.2\n",
       "\\item 37.8\n",
       "\\item 36.4\n",
       "\\item 35.7\n",
       "\\item 38.5\n",
       "\\item 37.7\n",
       "\\item 39.7\n",
       "\\item 37\n",
       "\\item 38.2\n",
       "\\item 38.8\n",
       "\\item 38.9\n",
       "\\item 41.6\n",
       "\\item 39.2\n",
       "\\item 40.1\n",
       "\\item 41\n",
       "\\item 40.2\n",
       "\\item 41.3\n",
       "\\item 40.6\n",
       "\\item 42.1\n",
       "\\item 43.4\n",
       "\\item 41.2\n",
       "\\item 42.3\n",
       "\\item 42.6\n",
       "\\item 40.4\n",
       "\\item 40.1\n",
       "\\item 42.8\n",
       "\\item 41.7\n",
       "\\item 41.8\n",
       "\\item 41.1\n",
       "\\item 43\n",
       "\\item 41.3\n",
       "\\item 42.5\n",
       "\\item 41.2\n",
       "\\item 43.5\n",
       "\\item 41.9\n",
       "\\item 43.6\n",
       "\\item 42.6\n",
       "\\item 44.8\n",
       "\\item 43.4\n",
       "\\end{enumerate*}\n"
      ],
      "text/markdown": [
       "1. 35.9\n",
       "2. 35.8\n",
       "3. 35.4\n",
       "4. 36.5\n",
       "5. 34.3\n",
       "6. 38.3\n",
       "7. 38.2\n",
       "8. 37.8\n",
       "9. 36.4\n",
       "10. 35.7\n",
       "11. 38.5\n",
       "12. 37.7\n",
       "13. 39.7\n",
       "14. 37\n",
       "15. 38.2\n",
       "16. 38.8\n",
       "17. 38.9\n",
       "18. 41.6\n",
       "19. 39.2\n",
       "20. 40.1\n",
       "21. 41\n",
       "22. 40.2\n",
       "23. 41.3\n",
       "24. 40.6\n",
       "25. 42.1\n",
       "26. 43.4\n",
       "27. 41.2\n",
       "28. 42.3\n",
       "29. 42.6\n",
       "30. 40.4\n",
       "31. 40.1\n",
       "32. 42.8\n",
       "33. 41.7\n",
       "34. 41.8\n",
       "35. 41.1\n",
       "36. 43\n",
       "37. 41.3\n",
       "38. 42.5\n",
       "39. 41.2\n",
       "40. 43.5\n",
       "41. 41.9\n",
       "42. 43.6\n",
       "43. 42.6\n",
       "44. 44.8\n",
       "45. 43.4\n",
       "\n",
       "\n"
      ],
      "text/plain": [
       " [1] 35.9 35.8 35.4 36.5 34.3 38.3 38.2 37.8 36.4 35.7 38.5 37.7 39.7 37.0 38.2\n",
       "[16] 38.8 38.9 41.6 39.2 40.1 41.0 40.2 41.3 40.6 42.1 43.4 41.2 42.3 42.6 40.4\n",
       "[31] 40.1 42.8 41.7 41.8 41.1 43.0 41.3 42.5 41.2 43.5 41.9 43.6 42.6 44.8 43.4"
      ]
     },
     "metadata": {},
     "output_type": "display_data"
    }
   ],
   "source": [
    "Y<-tab$Y\n",
    "Y"
   ]
  },
  {
   "cell_type": "code",
   "execution_count": 78,
   "metadata": {},
   "outputs": [
    {
     "data": {
      "text/html": [
       "<style>\n",
       ".list-inline {list-style: none; margin:0; padding: 0}\n",
       ".list-inline>li {display: inline-block}\n",
       ".list-inline>li:not(:last-child)::after {content: \"\\00b7\"; padding: 0 .5ex}\n",
       "</style>\n",
       "<ol class=list-inline><li>a1</li><li>a1</li><li>a1</li><li>a1</li><li>a1</li><li>a1</li><li>a1</li><li>a1</li><li>a1</li><li>a1</li><li>a1</li><li>a1</li><li>a1</li><li>a1</li><li>a1</li><li>a2</li><li>a2</li><li>a2</li><li>a2</li><li>a2</li><li>a2</li><li>a2</li><li>a2</li><li>a2</li><li>a2</li><li>a2</li><li>a2</li><li>a2</li><li>a2</li><li>a2</li><li>a3</li><li>a3</li><li>a3</li><li>a3</li><li>a3</li><li>a3</li><li>a3</li><li>a3</li><li>a3</li><li>a3</li><li>a3</li><li>a3</li><li>a3</li><li>a3</li><li>a3</li></ol>\n",
       "\n",
       "<details>\n",
       "\t<summary style=display:list-item;cursor:pointer>\n",
       "\t\t<strong>Levels</strong>:\n",
       "\t</summary>\n",
       "\t<style>\n",
       "\t.list-inline {list-style: none; margin:0; padding: 0}\n",
       "\t.list-inline>li {display: inline-block}\n",
       "\t.list-inline>li:not(:last-child)::after {content: \"\\00b7\"; padding: 0 .5ex}\n",
       "\t</style>\n",
       "\t<ol class=list-inline><li>'a1'</li><li>'a2'</li><li>'a3'</li></ol>\n",
       "</details>"
      ],
      "text/latex": [
       "\\begin{enumerate*}\n",
       "\\item a1\n",
       "\\item a1\n",
       "\\item a1\n",
       "\\item a1\n",
       "\\item a1\n",
       "\\item a1\n",
       "\\item a1\n",
       "\\item a1\n",
       "\\item a1\n",
       "\\item a1\n",
       "\\item a1\n",
       "\\item a1\n",
       "\\item a1\n",
       "\\item a1\n",
       "\\item a1\n",
       "\\item a2\n",
       "\\item a2\n",
       "\\item a2\n",
       "\\item a2\n",
       "\\item a2\n",
       "\\item a2\n",
       "\\item a2\n",
       "\\item a2\n",
       "\\item a2\n",
       "\\item a2\n",
       "\\item a2\n",
       "\\item a2\n",
       "\\item a2\n",
       "\\item a2\n",
       "\\item a2\n",
       "\\item a3\n",
       "\\item a3\n",
       "\\item a3\n",
       "\\item a3\n",
       "\\item a3\n",
       "\\item a3\n",
       "\\item a3\n",
       "\\item a3\n",
       "\\item a3\n",
       "\\item a3\n",
       "\\item a3\n",
       "\\item a3\n",
       "\\item a3\n",
       "\\item a3\n",
       "\\item a3\n",
       "\\end{enumerate*}\n",
       "\n",
       "\\emph{Levels}: \\begin{enumerate*}\n",
       "\\item 'a1'\n",
       "\\item 'a2'\n",
       "\\item 'a3'\n",
       "\\end{enumerate*}\n"
      ],
      "text/markdown": [
       "1. a1\n",
       "2. a1\n",
       "3. a1\n",
       "4. a1\n",
       "5. a1\n",
       "6. a1\n",
       "7. a1\n",
       "8. a1\n",
       "9. a1\n",
       "10. a1\n",
       "11. a1\n",
       "12. a1\n",
       "13. a1\n",
       "14. a1\n",
       "15. a1\n",
       "16. a2\n",
       "17. a2\n",
       "18. a2\n",
       "19. a2\n",
       "20. a2\n",
       "21. a2\n",
       "22. a2\n",
       "23. a2\n",
       "24. a2\n",
       "25. a2\n",
       "26. a2\n",
       "27. a2\n",
       "28. a2\n",
       "29. a2\n",
       "30. a2\n",
       "31. a3\n",
       "32. a3\n",
       "33. a3\n",
       "34. a3\n",
       "35. a3\n",
       "36. a3\n",
       "37. a3\n",
       "38. a3\n",
       "39. a3\n",
       "40. a3\n",
       "41. a3\n",
       "42. a3\n",
       "43. a3\n",
       "44. a3\n",
       "45. a3\n",
       "\n",
       "\n",
       "\n",
       "**Levels**: 1. 'a1'\n",
       "2. 'a2'\n",
       "3. 'a3'\n",
       "\n",
       "\n"
      ],
      "text/plain": [
       " [1] a1 a1 a1 a1 a1 a1 a1 a1 a1 a1 a1 a1 a1 a1 a1 a2 a2 a2 a2 a2 a2 a2 a2 a2 a2\n",
       "[26] a2 a2 a2 a2 a2 a3 a3 a3 a3 a3 a3 a3 a3 a3 a3 a3 a3 a3 a3 a3\n",
       "Levels: a1 a2 a3"
      ]
     },
     "metadata": {},
     "output_type": "display_data"
    }
   ],
   "source": [
    "A<-tab$A\n",
    "A"
   ]
  },
  {
   "cell_type": "code",
   "execution_count": 79,
   "metadata": {},
   "outputs": [
    {
     "data": {
      "text/html": [
       "<style>\n",
       ".list-inline {list-style: none; margin:0; padding: 0}\n",
       ".list-inline>li {display: inline-block}\n",
       ".list-inline>li:not(:last-child)::after {content: \"\\00b7\"; padding: 0 .5ex}\n",
       "</style>\n",
       "<ol class=list-inline><li>b1</li><li>b1</li><li>b1</li><li>b1</li><li>b1</li><li>b2</li><li>b2</li><li>b2</li><li>b2</li><li>b2</li><li>b3</li><li>b3</li><li>b3</li><li>b3</li><li>b3</li><li>b1</li><li>b1</li><li>b1</li><li>b1</li><li>b1</li><li>b2</li><li>b2</li><li>b2</li><li>b2</li><li>b2</li><li>b3</li><li>b3</li><li>b3</li><li>b3</li><li>b3</li><li>b1</li><li>b1</li><li>b1</li><li>b1</li><li>b1</li><li>b2</li><li>b2</li><li>b2</li><li>b2</li><li>b2</li><li>b3</li><li>b3</li><li>b3</li><li>b3</li><li>b3</li></ol>\n",
       "\n",
       "<details>\n",
       "\t<summary style=display:list-item;cursor:pointer>\n",
       "\t\t<strong>Levels</strong>:\n",
       "\t</summary>\n",
       "\t<style>\n",
       "\t.list-inline {list-style: none; margin:0; padding: 0}\n",
       "\t.list-inline>li {display: inline-block}\n",
       "\t.list-inline>li:not(:last-child)::after {content: \"\\00b7\"; padding: 0 .5ex}\n",
       "\t</style>\n",
       "\t<ol class=list-inline><li>'b1'</li><li>'b2'</li><li>'b3'</li></ol>\n",
       "</details>"
      ],
      "text/latex": [
       "\\begin{enumerate*}\n",
       "\\item b1\n",
       "\\item b1\n",
       "\\item b1\n",
       "\\item b1\n",
       "\\item b1\n",
       "\\item b2\n",
       "\\item b2\n",
       "\\item b2\n",
       "\\item b2\n",
       "\\item b2\n",
       "\\item b3\n",
       "\\item b3\n",
       "\\item b3\n",
       "\\item b3\n",
       "\\item b3\n",
       "\\item b1\n",
       "\\item b1\n",
       "\\item b1\n",
       "\\item b1\n",
       "\\item b1\n",
       "\\item b2\n",
       "\\item b2\n",
       "\\item b2\n",
       "\\item b2\n",
       "\\item b2\n",
       "\\item b3\n",
       "\\item b3\n",
       "\\item b3\n",
       "\\item b3\n",
       "\\item b3\n",
       "\\item b1\n",
       "\\item b1\n",
       "\\item b1\n",
       "\\item b1\n",
       "\\item b1\n",
       "\\item b2\n",
       "\\item b2\n",
       "\\item b2\n",
       "\\item b2\n",
       "\\item b2\n",
       "\\item b3\n",
       "\\item b3\n",
       "\\item b3\n",
       "\\item b3\n",
       "\\item b3\n",
       "\\end{enumerate*}\n",
       "\n",
       "\\emph{Levels}: \\begin{enumerate*}\n",
       "\\item 'b1'\n",
       "\\item 'b2'\n",
       "\\item 'b3'\n",
       "\\end{enumerate*}\n"
      ],
      "text/markdown": [
       "1. b1\n",
       "2. b1\n",
       "3. b1\n",
       "4. b1\n",
       "5. b1\n",
       "6. b2\n",
       "7. b2\n",
       "8. b2\n",
       "9. b2\n",
       "10. b2\n",
       "11. b3\n",
       "12. b3\n",
       "13. b3\n",
       "14. b3\n",
       "15. b3\n",
       "16. b1\n",
       "17. b1\n",
       "18. b1\n",
       "19. b1\n",
       "20. b1\n",
       "21. b2\n",
       "22. b2\n",
       "23. b2\n",
       "24. b2\n",
       "25. b2\n",
       "26. b3\n",
       "27. b3\n",
       "28. b3\n",
       "29. b3\n",
       "30. b3\n",
       "31. b1\n",
       "32. b1\n",
       "33. b1\n",
       "34. b1\n",
       "35. b1\n",
       "36. b2\n",
       "37. b2\n",
       "38. b2\n",
       "39. b2\n",
       "40. b2\n",
       "41. b3\n",
       "42. b3\n",
       "43. b3\n",
       "44. b3\n",
       "45. b3\n",
       "\n",
       "\n",
       "\n",
       "**Levels**: 1. 'b1'\n",
       "2. 'b2'\n",
       "3. 'b3'\n",
       "\n",
       "\n"
      ],
      "text/plain": [
       " [1] b1 b1 b1 b1 b1 b2 b2 b2 b2 b2 b3 b3 b3 b3 b3 b1 b1 b1 b1 b1 b2 b2 b2 b2 b2\n",
       "[26] b3 b3 b3 b3 b3 b1 b1 b1 b1 b1 b2 b2 b2 b2 b2 b3 b3 b3 b3 b3\n",
       "Levels: b1 b2 b3"
      ]
     },
     "metadata": {},
     "output_type": "display_data"
    }
   ],
   "source": [
    "B<-tab$B\n",
    "B"
   ]
  },
  {
   "cell_type": "code",
   "execution_count": 80,
   "metadata": {},
   "outputs": [
    {
     "data": {
      "text/plain": [
       "            Df Sum Sq Mean Sq F value   Pr(>F)    \n",
       "A            2 227.77  113.88 107.313 6.78e-16 ***\n",
       "B            2  37.23   18.61  17.541 4.81e-06 ***\n",
       "A:B          4   1.33    0.33   0.313    0.867    \n",
       "Residuals   36  38.20    1.06                     \n",
       "---\n",
       "Signif. codes:  0 ‘***’ 0.001 ‘**’ 0.01 ‘*’ 0.05 ‘.’ 0.1 ‘ ’ 1"
      ]
     },
     "metadata": {},
     "output_type": "display_data"
    }
   ],
   "source": [
    "av<-aov(Y~A*B)\n",
    "summary(av)"
   ]
  },
  {
   "cell_type": "code",
   "execution_count": 81,
   "metadata": {},
   "outputs": [
    {
     "data": {
      "image/png": "[encoded data removed]",
      "text/plain": [
       "plot without title"
      ]
     },
     "metadata": {
      "image/png": {
       "height": 420,
       "width": 420
      }
     },
     "output_type": "display_data"
    }
   ],
   "source": [
    "boxplot(Y~A)"
   ]
  },
  {
   "cell_type": "code",
   "execution_count": 82,
   "metadata": {},
   "outputs": [
    {
     "data": {
      "image/png": "[encoded data removed]",
      "text/plain": [
       "plot without title"
      ]
     },
     "metadata": {
      "image/png": {
       "height": 420,
       "width": 420
      }
     },
     "output_type": "display_data"
    }
   ],
   "source": [
    "boxplot(Y~B)"
   ]
  },
  {
   "cell_type": "code",
   "execution_count": 83,
   "metadata": {},
   "outputs": [
    {
     "data": {
      "image/png": "[encoded data removed]",
      "text/plain": [
       "plot without title"
      ]
     },
     "metadata": {
      "image/png": {
       "height": 420,
       "width": 420
      }
     },
     "output_type": "display_data"
    }
   ],
   "source": [
    "boxplot(Y~A*B)"
   ]
  },
  {
   "cell_type": "code",
   "execution_count": 84,
   "metadata": {},
   "outputs": [
    {
     "data": {
      "text/html": [
       "\n",
       "<table width=\"100%\" summary=\"page for help {utils}\"><tr><td>help {utils}</td><td style=\"text-align: right;\">R Documentation</td></tr></table>\n",
       "\n",
       "<h2>Documentation</h2>\n",
       "\n",
       "<h3>Description</h3>\n",
       "\n",
       "<p><code>help</code> is the primary interface to the help systems.\n",
       "</p>\n",
       "\n",
       "\n",
       "<h3>Usage</h3>\n",
       "\n",
       "<pre>\n",
       "help(topic, package = NULL, lib.loc = NULL,\n",
       "     verbose = getOption(\"verbose\"),\n",
       "     try.all.packages = getOption(\"help.try.all.packages\"),\n",
       "     help_type = getOption(\"help_type\"))\n",
       "</pre>\n",
       "\n",
       "\n",
       "<h3>Arguments</h3>\n",
       "\n",
       "<table summary=\"R argblock\">\n",
       "<tr valign=\"top\"><td><code>topic</code></td>\n",
       "<td>\n",
       "<p>usually, a name or character string specifying the\n",
       "topic for which help is sought.  A character string (enclosed in\n",
       "explicit single or double quotes) is always taken as naming a topic.\n",
       "</p>\n",
       "<p>If the value of <code>topic</code> is a length-one\n",
       "character vector the topic is taken to be the value of the only\n",
       "element.  Otherwise <code>topic</code> must be a name or a reserved\n",
       "word (if syntactically valid) or character string.\n",
       "</p>\n",
       "<p>See &lsquo;Details&rsquo; for what happens if this is omitted.\n",
       "</p>\n",
       "</td></tr>\n",
       "<tr valign=\"top\"><td><code>package</code></td>\n",
       "<td>\n",
       "<p>a name or character vector giving the packages to look\n",
       "into for documentation, or <code>NULL</code>.  By default, all packages\n",
       "whose namespaces are loaded are used.  To avoid a name being deparsed use e.g.\n",
       "<code>(pkg_ref)</code> (see the examples).</p>\n",
       "</td></tr>\n",
       "<tr valign=\"top\"><td><code>lib.loc</code></td>\n",
       "<td>\n",
       "<p>a character vector of directory names of <span style=\"font-family: Courier New, Courier; color: #666666;\"><b>R</b></span> libraries,\n",
       "or <code>NULL</code>.  The default value of <code>NULL</code> corresponds to all\n",
       "libraries currently known.  If the default is used, the loaded\n",
       "packages are searched before the libraries.  This is not used for\n",
       "HTML help (see &lsquo;Details&rsquo;).</p>\n",
       "</td></tr>\n",
       "<tr valign=\"top\"><td><code>verbose</code></td>\n",
       "<td>\n",
       "<p>logical; if <code>TRUE</code>, the file name is reported.</p>\n",
       "</td></tr>\n",
       "<tr valign=\"top\"><td><code>try.all.packages</code></td>\n",
       "<td>\n",
       "<p>logical; see <code>Note</code>.</p>\n",
       "</td></tr>\n",
       "<tr valign=\"top\"><td><code>help_type</code></td>\n",
       "<td>\n",
       "<p>character string: the type of help required.\n",
       "Possible values are <code>\"text\"</code>, <code>\"html\"</code> and <code>\"pdf\"</code>.\n",
       "Case is ignored, and partial matching is allowed.</p>\n",
       "</td></tr>\n",
       "</table>\n",
       "\n",
       "\n",
       "<h3>Details</h3>\n",
       "\n",
       "<p>The following types of help are available:\n",
       "</p>\n",
       "\n",
       "<ul>\n",
       "<li><p> Plain text help\n",
       "</p>\n",
       "</li>\n",
       "<li><p> HTML help pages with hyperlinks to other topics, shown in a\n",
       "browser by <code>browseURL</code>.\n",
       "<br />\n",
       "(On Unix-alikes,\n",
       "where possible an existing browser window is re-used: the macOS\n",
       "GUI uses its own browser window.)\n",
       "</p>\n",
       "<p>If for some reason HTML help is unavailable (see\n",
       "<code>startDynamicHelp</code>), plain text help will be used\n",
       "instead.\n",
       "</p>\n",
       "</li>\n",
       "<li><p> For <code>help</code> only, typeset as PDF &ndash;\n",
       "see the section on &lsquo;Offline help&rsquo;.\n",
       "</p>\n",
       "</li></ul>\n",
       "\n",
       "\n",
       "<dl>\n",
       "<dt>On Unix-alikes:</dt><dd>\n",
       "<p>The &lsquo;factory-fresh&rsquo; default is text help except from the macOS\n",
       "GUI, which uses HTML help displayed in its own browser window.\n",
       "</p>\n",
       "</dd>\n",
       "<dt>On Windows:</dt><dd>\n",
       "<p>The default for the type of help is selected when <span style=\"font-family: Courier New, Courier; color: #666666;\"><b>R</b></span> is installed &ndash;\n",
       "the &lsquo;factory-fresh&rsquo; default is HTML help.\n",
       "</p>\n",
       "</dd>\n",
       "</dl>\n",
       "\n",
       "<p>The rendering of text help will use directional quotes in suitable\n",
       "locales (UTF-8 and single-byte Windows locales): sometimes the fonts\n",
       "used do not support these quotes so this can be turned off by setting\n",
       "<code>options(useFancyQuotes = FALSE)</code>.\n",
       "</p>\n",
       "<p><code>topic</code> is not optional: if it is omitted <span style=\"font-family: Courier New, Courier; color: #666666;\"><b>R</b></span> will give\n",
       "</p>\n",
       "\n",
       "<ul>\n",
       "<li><p> If a package is specified, (text or, in interactive use only,\n",
       "HTML) information on the package, including hints/links to suitable\n",
       "help topics.\n",
       "</p>\n",
       "</li>\n",
       "<li><p> If <code>lib.loc</code> only is specified, a (text) list of available\n",
       "packages.\n",
       "</p>\n",
       "</li>\n",
       "<li><p> Help on <code>help</code> itself if none of the first three\n",
       "arguments is specified.\n",
       "</p>\n",
       "</li></ul>\n",
       "\n",
       "<p>Some topics need to be quoted (by backticks) or given as a\n",
       "character string.  These include those which cannot syntactically\n",
       "appear on their own such as unary and binary operators,\n",
       "<code>function</code> and control-flow reserved words (including\n",
       "<code>if</code>, <code>else</code> <code>for</code>, <code>in</code>, <code>repeat</code>,\n",
       "<code>while</code>, <code>break</code> and <code>next</code>).  The other <code>reserved</code>\n",
       "words can be used as if they were names, for example <code>TRUE</code>,\n",
       "<code>NA</code> and <code>Inf</code>.\n",
       "</p>\n",
       "<p>If multiple help files matching <code>topic</code> are found, in interactive\n",
       "use a menu is presented for the user to choose one: in batch use the\n",
       "first on the search path is used.  (For HTML help the menu will be an\n",
       "HTML page, otherwise a graphical menu if possible if\n",
       "<code>getOption(\"menu.graphics\")</code> is true, the default.)\n",
       "</p>\n",
       "<p>Note that HTML help does not make use of <code>lib.loc</code>: it will\n",
       "always look first in the loaded packages and then along\n",
       "<code>.libPaths()</code>.\n",
       "</p>\n",
       "\n",
       "\n",
       "<h3>Offline help</h3>\n",
       "\n",
       "<p>Typeset documentation is produced by running the LaTeX version of the\n",
       "help page through <code>pdflatex</code>: this will produce a PDF file.\n",
       "</p>\n",
       "<p>The appearance of the output can be customized through a file\n",
       "&lsquo;<span class=\"file\">Rhelp.cfg</span>&rsquo; somewhere in your LaTeX search path: this will be\n",
       "input as a LaTeX style file after <code>Rd.sty</code>.  Some\n",
       "environment variables are consulted, notably <span class=\"env\">R_PAPERSIZE</span>\n",
       "(<em>via</em> <code>getOption(\"papersize\")</code>) and <span class=\"env\">R_RD4PDF</span> (see\n",
       "&lsquo;Making manuals&rsquo; in the &lsquo;R Installation and\n",
       "Administration Manual&rsquo;).\n",
       "</p>\n",
       "<p>If there is a function <code>offline_help_helper</code> in the workspace or\n",
       "further down the search path it is used to do the typesetting,\n",
       "otherwise the function of that name in the <code>utils</code> namespace (to\n",
       "which the first paragraph applies).  It should accept at least two\n",
       "arguments, the name of the LaTeX file to be typeset and the type\n",
       "(which is nowadays ignored).  It accepts a third argument,\n",
       "<code>texinputs</code>, which will give the graphics path when the help\n",
       "document contains figures, and will otherwise not be supplied.\n",
       "</p>\n",
       "\n",
       "\n",
       "<h3>Note</h3>\n",
       "\n",
       "<p>Unless <code>lib.loc</code> is specified explicitly, the loaded packages are\n",
       "searched before those in the specified libraries.  This ensures that\n",
       "if a library is loaded from a library not in the known library trees,\n",
       "then the help from the loaded library is used.  If <code>lib.loc</code> is\n",
       "specified explicitly, the loaded packages are <em>not</em> searched.\n",
       "</p>\n",
       "<p>If this search fails and argument <code>try.all.packages</code> is\n",
       "<code>TRUE</code> and neither <code>packages</code> nor <code>lib.loc</code> is\n",
       "specified, then all the packages in the known library trees are\n",
       "searched for help on <code>topic</code> and a list of (any) packages where\n",
       "help may be found is displayed (with hyperlinks for\n",
       "<code>help_type = \"html\"</code>).\n",
       "<strong>NB:</strong> searching all packages can be slow, especially\n",
       "the first time (caching of files by the OS can expedite subsequent\n",
       "searches dramatically).\n",
       "</p>\n",
       "\n",
       "\n",
       "<h3>References</h3>\n",
       "\n",
       "<p>Becker, R. A., Chambers, J. M. and Wilks, A. R. (1988)\n",
       "<em>The New S Language</em>.\n",
       "Wadsworth &amp; Brooks/Cole.\n",
       "</p>\n",
       "\n",
       "\n",
       "<h3>See Also</h3>\n",
       "\n",
       "<p><code>?</code> for shortcuts to help topics.\n",
       "</p>\n",
       "<p><code>help.search()</code> or <code>??</code> for finding help pages\n",
       "on a vague topic;\n",
       "<code>help.start()</code> which opens the HTML version of the <span style=\"font-family: Courier New, Courier; color: #666666;\"><b>R</b></span>\n",
       "help pages;\n",
       "<code>library()</code> for listing available packages and the\n",
       "help objects they contain;\n",
       "<code>data()</code> for listing available data sets;\n",
       "<code>methods()</code>.\n",
       "</p>\n",
       "<p>Use <code>prompt()</code> to get a prototype for writing <code>help</code>\n",
       "pages of your own package.\n",
       "</p>\n",
       "\n",
       "\n",
       "<h3>Examples</h3>\n",
       "\n",
       "<pre>\n",
       "help()\n",
       "help(help)              # the same\n",
       "\n",
       "help(lapply)\n",
       "\n",
       "help(\"for\")             # or ?\"for\", but quotes/backticks are needed\n",
       "\n",
       "try({# requires working TeX installation:\n",
       " help(dgamma, help_type = \"pdf\")\n",
       " ## -&gt; nicely formatted pdf -- including math formula -- for help(dgamma):\n",
       " system2(getOption(\"pdfviewer\"), \"dgamma.pdf\", wait = FALSE)\n",
       "})\n",
       "\n",
       "help(package = \"splines\") # get help even when package is not loaded\n",
       "\n",
       "topi &lt;- \"women\"\n",
       "help(topi)\n",
       "\n",
       "try(help(\"bs\", try.all.packages = FALSE)) # reports not found (an error)\n",
       "help(\"bs\", try.all.packages = TRUE)       # reports can be found\n",
       "                                          # in package 'splines'\n",
       "\n",
       "## For programmatic use:\n",
       "topic &lt;- \"family\"; pkg_ref &lt;- \"stats\"\n",
       "help((topic), (pkg_ref))\n",
       "</pre>\n",
       "\n",
       "<hr /><div style=\"text-align: center;\">[Package <em>utils</em> version 3.6.3 ]</div>"
      ],
      "text/latex": [
       "\\inputencoding{utf8}\n",
       "\\HeaderA{help}{Documentation}{help}\n",
       "\\keyword{documentation}{help}\n",
       "%\n",
       "\\begin{Description}\\relax\n",
       "\\code{help} is the primary interface to the help systems.\n",
       "\\end{Description}\n",
       "%\n",
       "\\begin{Usage}\n",
       "\\begin{verbatim}\n",
       "help(topic, package = NULL, lib.loc = NULL,\n",
       "     verbose = getOption(\"verbose\"),\n",
       "     try.all.packages = getOption(\"help.try.all.packages\"),\n",
       "     help_type = getOption(\"help_type\"))\n",
       "\\end{verbatim}\n",
       "\\end{Usage}\n",
       "%\n",
       "\\begin{Arguments}\n",
       "\\begin{ldescription}\n",
       "\\item[\\code{topic}] usually, a \\LinkA{name}{name} or character string specifying the\n",
       "topic for which help is sought.  A character string (enclosed in\n",
       "explicit single or double quotes) is always taken as naming a topic.\n",
       "\n",
       "If the value of \\code{topic} is a length-one\n",
       "character vector the topic is taken to be the value of the only\n",
       "element.  Otherwise \\code{topic} must be a name or a \\LinkA{reserved}{reserved}\n",
       "word (if syntactically valid) or character string.\n",
       "\n",
       "See `Details' for what happens if this is omitted.\n",
       "\n",
       "\\item[\\code{package}] a name or character vector giving the packages to look\n",
       "into for documentation, or \\code{NULL}.  By default, all packages\n",
       "whose namespaces are loaded are used.  To avoid a name being deparsed use e.g.\n",
       "\\code{(pkg\\_ref)} (see the examples).\n",
       "\\item[\\code{lib.loc}] a character vector of directory names of \\R{} libraries,\n",
       "or \\code{NULL}.  The default value of \\code{NULL} corresponds to all\n",
       "libraries currently known.  If the default is used, the loaded\n",
       "packages are searched before the libraries.  This is not used for\n",
       "HTML help (see `Details').\n",
       "\\item[\\code{verbose}] logical; if \\code{TRUE}, the file name is reported.\n",
       "\\item[\\code{try.all.packages}] logical; see \\code{Note}.\n",
       "\\item[\\code{help\\_type}] character string: the type of help required.\n",
       "Possible values are \\code{\"text\"}, \\code{\"html\"} and \\code{\"pdf\"}.\n",
       "Case is ignored, and partial matching is allowed.\n",
       "\\end{ldescription}\n",
       "\\end{Arguments}\n",
       "%\n",
       "\\begin{Details}\\relax\n",
       "The following types of help are available:\n",
       "\\begin{itemize}\n",
       "\n",
       "\\item{} Plain text help\n",
       "\\item{} HTML help pages with hyperlinks to other topics, shown in a\n",
       "browser by \\code{\\LinkA{browseURL}{browseURL}}.\n",
       "\\\\{}\n",
       "(On Unix-alikes,\n",
       "where possible an existing browser window is re-used: the macOS\n",
       "GUI uses its own browser window.)\n",
       "\n",
       "If for some reason HTML help is unavailable (see\n",
       "\\code{\\LinkA{startDynamicHelp}{startDynamicHelp}}), plain text help will be used\n",
       "instead.\n",
       "\\item{} For \\code{help} only, typeset as PDF --\n",
       "see the section on `Offline help'.\n",
       "\n",
       "\\end{itemize}\n",
       "\n",
       "\\begin{description}\n",
       "\n",
       "\\item[On Unix-alikes:] \n",
       "The `factory-fresh' default is text help except from the macOS\n",
       "GUI, which uses HTML help displayed in its own browser window.\n",
       "\n",
       "\\item[On Windows:] \n",
       "The default for the type of help is selected when \\R{} is installed --\n",
       "the `factory-fresh' default is HTML help.\n",
       "\n",
       "\n",
       "\\end{description}\n",
       "\n",
       "The rendering of text help will use directional quotes in suitable\n",
       "locales (UTF-8 and single-byte Windows locales): sometimes the fonts\n",
       "used do not support these quotes so this can be turned off by setting\n",
       "\\code{\\LinkA{options}{options}(useFancyQuotes = FALSE)}.\n",
       "\n",
       "\\code{topic} is not optional: if it is omitted \\R{} will give\n",
       "\\begin{itemize}\n",
       "\n",
       "\\item{} If a package is specified, (text or, in interactive use only,\n",
       "HTML) information on the package, including hints/links to suitable\n",
       "help topics.\n",
       "\\item{} If \\code{lib.loc} only is specified, a (text) list of available\n",
       "packages.\n",
       "\\item{} Help on \\code{help} itself if none of the first three\n",
       "arguments is specified.\n",
       "\n",
       "\\end{itemize}\n",
       "\n",
       "\n",
       "Some topics need to be quoted (by \\LinkA{backtick}{backtick}s) or given as a\n",
       "character string.  These include those which cannot syntactically\n",
       "appear on their own such as unary and binary operators,\n",
       "\\code{function} and control-flow \\LinkA{reserved}{reserved} words (including\n",
       "\\code{if}, \\code{else} \\code{for}, \\code{in}, \\code{repeat},\n",
       "\\code{while}, \\code{break} and \\code{next}).  The other \\code{reserved}\n",
       "words can be used as if they were names, for example \\code{TRUE},\n",
       "\\code{NA} and \\code{Inf}.\n",
       "\n",
       "If multiple help files matching \\code{topic} are found, in interactive\n",
       "use a menu is presented for the user to choose one: in batch use the\n",
       "first on the search path is used.  (For HTML help the menu will be an\n",
       "HTML page, otherwise a graphical menu if possible if\n",
       "\\code{\\LinkA{getOption}{getOption}(\"menu.graphics\")} is true, the default.)\n",
       "\n",
       "Note that HTML help does not make use of \\code{lib.loc}: it will\n",
       "always look first in the loaded packages and then along\n",
       "\\code{.libPaths()}.\n",
       "\\end{Details}\n",
       "%\n",
       "\\begin{Section}{Offline help}\n",
       "Typeset documentation is produced by running the LaTeX version of the\n",
       "help page through \\command{pdflatex}: this will produce a PDF file.\n",
       "\n",
       "The appearance of the output can be customized through a file\n",
       "\\file{Rhelp.cfg} somewhere in your LaTeX search path: this will be\n",
       "input as a LaTeX style file after \\code{Rd.sty}.  Some\n",
       "\\LinkA{environment variables}{environment variables} are consulted, notably \\env{R\\_PAPERSIZE}\n",
       "(\\emph{via} \\code{getOption(\"papersize\")}) and \\env{R\\_RD4PDF} (see\n",
       "`Making manuals' in the `R Installation and\n",
       "Administration Manual').\n",
       "\n",
       "If there is a function \\code{offline\\_help\\_helper} in the workspace or\n",
       "further down the search path it is used to do the typesetting,\n",
       "otherwise the function of that name in the \\code{utils} namespace (to\n",
       "which the first paragraph applies).  It should accept at least two\n",
       "arguments, the name of the LaTeX file to be typeset and the type\n",
       "(which is nowadays ignored).  It accepts a third argument,\n",
       "\\code{texinputs}, which will give the graphics path when the help\n",
       "document contains figures, and will otherwise not be supplied.\n",
       "\\end{Section}\n",
       "%\n",
       "\\begin{Note}\\relax\n",
       "Unless \\code{lib.loc} is specified explicitly, the loaded packages are\n",
       "searched before those in the specified libraries.  This ensures that\n",
       "if a library is loaded from a library not in the known library trees,\n",
       "then the help from the loaded library is used.  If \\code{lib.loc} is\n",
       "specified explicitly, the loaded packages are \\emph{not} searched.\n",
       "\n",
       "If this search fails and argument \\code{try.all.packages} is\n",
       "\\code{TRUE} and neither \\code{packages} nor \\code{lib.loc} is\n",
       "specified, then all the packages in the known library trees are\n",
       "searched for help on \\code{topic} and a list of (any) packages where\n",
       "help may be found is displayed (with hyperlinks for\n",
       "\\code{help\\_type = \"html\"}).\n",
       "\\strong{NB:} searching all packages can be slow, especially\n",
       "the first time (caching of files by the OS can expedite subsequent\n",
       "searches dramatically).\n",
       "\\end{Note}\n",
       "%\n",
       "\\begin{References}\\relax\n",
       "Becker, R. A., Chambers, J. M. and Wilks, A. R. (1988)\n",
       "\\emph{The New S Language}.\n",
       "Wadsworth \\& Brooks/Cole.\n",
       "\\end{References}\n",
       "%\n",
       "\\begin{SeeAlso}\\relax\n",
       "\\code{\\LinkA{?}{Question}} for shortcuts to help topics.\n",
       "\n",
       "\\code{\\LinkA{help.search}{help.search}()} or \\code{\\LinkA{??}{??}} for finding help pages\n",
       "on a vague topic;\n",
       "\\code{\\LinkA{help.start}{help.start}()} which opens the HTML version of the \\R{}\n",
       "help pages;\n",
       "\\code{\\LinkA{library}{library}()} for listing available packages and the\n",
       "help objects they contain;\n",
       "\\code{\\LinkA{data}{data}()} for listing available data sets;\n",
       "\\code{\\LinkA{methods}{methods}()}.\n",
       "\n",
       "Use \\code{\\LinkA{prompt}{prompt}()} to get a prototype for writing \\code{help}\n",
       "pages of your own package.\n",
       "\\end{SeeAlso}\n",
       "%\n",
       "\\begin{Examples}\n",
       "\\begin{ExampleCode}\n",
       "help()\n",
       "help(help)              # the same\n",
       "\n",
       "help(lapply)\n",
       "\n",
       "help(\"for\")             # or ?\"for\", but quotes/backticks are needed\n",
       "\n",
       "try({# requires working TeX installation:\n",
       " help(dgamma, help_type = \"pdf\")\n",
       " ## -> nicely formatted pdf -- including math formula -- for help(dgamma):\n",
       " system2(getOption(\"pdfviewer\"), \"dgamma.pdf\", wait = FALSE)\n",
       "})\n",
       "\n",
       "help(package = \"splines\") # get help even when package is not loaded\n",
       "\n",
       "topi <- \"women\"\n",
       "help(topi)\n",
       "\n",
       "try(help(\"bs\", try.all.packages = FALSE)) # reports not found (an error)\n",
       "help(\"bs\", try.all.packages = TRUE)       # reports can be found\n",
       "                                          # in package 'splines'\n",
       "\n",
       "## For programmatic use:\n",
       "topic <- \"family\"; pkg_ref <- \"stats\"\n",
       "help((topic), (pkg_ref))\n",
       "\\end{ExampleCode}\n",
       "\\end{Examples}"
      ],
      "text/plain": [
       "help                   package:utils                   R Documentation\n",
       "\n",
       "_\bD_\bo_\bc_\bu_\bm_\be_\bn_\bt_\ba_\bt_\bi_\bo_\bn\n",
       "\n",
       "_\bD_\be_\bs_\bc_\br_\bi_\bp_\bt_\bi_\bo_\bn:\n",
       "\n",
       "     ‘help’ is the primary interface to the help systems.\n",
       "\n",
       "_\bU_\bs_\ba_\bg_\be:\n",
       "\n",
       "     help(topic, package = NULL, lib.loc = NULL,\n",
       "          verbose = getOption(\"verbose\"),\n",
       "          try.all.packages = getOption(\"help.try.all.packages\"),\n",
       "          help_type = getOption(\"help_type\"))\n",
       "     \n",
       "_\bA_\br_\bg_\bu_\bm_\be_\bn_\bt_\bs:\n",
       "\n",
       "   topic: usually, a name or character string specifying the topic for\n",
       "          which help is sought.  A character string (enclosed in\n",
       "          explicit single or double quotes) is always taken as naming a\n",
       "          topic.\n",
       "\n",
       "          If the value of ‘topic’ is a length-one character vector the\n",
       "          topic is taken to be the value of the only element.\n",
       "          Otherwise ‘topic’ must be a name or a reserved word (if\n",
       "          syntactically valid) or character string.\n",
       "\n",
       "          See ‘Details’ for what happens if this is omitted.\n",
       "\n",
       " package: a name or character vector giving the packages to look into\n",
       "          for documentation, or ‘NULL’.  By default, all packages whose\n",
       "          namespaces are loaded are used.  To avoid a name being\n",
       "          deparsed use e.g.  ‘(pkg_ref)’ (see the examples).\n",
       "\n",
       " lib.loc: a character vector of directory names of R libraries, or\n",
       "          ‘NULL’.  The default value of ‘NULL’ corresponds to all\n",
       "          libraries currently known.  If the default is used, the\n",
       "          loaded packages are searched before the libraries.  This is\n",
       "          not used for HTML help (see ‘Details’).\n",
       "\n",
       " verbose: logical; if ‘TRUE’, the file name is reported.\n",
       "\n",
       "try.all.packages: logical; see ‘Note’.\n",
       "\n",
       "help_type: character string: the type of help required.  Possible\n",
       "          values are ‘\"text\"’, ‘\"html\"’ and ‘\"pdf\"’.  Case is ignored,\n",
       "          and partial matching is allowed.\n",
       "\n",
       "_\bD_\be_\bt_\ba_\bi_\bl_\bs:\n",
       "\n",
       "     The following types of help are available:\n",
       "\n",
       "        • Plain text help\n",
       "\n",
       "        • HTML help pages with hyperlinks to other topics, shown in a\n",
       "          browser by ‘browseURL’.\n",
       "\n",
       "          (On Unix-alikes, where possible an existing browser window is\n",
       "          re-used: the macOS GUI uses its own browser window.)\n",
       "\n",
       "          If for some reason HTML help is unavailable (see\n",
       "          ‘startDynamicHelp’), plain text help will be used instead.\n",
       "\n",
       "        • For ‘help’ only, typeset as PDF - see the section on ‘Offline\n",
       "          help’.\n",
       "\n",
       "     On Unix-alikes: The ‘factory-fresh’ default is text help except\n",
       "          from the macOS GUI, which uses HTML help displayed in its own\n",
       "          browser window.\n",
       "\n",
       "     On Windows: The default for the type of help is selected when R is\n",
       "          installed - the ‘factory-fresh’ default is HTML help.\n",
       "\n",
       "     The rendering of text help will use directional quotes in suitable\n",
       "     locales (UTF-8 and single-byte Windows locales): sometimes the\n",
       "     fonts used do not support these quotes so this can be turned off\n",
       "     by setting ‘options(useFancyQuotes = FALSE)’.\n",
       "\n",
       "     ‘topic’ is not optional: if it is omitted R will give\n",
       "\n",
       "        • If a package is specified, (text or, in interactive use only,\n",
       "          HTML) information on the package, including hints/links to\n",
       "          suitable help topics.\n",
       "\n",
       "        • If ‘lib.loc’ only is specified, a (text) list of available\n",
       "          packages.\n",
       "\n",
       "        • Help on ‘help’ itself if none of the first three arguments is\n",
       "          specified.\n",
       "\n",
       "     Some topics need to be quoted (by backticks) or given as a\n",
       "     character string.  These include those which cannot syntactically\n",
       "     appear on their own such as unary and binary operators, ‘function’\n",
       "     and control-flow reserved words (including ‘if’, ‘else’ ‘for’,\n",
       "     ‘in’, ‘repeat’, ‘while’, ‘break’ and ‘next’).  The other\n",
       "     ‘reserved’ words can be used as if they were names, for example\n",
       "     ‘TRUE’, ‘NA’ and ‘Inf’.\n",
       "\n",
       "     If multiple help files matching ‘topic’ are found, in interactive\n",
       "     use a menu is presented for the user to choose one: in batch use\n",
       "     the first on the search path is used.  (For HTML help the menu\n",
       "     will be an HTML page, otherwise a graphical menu if possible if\n",
       "     ‘getOption(\"menu.graphics\")’ is true, the default.)\n",
       "\n",
       "     Note that HTML help does not make use of ‘lib.loc’: it will always\n",
       "     look first in the loaded packages and then along ‘.libPaths()’.\n",
       "\n",
       "_\bO_\bf_\bf_\bl_\bi_\bn_\be _\bh_\be_\bl_\bp:\n",
       "\n",
       "     Typeset documentation is produced by running the LaTeX version of\n",
       "     the help page through ‘pdflatex’: this will produce a PDF file.\n",
       "\n",
       "     The appearance of the output can be customized through a file\n",
       "     ‘Rhelp.cfg’ somewhere in your LaTeX search path: this will be\n",
       "     input as a LaTeX style file after ‘Rd.sty’.  Some environment\n",
       "     variables are consulted, notably ‘R_PAPERSIZE’ (_via_\n",
       "     ‘getOption(\"papersize\")’) and ‘R_RD4PDF’ (see ‘Making manuals’ in\n",
       "     the ‘R Installation and Administration Manual’).\n",
       "\n",
       "     If there is a function ‘offline_help_helper’ in the workspace or\n",
       "     further down the search path it is used to do the typesetting,\n",
       "     otherwise the function of that name in the ‘utils’ namespace (to\n",
       "     which the first paragraph applies).  It should accept at least two\n",
       "     arguments, the name of the LaTeX file to be typeset and the type\n",
       "     (which is nowadays ignored).  It accepts a third argument,\n",
       "     ‘texinputs’, which will give the graphics path when the help\n",
       "     document contains figures, and will otherwise not be supplied.\n",
       "\n",
       "_\bN_\bo_\bt_\be:\n",
       "\n",
       "     Unless ‘lib.loc’ is specified explicitly, the loaded packages are\n",
       "     searched before those in the specified libraries.  This ensures\n",
       "     that if a library is loaded from a library not in the known\n",
       "     library trees, then the help from the loaded library is used.  If\n",
       "     ‘lib.loc’ is specified explicitly, the loaded packages are _not_\n",
       "     searched.\n",
       "\n",
       "     If this search fails and argument ‘try.all.packages’ is ‘TRUE’ and\n",
       "     neither ‘packages’ nor ‘lib.loc’ is specified, then all the\n",
       "     packages in the known library trees are searched for help on\n",
       "     ‘topic’ and a list of (any) packages where help may be found is\n",
       "     displayed (with hyperlinks for ‘help_type = \"html\"’).  *NB:*\n",
       "     searching all packages can be slow, especially the first time\n",
       "     (caching of files by the OS can expedite subsequent searches\n",
       "     dramatically).\n",
       "\n",
       "_\bR_\be_\bf_\be_\br_\be_\bn_\bc_\be_\bs:\n",
       "\n",
       "     Becker, R. A., Chambers, J. M. and Wilks, A. R. (1988) _The New S\n",
       "     Language_.  Wadsworth & Brooks/Cole.\n",
       "\n",
       "_\bS_\be_\be _\bA_\bl_\bs_\bo:\n",
       "\n",
       "     ‘?’ for shortcuts to help topics.\n",
       "\n",
       "     ‘help.search()’ or ‘??’ for finding help pages on a vague topic;\n",
       "     ‘help.start()’ which opens the HTML version of the R help pages;\n",
       "     ‘library()’ for listing available packages and the help objects\n",
       "     they contain; ‘data()’ for listing available data sets;\n",
       "     ‘methods()’.\n",
       "\n",
       "     Use ‘prompt()’ to get a prototype for writing ‘help’ pages of your\n",
       "     own package.\n",
       "\n",
       "_\bE_\bx_\ba_\bm_\bp_\bl_\be_\bs:\n",
       "\n",
       "     help()\n",
       "     help(help)              # the same\n",
       "     \n",
       "     help(lapply)\n",
       "     \n",
       "     help(\"for\")             # or ?\"for\", but quotes/backticks are needed\n",
       "     \n",
       "     try({# requires working TeX installation:\n",
       "      help(dgamma, help_type = \"pdf\")\n",
       "      ## -> nicely formatted pdf -- including math formula -- for help(dgamma):\n",
       "      system2(getOption(\"pdfviewer\"), \"dgamma.pdf\", wait = FALSE)\n",
       "     })\n",
       "     \n",
       "     help(package = \"splines\") # get help even when package is not loaded\n",
       "     \n",
       "     topi <- \"women\"\n",
       "     help(topi)\n",
       "     \n",
       "     try(help(\"bs\", try.all.packages = FALSE)) # reports not found (an error)\n",
       "     help(\"bs\", try.all.packages = TRUE)       # reports can be found\n",
       "                                               # in package 'splines'\n",
       "     \n",
       "     ## For programmatic use:\n",
       "     topic <- \"family\"; pkg_ref <- \"stats\"\n",
       "     help((topic), (pkg_ref))\n",
       "     "
      ]
     },
     "metadata": {},
     "output_type": "display_data"
    }
   ],
   "source": [
    "help()"
   ]
  },
  {
   "cell_type": "code",
   "execution_count": null,
   "metadata": {},
   "outputs": [],
   "source": []
  }
 ],
 "metadata": {
  "kernelspec": {
   "display_name": "R",
   "language": "R",
   "name": "ir"
  },
  "language_info": {
   "codemirror_mode": "r",
   "file_extension": ".r",
   "mimetype": "text/x-r-source",
   "name": "R",
   "pygments_lexer": "r",
   "version": "3.6.3"
  }
 },
 "nbformat": 4,
 "nbformat_minor": 4
}

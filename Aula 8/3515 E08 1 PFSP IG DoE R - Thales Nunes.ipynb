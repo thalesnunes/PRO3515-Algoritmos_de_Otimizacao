{
 "cells": [
  {
   "cell_type": "markdown",
   "metadata": {},
   "source": [
    "# PRO3515 Algoritmos de Otimização para Programação de Produção\n",
    "## Aula 8 - Exercício Individual"
   ]
  },
  {
   "cell_type": "markdown",
   "metadata": {},
   "source": [
    "### Nome: Thales Nunes - NUSP: 10769372"
   ]
  },
  {
   "cell_type": "markdown",
   "metadata": {},
   "source": []
  },
  {
   "cell_type": "markdown",
   "metadata": {},
   "source": [
    "### Exercício"
   ]
  },
  {
   "cell_type": "markdown",
   "metadata": {},
   "source": [
    "A tabela abaixo apresenta os resultados de experimentos com três níveis de um Fator A. A partir da Análise de Variância, verifique se o fator A tem efeito na variável de resposta Y."
   ]
  },
  {
   "cell_type": "markdown",
   "metadata": {},
   "source": [
    "| a1   | a2   | a3   |\n",
    "|------|------|------|\n",
    "| 38,6 | 40,9 | 41,8 |\n",
    "| 37,6 | 41,9 | 41,1 |\n",
    "| 36,7 | 39,6 | 40,7 |\n",
    "| 36,7 | 42,9 | 42,9 |\n",
    "| 38,0 | 42,7 | 43,7 |\n",
    "| 36,7 | 40,2 | 41,9 |"
   ]
  },
  {
   "cell_type": "markdown",
   "metadata": {},
   "source": [
    "### Resolução"
   ]
  },
  {
   "cell_type": "code",
   "execution_count": 2,
   "metadata": {},
   "outputs": [
    {
     "data": {
      "text/html": [
       "<style>\n",
       ".list-inline {list-style: none; margin:0; padding: 0}\n",
       ".list-inline>li {display: inline-block}\n",
       ".list-inline>li:not(:last-child)::after {content: \"\\00b7\"; padding: 0 .5ex}\n",
       "</style>\n",
       "<ol class=list-inline><li>38.6</li><li>37.6</li><li>36.7</li><li>36.7</li><li>38</li><li>36.7</li></ol>\n"
      ],
      "text/latex": [
       "\\begin{enumerate*}\n",
       "\\item 38.6\n",
       "\\item 37.6\n",
       "\\item 36.7\n",
       "\\item 36.7\n",
       "\\item 38\n",
       "\\item 36.7\n",
       "\\end{enumerate*}\n"
      ],
      "text/markdown": [
       "1. 38.6\n",
       "2. 37.6\n",
       "3. 36.7\n",
       "4. 36.7\n",
       "5. 38\n",
       "6. 36.7\n",
       "\n",
       "\n"
      ],
      "text/plain": [
       "[1] 38.6 37.6 36.7 36.7 38.0 36.7"
      ]
     },
     "metadata": {},
     "output_type": "display_data"
    },
    {
     "data": {
      "text/html": [
       "<style>\n",
       ".list-inline {list-style: none; margin:0; padding: 0}\n",
       ".list-inline>li {display: inline-block}\n",
       ".list-inline>li:not(:last-child)::after {content: \"\\00b7\"; padding: 0 .5ex}\n",
       "</style>\n",
       "<ol class=list-inline><li>40.9</li><li>41.9</li><li>39.6</li><li>42.9</li><li>42.7</li><li>40.2</li></ol>\n"
      ],
      "text/latex": [
       "\\begin{enumerate*}\n",
       "\\item 40.9\n",
       "\\item 41.9\n",
       "\\item 39.6\n",
       "\\item 42.9\n",
       "\\item 42.7\n",
       "\\item 40.2\n",
       "\\end{enumerate*}\n"
      ],
      "text/markdown": [
       "1. 40.9\n",
       "2. 41.9\n",
       "3. 39.6\n",
       "4. 42.9\n",
       "5. 42.7\n",
       "6. 40.2\n",
       "\n",
       "\n"
      ],
      "text/plain": [
       "[1] 40.9 41.9 39.6 42.9 42.7 40.2"
      ]
     },
     "metadata": {},
     "output_type": "display_data"
    },
    {
     "data": {
      "text/html": [
       "<style>\n",
       ".list-inline {list-style: none; margin:0; padding: 0}\n",
       ".list-inline>li {display: inline-block}\n",
       ".list-inline>li:not(:last-child)::after {content: \"\\00b7\"; padding: 0 .5ex}\n",
       "</style>\n",
       "<ol class=list-inline><li>41.8</li><li>41.1</li><li>40.7</li><li>42.9</li><li>43.7</li><li>41.9</li></ol>\n"
      ],
      "text/latex": [
       "\\begin{enumerate*}\n",
       "\\item 41.8\n",
       "\\item 41.1\n",
       "\\item 40.7\n",
       "\\item 42.9\n",
       "\\item 43.7\n",
       "\\item 41.9\n",
       "\\end{enumerate*}\n"
      ],
      "text/markdown": [
       "1. 41.8\n",
       "2. 41.1\n",
       "3. 40.7\n",
       "4. 42.9\n",
       "5. 43.7\n",
       "6. 41.9\n",
       "\n",
       "\n"
      ],
      "text/plain": [
       "[1] 41.8 41.1 40.7 42.9 43.7 41.9"
      ]
     },
     "metadata": {},
     "output_type": "display_data"
    }
   ],
   "source": [
    "a1<-c(38.6,37.6,36.7,36.7,38.0,36.7)\n",
    "a2<-c(40.9,41.9,39.6,42.9,42.7,40.2)\n",
    "a3<-c(41.8,41.1,40.7,42.9,43.7,41.9)\n",
    "a1\n",
    "a2\n",
    "a3"
   ]
  },
  {
   "cell_type": "code",
   "execution_count": 3,
   "metadata": {},
   "outputs": [
    {
     "data": {
      "text/html": [
       "<style>\n",
       ".list-inline {list-style: none; margin:0; padding: 0}\n",
       ".list-inline>li {display: inline-block}\n",
       ".list-inline>li:not(:last-child)::after {content: \"\\00b7\"; padding: 0 .5ex}\n",
       "</style>\n",
       "<ol class=list-inline><li>38.6</li><li>37.6</li><li>36.7</li><li>36.7</li><li>38</li><li>36.7</li><li>40.9</li><li>41.9</li><li>39.6</li><li>42.9</li><li>42.7</li><li>40.2</li><li>41.8</li><li>41.1</li><li>40.7</li><li>42.9</li><li>43.7</li><li>41.9</li></ol>\n"
      ],
      "text/latex": [
       "\\begin{enumerate*}\n",
       "\\item 38.6\n",
       "\\item 37.6\n",
       "\\item 36.7\n",
       "\\item 36.7\n",
       "\\item 38\n",
       "\\item 36.7\n",
       "\\item 40.9\n",
       "\\item 41.9\n",
       "\\item 39.6\n",
       "\\item 42.9\n",
       "\\item 42.7\n",
       "\\item 40.2\n",
       "\\item 41.8\n",
       "\\item 41.1\n",
       "\\item 40.7\n",
       "\\item 42.9\n",
       "\\item 43.7\n",
       "\\item 41.9\n",
       "\\end{enumerate*}\n"
      ],
      "text/markdown": [
       "1. 38.6\n",
       "2. 37.6\n",
       "3. 36.7\n",
       "4. 36.7\n",
       "5. 38\n",
       "6. 36.7\n",
       "7. 40.9\n",
       "8. 41.9\n",
       "9. 39.6\n",
       "10. 42.9\n",
       "11. 42.7\n",
       "12. 40.2\n",
       "13. 41.8\n",
       "14. 41.1\n",
       "15. 40.7\n",
       "16. 42.9\n",
       "17. 43.7\n",
       "18. 41.9\n",
       "\n",
       "\n"
      ],
      "text/plain": [
       " [1] 38.6 37.6 36.7 36.7 38.0 36.7 40.9 41.9 39.6 42.9 42.7 40.2 41.8 41.1 40.7\n",
       "[16] 42.9 43.7 41.9"
      ]
     },
     "metadata": {},
     "output_type": "display_data"
    }
   ],
   "source": [
    "Y<-c(a1,a2,a3)\n",
    "Y"
   ]
  },
  {
   "cell_type": "code",
   "execution_count": 5,
   "metadata": {},
   "outputs": [
    {
     "data": {
      "text/html": [
       "<style>\n",
       ".list-inline {list-style: none; margin:0; padding: 0}\n",
       ".list-inline>li {display: inline-block}\n",
       ".list-inline>li:not(:last-child)::after {content: \"\\00b7\"; padding: 0 .5ex}\n",
       "</style>\n",
       "<ol class=list-inline><li>'a1'</li><li>'a1'</li><li>'a1'</li><li>'a1'</li><li>'a1'</li><li>'a1'</li><li>'a2'</li><li>'a2'</li><li>'a2'</li><li>'a2'</li><li>'a2'</li><li>'a2'</li><li>'a3'</li><li>'a3'</li><li>'a3'</li><li>'a3'</li><li>'a3'</li><li>'a3'</li></ol>\n"
      ],
      "text/latex": [
       "\\begin{enumerate*}\n",
       "\\item 'a1'\n",
       "\\item 'a1'\n",
       "\\item 'a1'\n",
       "\\item 'a1'\n",
       "\\item 'a1'\n",
       "\\item 'a1'\n",
       "\\item 'a2'\n",
       "\\item 'a2'\n",
       "\\item 'a2'\n",
       "\\item 'a2'\n",
       "\\item 'a2'\n",
       "\\item 'a2'\n",
       "\\item 'a3'\n",
       "\\item 'a3'\n",
       "\\item 'a3'\n",
       "\\item 'a3'\n",
       "\\item 'a3'\n",
       "\\item 'a3'\n",
       "\\end{enumerate*}\n"
      ],
      "text/markdown": [
       "1. 'a1'\n",
       "2. 'a1'\n",
       "3. 'a1'\n",
       "4. 'a1'\n",
       "5. 'a1'\n",
       "6. 'a1'\n",
       "7. 'a2'\n",
       "8. 'a2'\n",
       "9. 'a2'\n",
       "10. 'a2'\n",
       "11. 'a2'\n",
       "12. 'a2'\n",
       "13. 'a3'\n",
       "14. 'a3'\n",
       "15. 'a3'\n",
       "16. 'a3'\n",
       "17. 'a3'\n",
       "18. 'a3'\n",
       "\n",
       "\n"
      ],
      "text/plain": [
       " [1] \"a1\" \"a1\" \"a1\" \"a1\" \"a1\" \"a1\" \"a2\" \"a2\" \"a2\" \"a2\" \"a2\" \"a2\" \"a3\" \"a3\" \"a3\"\n",
       "[16] \"a3\" \"a3\" \"a3\""
      ]
     },
     "metadata": {},
     "output_type": "display_data"
    }
   ],
   "source": [
    "A<-c(rep('a1',length(a1)),rep('a2',length(a2)),rep('a3',length(a3)))\n",
    "A"
   ]
  },
  {
   "cell_type": "code",
   "execution_count": 6,
   "metadata": {},
   "outputs": [],
   "source": [
    "av<-aov(Y~A)"
   ]
  },
  {
   "cell_type": "code",
   "execution_count": 7,
   "metadata": {},
   "outputs": [
    {
     "data": {
      "text/plain": [
       "            Df Sum Sq Mean Sq F value   Pr(>F)    \n",
       "A            2  75.51   37.76   30.34 5.35e-06 ***\n",
       "Residuals   15  18.67    1.24                     \n",
       "---\n",
       "Signif. codes:  0 ‘***’ 0.001 ‘**’ 0.01 ‘*’ 0.05 ‘.’ 0.1 ‘ ’ 1"
      ]
     },
     "metadata": {},
     "output_type": "display_data"
    }
   ],
   "source": [
    "summary(av)"
   ]
  },
  {
   "cell_type": "code",
   "execution_count": 8,
   "metadata": {},
   "outputs": [
    {
     "data": {
      "image/png": "[encoded data removed]",
      "text/plain": [
       "plot without title"
      ]
     },
     "metadata": {
      "image/png": {
       "height": 420,
       "width": 420
      }
     },
     "output_type": "display_data"
    }
   ],
   "source": [
    "boxplot(Y~A)"
   ]
  },
  {
   "cell_type": "markdown",
   "metadata": {},
   "source": [
    "Já que a probabilidade é baixa e o F é alto, além da diferença dos boxplots, podemos concluir que a variável tem influencia no resultado "
   ]
  }
 ],
 "metadata": {
  "kernelspec": {
   "display_name": "R",
   "language": "R",
   "name": "ir"
  },
  "language_info": {
   "codemirror_mode": "r",
   "file_extension": ".r",
   "mimetype": "text/x-r-source",
   "name": "R",
   "pygments_lexer": "r",
   "version": "3.6.3"
  }
 },
 "nbformat": 4,
 "nbformat_minor": 4
}

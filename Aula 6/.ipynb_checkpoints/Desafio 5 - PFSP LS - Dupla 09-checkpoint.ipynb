{
 "cells": [
  {
   "cell_type": "markdown",
   "metadata": {},
   "source": [
    "# PRO3515 - PFSP LS\n",
    "\n",
    "\n",
    "## Dupla 9\n",
    "\n",
    "### Nomes: \n",
    "### Lucas Hideki Takeuchi Okamura NUSP:  9274315\n",
    "### Thales Arantes Kerche Nunes   NUSP: 10769372\n"
   ]
  },
  {
   "cell_type": "markdown",
   "metadata": {},
   "source": [
    "Importando as bibliotecas necessárias"
   ]
  },
  {
   "cell_type": "code",
   "execution_count": 8,
   "metadata": {},
   "outputs": [],
   "source": [
    "import xlwings as xw\n",
    "import random"
   ]
  },
  {
   "cell_type": "markdown",
   "metadata": {},
   "source": [
    "Definindo a classe Job que usaremos no algoritmo"
   ]
  },
  {
   "cell_type": "code",
   "execution_count": 2,
   "metadata": {},
   "outputs": [],
   "source": [
    "class Job:\n",
    "    def __init__(self,i,pi,di):\n",
    "        self.i=i     # número do job, pela ordem de chegada\n",
    "        self.p=pi     # processing time\n",
    "        self.p_total=sum(self.p)\n",
    "        self.d=di     # due date\n",
    "        self.C=0     # completion time\n",
    "        self.T=0     # tardiness"
   ]
  },
  {
   "cell_type": "markdown",
   "metadata": {},
   "source": [
    "### Reutilizamos a função disponibilizada pelo professor, com alguns ajustes para ler o número de máquinas"
   ]
  },
  {
   "cell_type": "code",
   "execution_count": 9,
   "metadata": {},
   "outputs": [],
   "source": [
    "def leInst(sheet_num):\n",
    "    pl1 = wb1.sheets[sheet_num]\n",
    "    m=int(pl1.range('B5').value)     # converter em inteiro\n",
    "    n=int(pl1.range('B6').value)     # converter em inteiro\n",
    "    Cmax=int(pl1.range('F5').value)     # converter em inteiro\n",
    "    tab1=pl1.range('A11').options(expand='table', numbers=int).value     # ler como tabela e inteiros\n",
    "    print()\n",
    "    print('n =',n)\n",
    "    print('m =',m)\n",
    "    print('dados =',tab1)\n",
    "    jobs=[]\n",
    "    for i in range(n):\n",
    "        pi=tab1[i][1:-5]\n",
    "        jobs.append(Job(tab1[i][0]-1,pi,0))\n",
    "    \n",
    "    return m,n,jobs,Cmax"
   ]
  },
  {
   "cell_type": "markdown",
   "metadata": {},
   "source": [
    "Também reutilizamos a de gravar, novamente, com alguns ajustes"
   ]
  },
  {
   "cell_type": "code",
   "execution_count": 4,
   "metadata": {},
   "outputs": [],
   "source": [
    "def gravaSched(i,jobs,Cmax):\n",
    "    n=len(jobs)\n",
    "    tab=[]\n",
    "    for job in jobs:\n",
    "        a=[job.i+1]+job.p+job.C\n",
    "        tab.append(a)\n",
    "\n",
    "    if i==0:\n",
    "        plan=wb2.sheets[0]\n",
    "        plan.name='I(1)'\n",
    "    else:\n",
    "        plan=wb2.sheets.add('I('+str(i+1)+')',after=i)\n",
    "        \n",
    "    plan.range('A5').value=['m',5]\n",
    "    plan.range('A6').value=['n',n]\n",
    "    plan.range('E5').value=['Cmax',Cmax]\n",
    "    plan.range('A10').value=['#','p1','p2', 'p3', 'p4', 'p5','C1','C2','C3','C4','C5']\n",
    "    plan.range('A11').value=tab\n",
    "\n",
    "    print()\n",
    "    print('#','p','C')\n",
    "    for job in jobs:\n",
    "        print(job.i, job.p, job.C)\n",
    "    print('Cmax:',Cmax)"
   ]
  },
  {
   "cell_type": "markdown",
   "metadata": {},
   "source": []
  },
  {
   "cell_type": "markdown",
   "metadata": {},
   "source": [
    "Função que permite calcular o tempo que os jobs se completam"
   ]
  },
  {
   "cell_type": "code",
   "execution_count": 7,
   "metadata": {},
   "outputs": [],
   "source": [
    "def calcCmax(m,jobs):     # esta função calcula os tempos de conclusão dos jobs nas m máquinas\n",
    "    n=len(jobs)\n",
    "    c=[[0 for i in range(m)] for j in range(n)]\n",
    "    p=[job.p for job in jobs]\n",
    "    \n",
    "    # primeiro job\n",
    "    c[0][0]=p[0][0]     # primeira máquina\n",
    "    for k in range(1,m):     # próximas máquinas\n",
    "        c[0][k]=c[0][k-1]+p[0][k]\n",
    "        \n",
    "    # próximos jobs\n",
    "    for j in range(1,n):\n",
    "        c[j][0]=c[j-1][0]+p[j][0]     # primeira máquina\n",
    "        for k in range(1,m):     # próximas máquinas\n",
    "            c[j][k]=max(c[j][k-1],c[j-1][k])+p[j][k]\n",
    "            \n",
    "    j=0\n",
    "    for job in jobs:\n",
    "        job.C=c[j]\n",
    "        j+=1\n",
    "    \n",
    "    return c[-1][-1]"
   ]
  },
  {
   "cell_type": "markdown",
   "metadata": {},
   "source": []
  },
  {
   "cell_type": "markdown",
   "metadata": {},
   "source": [
    "### Função principal `schedLS`"
   ]
  },
  {
   "cell_type": "code",
   "execution_count": 68,
   "metadata": {},
   "outputs": [],
   "source": [
    "def schedLS(jobs, bestCmax, m):\n",
    "\n",
    "    melhoria = True\n",
    "    aux_jobs = jobs[:]\n",
    "    while melhoria:\n",
    "        melhoria = False\n",
    "        jotas = list(range(len(aux_jobs)))\n",
    "        # random.shuffle(jotas)\n",
    "\n",
    "        for j1 in jotas:\n",
    "            job1 = aux_jobs.pop(j1)\n",
    "            bestPos = j1\n",
    "\n",
    "            for j2 in range(len(aux_jobs)+1):\n",
    "                aux_jobs.insert(j2, job1)\n",
    "                Cmax = calcCmax(m, aux_jobs)\n",
    "\n",
    "                if Cmax < bestCmax:\n",
    "                    bestPos = j2\n",
    "                    melhoria = True\n",
    "                    bestCmax = Cmax\n",
    "                    # break\n",
    "                aux_jobs.pop(j2)\n",
    "            # if melhoria:\n",
    "            #     break\n",
    "            aux_jobs.insert(bestPos, job1)\n",
    "\n",
    "    \n",
    "    return aux_jobs,Cmax"
   ]
  },
  {
   "cell_type": "markdown",
   "metadata": {},
   "source": [
    "## Principal"
   ]
  },
  {
   "cell_type": "markdown",
   "metadata": {},
   "source": [
    "Caso base pra comprovar o funcionamento do algoritmo implementado"
   ]
  },
  {
   "cell_type": "code",
   "execution_count": 85,
   "metadata": {
    "tags": []
   },
   "outputs": [
    {
     "name": "stdout",
     "output_type": "stream",
     "text": [
      "[2, 4, 5, 3, 1]\n",
      "[[1, 3], [2, 5], [4, 6], [8, 6], [6, 3]]\n",
      "24\n"
     ]
    }
   ],
   "source": [
    "tab1 = [[6,3],[1,3],[8,6],[2,5],[4,6]]\n",
    "jobs=[]\n",
    "for i in range(len(tab1)):\n",
    "    pi=tab1[i]\n",
    "    jobs.append(Job(i,pi,0))\n",
    "\n",
    "jobs, Cmax = schedLS(jobs, 32, 2)\n",
    "\n",
    "print([job.i+1 for job in jobs])\n",
    "print([job.p for job in jobs])\n",
    "print(Cmax)"
   ]
  },
  {
   "cell_type": "markdown",
   "metadata": {},
   "source": []
  },
  {
   "cell_type": "markdown",
   "metadata": {},
   "source": [
    "Abre os dois arquivos que vão ser usados"
   ]
  },
  {
   "cell_type": "code",
   "execution_count": 86,
   "metadata": {
    "tags": []
   },
   "outputs": [],
   "source": [
    "wb1 = xw.Book(\"xl09 2 B PFSP Cmax NEH.xlsx\")\n",
    "wb2 = xw.Book()"
   ]
  },
  {
   "cell_type": "markdown",
   "metadata": {},
   "source": [
    "Teste 1:"
   ]
  },
  {
   "cell_type": "code",
   "execution_count": 88,
   "metadata": {
    "tags": []
   },
   "outputs": [
    {
     "name": "stdout",
     "output_type": "stream",
     "text": [
      "\n",
      "n = 20\n",
      "m = 5\n",
      "dados = [[20, 12, 80, 12, 49, 38, 12, 92, 104, 153, 191], [3, 54, 25, 93, 60, 2, 66, 117, 210, 270, 272], [14, 24, 94, 39, 23, 95, 90, 211, 250, 293, 388], [7, 64, 43, 48, 83, 39, 154, 254, 302, 385, 427], [6, 21, 69, 93, 22, 71, 175, 323, 416, 438, 509], [15, 49, 54, 8, 70, 97, 224, 377, 424, 508, 606], [16, 27, 61, 55, 87, 35, 251, 438, 493, 595, 641], [17, 98, 8, 90, 15, 55, 349, 446, 583, 610, 696], [19, 83, 87, 25, 94, 80, 432, 533, 608, 704, 784], [11, 84, 43, 96, 67, 81, 516, 576, 704, 771, 865], [18, 51, 93, 80, 86, 35, 567, 669, 784, 870, 905], [12, 75, 87, 45, 11, 44, 642, 756, 829, 881, 949], [2, 34, 33, 17, 67, 15, 676, 789, 846, 948, 964], [13, 73, 27, 32, 9, 79, 749, 816, 878, 957, 1043], [1, 58, 60, 88, 14, 46, 807, 876, 966, 980, 1089], [4, 19, 84, 25, 47, 8, 826, 960, 991, 1038, 1097], [8, 37, 43, 18, 46, 13, 863, 1003, 1021, 1084, 1110], [10, 82, 14, 98, 27, 14, 945, 1017, 1119, 1146, 1160], [5, 24, 45, 25, 16, 11, 969, 1062, 1144, 1162, 1173], [9, 26, 57, 34, 5, 18, 995, 1119, 1178, 1183, 1201]]\n",
      "\n",
      "# p C\n",
      "19 [12, 80, 12, 49, 38] [12, 92, 104, 153, 191]\n",
      "2 [54, 25, 93, 60, 2] [66, 117, 210, 270, 272]\n",
      "13 [24, 94, 39, 23, 95] [90, 211, 250, 293, 388]\n",
      "6 [64, 43, 48, 83, 39] [154, 254, 302, 385, 427]\n",
      "5 [21, 69, 93, 22, 71] [175, 323, 416, 438, 509]\n",
      "14 [49, 54, 8, 70, 97] [224, 377, 424, 508, 606]\n",
      "15 [27, 61, 55, 87, 35] [251, 438, 493, 595, 641]\n",
      "16 [98, 8, 90, 15, 55] [349, 446, 583, 610, 696]\n",
      "18 [83, 87, 25, 94, 80] [432, 533, 608, 704, 784]\n",
      "10 [84, 43, 96, 67, 81] [516, 576, 704, 771, 865]\n",
      "17 [51, 93, 80, 86, 35] [567, 669, 784, 870, 905]\n",
      "1 [34, 33, 17, 67, 15] [601, 702, 801, 937, 952]\n",
      "12 [73, 27, 32, 9, 79] [674, 729, 833, 946, 1031]\n",
      "0 [58, 60, 88, 14, 46] [732, 792, 921, 960, 1077]\n",
      "3 [19, 84, 25, 47, 8] [751, 876, 946, 1007, 1085]\n",
      "7 [37, 43, 18, 46, 13] [788, 919, 964, 1053, 1098]\n",
      "9 [82, 14, 98, 27, 14] [870, 933, 1062, 1089, 1112]\n",
      "11 [75, 87, 45, 11, 44] [945, 1032, 1107, 1118, 1162]\n",
      "4 [24, 45, 25, 16, 11] [969, 1077, 1132, 1148, 1173]\n",
      "8 [26, 57, 34, 5, 18] [995, 1134, 1168, 1173, 1191]\n",
      "Cmax: 1191\n"
     ]
    }
   ],
   "source": [
    "m,n,jobs,Cmax=leInst(0)\n",
    "\n",
    "jobs, Cmax = schedLS(jobs, Cmax, 5)\n",
    "\n",
    "gravaSched(0, jobs, Cmax)"
   ]
  },
  {
   "cell_type": "markdown",
   "metadata": {},
   "source": []
  },
  {
   "cell_type": "markdown",
   "metadata": {},
   "source": [
    "Teste 2:"
   ]
  },
  {
   "cell_type": "code",
   "execution_count": 90,
   "metadata": {
    "tags": []
   },
   "outputs": [
    {
     "name": "stdout",
     "output_type": "stream",
     "text": [
      "\n",
      "n = 20\n",
      "m = 5\n",
      "dados = [[4, 23, 50, 2, 24, 34, 23, 73, 75, 99, 133], [7, 31, 13, 17, 55, 71, 54, 86, 103, 158, 229], [16, 24, 17, 37, 79, 44, 78, 103, 140, 237, 281], [3, 26, 87, 24, 1, 13, 104, 191, 215, 238, 294], [14, 77, 34, 5, 73, 91, 181, 225, 230, 311, 402], [10, 44, 78, 3, 94, 66, 225, 303, 306, 405, 471], [15, 33, 29, 8, 67, 36, 258, 332, 340, 472, 508], [2, 68, 46, 39, 53, 90, 326, 378, 417, 525, 615], [13, 32, 41, 76, 86, 86, 358, 419, 495, 611, 701], [9, 19, 80, 86, 46, 54, 377, 499, 585, 657, 755], [18, 49, 42, 13, 51, 67, 426, 541, 598, 708, 822], [1, 96, 12, 54, 58, 95, 522, 553, 652, 766, 917], [8, 63, 76, 77, 70, 95, 585, 661, 738, 836, 1012], [12, 49, 78, 63, 52, 28, 634, 739, 802, 888, 1040], [20, 98, 67, 13, 55, 57, 732, 806, 819, 943, 1097], [19, 84, 90, 27, 85, 86, 816, 906, 933, 1028, 1183], [5, 66, 63, 16, 90, 9, 882, 969, 985, 1118, 1192], [17, 85, 92, 21, 54, 7, 967, 1061, 1082, 1172, 1199], [6, 83, 38, 41, 21, 34, 1050, 1099, 1140, 1193, 1233], [11, 89, 58, 17, 27, 28, 1139, 1197, 1214, 1241, 1269]]\n",
      "\n",
      "# p C\n",
      "3 [23, 50, 2, 24, 34] [23, 73, 75, 99, 133]\n",
      "6 [31, 13, 17, 55, 71] [54, 86, 103, 158, 229]\n",
      "15 [24, 17, 37, 79, 44] [78, 103, 140, 237, 281]\n",
      "2 [26, 87, 24, 1, 13] [104, 191, 215, 238, 294]\n",
      "13 [77, 34, 5, 73, 91] [181, 225, 230, 311, 402]\n",
      "9 [44, 78, 3, 94, 66] [225, 303, 306, 405, 471]\n",
      "14 [33, 29, 8, 67, 36] [258, 332, 340, 472, 508]\n",
      "1 [68, 46, 39, 53, 90] [326, 378, 417, 525, 615]\n",
      "12 [32, 41, 76, 86, 86] [358, 419, 495, 611, 701]\n",
      "8 [19, 80, 86, 46, 54] [377, 499, 585, 657, 755]\n",
      "17 [49, 42, 13, 51, 67] [426, 541, 598, 708, 822]\n",
      "0 [96, 12, 54, 58, 95] [522, 553, 652, 766, 917]\n",
      "7 [63, 76, 77, 70, 95] [585, 661, 738, 836, 1012]\n",
      "11 [49, 78, 63, 52, 28] [634, 739, 802, 888, 1040]\n",
      "19 [98, 67, 13, 55, 57] [732, 806, 819, 943, 1097]\n",
      "18 [84, 90, 27, 85, 86] [816, 906, 933, 1028, 1183]\n",
      "4 [66, 63, 16, 90, 9] [882, 969, 985, 1118, 1192]\n",
      "16 [85, 92, 21, 54, 7] [967, 1061, 1082, 1172, 1199]\n",
      "5 [83, 38, 41, 21, 34] [1050, 1099, 1140, 1193, 1233]\n",
      "10 [89, 58, 17, 27, 28] [1139, 1197, 1214, 1241, 1269]\n",
      "Cmax: 1269\n"
     ]
    }
   ],
   "source": [
    "m,n,jobs,Cmax=leInst(1)\n",
    "\n",
    "jobs, Cmax = schedLS(jobs, Cmax, 5)\n",
    "\n",
    "gravaSched(1, jobs, Cmax)"
   ]
  },
  {
   "cell_type": "markdown",
   "metadata": {},
   "source": []
  },
  {
   "cell_type": "markdown",
   "metadata": {},
   "source": [
    "Teste 3:"
   ]
  },
  {
   "cell_type": "code",
   "execution_count": 91,
   "metadata": {
    "tags": []
   },
   "outputs": [
    {
     "name": "stdout",
     "output_type": "stream",
     "text": [
      "\n",
      "n = 20\n",
      "m = 5\n",
      "dados = [[20, 15, 15, 24, 85, 83, 15, 30, 54, 139, 222], [7, 7, 12, 58, 89, 86, 22, 42, 112, 228, 314], [10, 30, 24, 7, 70, 18, 52, 76, 119, 298, 332], [1, 40, 11, 79, 15, 64, 92, 103, 198, 313, 396], [13, 32, 10, 99, 78, 85, 124, 134, 297, 391, 481], [12, 28, 42, 80, 74, 8, 152, 194, 377, 465, 489], [9, 93, 28, 34, 9, 95, 245, 273, 411, 474, 584], [15, 48, 49, 53, 35, 23, 293, 342, 464, 509, 607], [11, 37, 46, 4, 89, 68, 330, 388, 468, 598, 675], [19, 10, 8, 48, 61, 13, 340, 396, 516, 659, 688], [3, 33, 25, 68, 7, 17, 373, 421, 584, 666, 705], [16, 83, 51, 11, 26, 95, 456, 507, 595, 692, 800], [5, 44, 70, 75, 59, 38, 500, 577, 670, 751, 838], [18, 87, 41, 64, 10, 91, 587, 628, 734, 761, 929], [4, 50, 80, 44, 86, 63, 637, 717, 778, 864, 992], [2, 99, 23, 86, 56, 47, 736, 759, 864, 920, 1039], [14, 12, 15, 81, 3, 3, 748, 774, 945, 948, 1042], [17, 91, 79, 25, 47, 17, 839, 918, 970, 1017, 1059], [6, 92, 20, 40, 24, 80, 931, 951, 1010, 1041, 1139], [8, 17, 22, 35, 24, 8, 948, 973, 1045, 1069, 1147]]\n",
      "\n",
      "# p C\n",
      "19 [15, 15, 24, 85, 83] [15, 30, 54, 139, 222]\n",
      "6 [7, 12, 58, 89, 86] [22, 42, 112, 228, 314]\n",
      "9 [30, 24, 7, 70, 18] [52, 76, 119, 298, 332]\n",
      "0 [40, 11, 79, 15, 64] [92, 103, 198, 313, 396]\n",
      "12 [32, 10, 99, 78, 85] [124, 134, 297, 391, 481]\n",
      "11 [28, 42, 80, 74, 8] [152, 194, 377, 465, 489]\n",
      "8 [93, 28, 34, 9, 95] [245, 273, 411, 474, 584]\n",
      "14 [48, 49, 53, 35, 23] [293, 342, 464, 509, 607]\n",
      "10 [37, 46, 4, 89, 68] [330, 388, 468, 598, 675]\n",
      "18 [10, 8, 48, 61, 13] [340, 396, 516, 659, 688]\n",
      "2 [33, 25, 68, 7, 17] [373, 421, 584, 666, 705]\n",
      "15 [83, 51, 11, 26, 95] [456, 507, 595, 692, 800]\n",
      "4 [44, 70, 75, 59, 38] [500, 577, 670, 751, 838]\n",
      "17 [87, 41, 64, 10, 91] [587, 628, 734, 761, 929]\n",
      "3 [50, 80, 44, 86, 63] [637, 717, 778, 864, 992]\n",
      "1 [99, 23, 86, 56, 47] [736, 759, 864, 920, 1039]\n",
      "13 [12, 15, 81, 3, 3] [748, 774, 945, 948, 1042]\n",
      "16 [91, 79, 25, 47, 17] [839, 918, 970, 1017, 1059]\n",
      "5 [92, 20, 40, 24, 80] [931, 951, 1010, 1041, 1139]\n",
      "7 [17, 22, 35, 24, 8] [948, 973, 1045, 1069, 1147]\n",
      "Cmax: 1147\n"
     ]
    }
   ],
   "source": [
    "m,n,jobs,Cmax=leInst(2)\n",
    "\n",
    "jobs, Cmax = schedLS(jobs, Cmax, 5)\n",
    "\n",
    "gravaSched(2, jobs, Cmax)"
   ]
  },
  {
   "cell_type": "markdown",
   "metadata": {},
   "source": []
  },
  {
   "cell_type": "markdown",
   "metadata": {},
   "source": [
    "Teste 4:"
   ]
  },
  {
   "cell_type": "code",
   "execution_count": 92,
   "metadata": {
    "tags": []
   },
   "outputs": [
    {
     "name": "stdout",
     "output_type": "stream",
     "text": [
      "\n",
      "n = 20\n",
      "m = 5\n",
      "dados = [[4, 12, 27, 59, 6, 93, 12, 39, 98, 104, 197], [18, 31, 40, 53, 7, 58, 43, 83, 151, 158, 255], [12, 21, 56, 23, 48, 25, 64, 139, 174, 222, 280], [6, 61, 27, 18, 12, 56, 125, 166, 192, 234, 336], [16, 37, 1, 50, 87, 83, 162, 167, 242, 329, 419], [9, 9, 19, 43, 77, 8, 171, 190, 285, 406, 427], [3, 7, 13, 88, 6, 48, 178, 203, 373, 412, 475], [5, 63, 4, 42, 57, 24, 241, 245, 415, 472, 499], [19, 53, 76, 21, 5, 81, 294, 370, 436, 477, 580], [20, 94, 5, 28, 39, 46, 388, 393, 464, 516, 626], [13, 7, 58, 28, 92, 93, 395, 453, 492, 608, 719], [17, 50, 6, 95, 62, 20, 445, 459, 587, 670, 739], [1, 46, 64, 7, 43, 98, 491, 555, 594, 713, 837], [14, 64, 90, 9, 74, 20, 555, 645, 654, 787, 857], [2, 55, 36, 70, 49, 97, 610, 681, 751, 836, 954], [15, 17, 34, 5, 37, 12, 627, 715, 756, 873, 966], [10, 73, 54, 33, 92, 67, 700, 769, 802, 965, 1033], [11, 98, 90, 74, 24, 94, 798, 888, 962, 989, 1127], [8, 6, 2, 20, 91, 18, 804, 890, 982, 1080, 1145], [7, 80, 85, 10, 8, 2, 884, 975, 992, 1088, 1147]]\n",
      "\n",
      "# p C\n",
      "3 [12, 27, 59, 6, 93] [12, 39, 98, 104, 197]\n",
      "17 [31, 40, 53, 7, 58] [43, 83, 151, 158, 255]\n",
      "11 [21, 56, 23, 48, 25] [64, 139, 174, 222, 280]\n",
      "5 [61, 27, 18, 12, 56] [125, 166, 192, 234, 336]\n",
      "15 [37, 1, 50, 87, 83] [162, 167, 242, 329, 419]\n",
      "8 [9, 19, 43, 77, 8] [171, 190, 285, 406, 427]\n",
      "2 [7, 13, 88, 6, 48] [178, 203, 373, 412, 475]\n",
      "4 [63, 4, 42, 57, 24] [241, 245, 415, 472, 499]\n",
      "18 [53, 76, 21, 5, 81] [294, 370, 436, 477, 580]\n",
      "19 [94, 5, 28, 39, 46] [388, 393, 464, 516, 626]\n",
      "12 [7, 58, 28, 92, 93] [395, 453, 492, 608, 719]\n",
      "16 [50, 6, 95, 62, 20] [445, 459, 587, 670, 739]\n",
      "0 [46, 64, 7, 43, 98] [491, 555, 594, 713, 837]\n",
      "13 [64, 90, 9, 74, 20] [555, 645, 654, 787, 857]\n",
      "1 [55, 36, 70, 49, 97] [610, 681, 751, 836, 954]\n",
      "14 [17, 34, 5, 37, 12] [627, 715, 756, 873, 966]\n",
      "9 [73, 54, 33, 92, 67] [700, 769, 802, 965, 1033]\n",
      "10 [98, 90, 74, 24, 94] [798, 888, 962, 989, 1127]\n",
      "7 [6, 2, 20, 91, 18] [804, 890, 982, 1080, 1145]\n",
      "6 [80, 85, 10, 8, 2] [884, 975, 992, 1088, 1147]\n",
      "Cmax: 1147\n"
     ]
    }
   ],
   "source": [
    "m,n,jobs,Cmax=leInst(3)\n",
    "\n",
    "jobs, Cmax = schedLS(jobs, Cmax, 5)\n",
    "\n",
    "gravaSched(3, jobs, Cmax)"
   ]
  },
  {
   "cell_type": "markdown",
   "metadata": {},
   "source": []
  },
  {
   "cell_type": "markdown",
   "metadata": {},
   "source": [
    "Teste 5:"
   ]
  },
  {
   "cell_type": "code",
   "execution_count": 93,
   "metadata": {
    "tags": []
   },
   "outputs": [
    {
     "name": "stdout",
     "output_type": "stream",
     "text": [
      "\n",
      "n = 20\n",
      "m = 5\n",
      "dados = [[16, 8, 21, 4, 38, 35, 8, 29, 33, 71, 106], [10, 6, 24, 25, 76, 65, 14, 53, 78, 154, 219], [4, 13, 15, 46, 59, 52, 27, 68, 124, 213, 271], [5, 50, 48, 7, 16, 47, 77, 125, 132, 229, 318], [1, 46, 28, 44, 49, 38, 123, 153, 197, 278, 356], [7, 27, 91, 10, 95, 11, 150, 244, 254, 373, 384], [15, 30, 43, 1, 5, 8, 180, 287, 288, 378, 392], [20, 44, 30, 61, 99, 17, 224, 317, 378, 477, 494], [14, 32, 52, 67, 71, 29, 256, 369, 445, 548, 577], [6, 82, 7, 45, 53, 74, 338, 376, 490, 601, 675], [8, 54, 21, 60, 95, 59, 392, 413, 550, 696, 755], [18, 54, 75, 74, 61, 78, 446, 521, 624, 757, 835], [12, 66, 79, 16, 80, 91, 512, 600, 640, 837, 928], [19, 92, 83, 82, 59, 83, 604, 687, 769, 896, 1011], [11, 84, 75, 82, 84, 39, 688, 763, 851, 980, 1050], [3, 98, 93, 55, 47, 55, 786, 879, 934, 1027, 1105], [2, 94, 15, 6, 95, 79, 880, 895, 940, 1122, 1201], [9, 86, 67, 62, 85, 20, 966, 1033, 1095, 1207, 1227], [13, 75, 64, 46, 23, 19, 1041, 1105, 1151, 1230, 1249], [17, 21, 57, 80, 8, 2, 1062, 1162, 1242, 1250, 1252]]\n",
      "\n",
      "# p C\n",
      "15 [8, 21, 4, 38, 35] [8, 29, 33, 71, 106]\n",
      "9 [6, 24, 25, 76, 65] [14, 53, 78, 154, 219]\n",
      "3 [13, 15, 46, 59, 52] [27, 68, 124, 213, 271]\n",
      "4 [50, 48, 7, 16, 47] [77, 125, 132, 229, 318]\n",
      "0 [46, 28, 44, 49, 38] [123, 153, 197, 278, 356]\n",
      "6 [27, 91, 10, 95, 11] [150, 244, 254, 373, 384]\n",
      "14 [30, 43, 1, 5, 8] [180, 287, 288, 378, 392]\n",
      "19 [44, 30, 61, 99, 17] [224, 317, 378, 477, 494]\n",
      "13 [32, 52, 67, 71, 29] [256, 369, 445, 548, 577]\n",
      "5 [82, 7, 45, 53, 74] [338, 376, 490, 601, 675]\n",
      "7 [54, 21, 60, 95, 59] [392, 413, 550, 696, 755]\n",
      "17 [54, 75, 74, 61, 78] [446, 521, 624, 757, 835]\n",
      "11 [66, 79, 16, 80, 91] [512, 600, 640, 837, 928]\n",
      "18 [92, 83, 82, 59, 83] [604, 687, 769, 896, 1011]\n",
      "10 [84, 75, 82, 84, 39] [688, 763, 851, 980, 1050]\n",
      "2 [98, 93, 55, 47, 55] [786, 879, 934, 1027, 1105]\n",
      "1 [94, 15, 6, 95, 79] [880, 895, 940, 1122, 1201]\n",
      "8 [86, 67, 62, 85, 20] [966, 1033, 1095, 1207, 1227]\n",
      "12 [75, 64, 46, 23, 19] [1041, 1105, 1151, 1230, 1249]\n",
      "16 [21, 57, 80, 8, 2] [1062, 1162, 1242, 1250, 1252]\n",
      "Cmax: 1252\n"
     ]
    }
   ],
   "source": [
    "m,n,jobs,Cmax=leInst(4)\n",
    "\n",
    "jobs, Cmax = schedLS(jobs, Cmax, 5)\n",
    "\n",
    "gravaSched(4, jobs, Cmax)"
   ]
  },
  {
   "cell_type": "markdown",
   "metadata": {},
   "source": []
  },
  {
   "cell_type": "markdown",
   "metadata": {},
   "source": [
    "Teste 6:"
   ]
  },
  {
   "cell_type": "code",
   "execution_count": 94,
   "metadata": {
    "tags": []
   },
   "outputs": [
    {
     "name": "stdout",
     "output_type": "stream",
     "text": [
      "\n",
      "n = 20\n",
      "m = 5\n",
      "dados = [[4, 9, 38, 3, 25, 33, 9, 47, 50, 75, 108], [14, 40, 27, 13, 17, 71, 49, 76, 89, 106, 179], [3, 64, 2, 2, 63, 51, 113, 115, 117, 180, 231], [13, 3, 26, 73, 45, 58, 116, 142, 215, 260, 318], [8, 33, 71, 30, 23, 17, 149, 220, 250, 283, 335], [17, 30, 20, 88, 34, 26, 179, 240, 338, 372, 398], [16, 36, 65, 95, 12, 30, 215, 305, 433, 445, 475], [11, 69, 10, 60, 42, 59, 284, 315, 493, 535, 594], [2, 47, 91, 70, 45, 23, 331, 422, 563, 608, 631], [1, 77, 6, 35, 78, 68, 408, 428, 598, 686, 754], [20, 33, 81, 69, 7, 46, 441, 522, 667, 693, 800], [10, 74, 22, 52, 97, 41, 515, 544, 719, 816, 857], [9, 63, 94, 70, 47, 93, 578, 672, 789, 863, 956], [19, 98, 39, 39, 49, 77, 676, 715, 828, 912, 1033], [15, 72, 79, 36, 99, 33, 748, 827, 864, 1011, 1066], [5, 30, 3, 95, 9, 53, 778, 830, 959, 1020, 1119], [7, 83, 25, 67, 70, 13, 861, 886, 1026, 1096, 1132], [18, 85, 97, 34, 18, 24, 946, 1043, 1077, 1114, 1156], [6, 85, 22, 83, 1, 10, 1031, 1065, 1160, 1161, 1171], [12, 63, 32, 11, 20, 4, 1094, 1126, 1171, 1191, 1195]]\n",
      "\n",
      "# p C\n",
      "13 [40, 27, 13, 17, 71] [40, 67, 80, 97, 168]\n",
      "12 [3, 26, 73, 45, 58] [43, 93, 166, 211, 269]\n",
      "7 [33, 71, 30, 23, 17] [76, 164, 196, 234, 286]\n",
      "2 [64, 2, 2, 63, 51] [140, 166, 198, 297, 348]\n",
      "16 [30, 20, 88, 34, 26] [170, 190, 286, 331, 374]\n",
      "15 [36, 65, 95, 12, 30] [206, 271, 381, 393, 423]\n",
      "3 [9, 38, 3, 25, 33] [215, 309, 384, 418, 456]\n",
      "1 [47, 91, 70, 45, 23] [262, 400, 470, 515, 538]\n",
      "0 [77, 6, 35, 78, 68] [339, 406, 505, 593, 661]\n",
      "19 [33, 81, 69, 7, 46] [372, 487, 574, 600, 707]\n",
      "9 [74, 22, 52, 97, 41] [446, 509, 626, 723, 764]\n",
      "8 [63, 94, 70, 47, 93] [509, 603, 696, 770, 863]\n",
      "18 [98, 39, 39, 49, 77] [607, 646, 735, 819, 940]\n",
      "14 [72, 79, 36, 99, 33] [679, 758, 794, 918, 973]\n",
      "4 [30, 3, 95, 9, 53] [709, 761, 889, 927, 1026]\n",
      "17 [85, 97, 34, 18, 24] [794, 891, 925, 945, 1050]\n",
      "10 [69, 10, 60, 42, 59] [863, 901, 985, 1027, 1109]\n",
      "6 [83, 25, 67, 70, 13] [946, 971, 1052, 1122, 1135]\n",
      "5 [85, 22, 83, 1, 10] [1031, 1053, 1136, 1137, 1147]\n",
      "11 [63, 32, 11, 20, 4] [1094, 1126, 1147, 1167, 1171]\n",
      "Cmax: 1171\n"
     ]
    }
   ],
   "source": [
    "m,n,jobs,Cmax=leInst(5)\n",
    "\n",
    "jobs, Cmax = schedLS(jobs, Cmax, 5)\n",
    "\n",
    "gravaSched(5, jobs, Cmax)"
   ]
  },
  {
   "cell_type": "markdown",
   "metadata": {},
   "source": []
  },
  {
   "cell_type": "markdown",
   "metadata": {},
   "source": [
    "Teste 7:"
   ]
  },
  {
   "cell_type": "code",
   "execution_count": 95,
   "metadata": {
    "tags": []
   },
   "outputs": [
    {
     "name": "stdout",
     "output_type": "stream",
     "text": [
      "\n",
      "n = 20\n",
      "m = 5\n",
      "dados = [[2, 42, 5, 64, 27, 26, 42, 47, 111, 138, 164], [13, 17, 25, 32, 86, 76, 59, 84, 143, 229, 305], [10, 45, 4, 95, 31, 35, 104, 108, 238, 269, 340], [12, 21, 65, 39, 61, 57, 125, 190, 277, 338, 397], [6, 4, 22, 77, 5, 12, 129, 212, 354, 359, 409], [11, 34, 45, 18, 68, 59, 163, 257, 372, 440, 499], [14, 58, 96, 15, 60, 36, 221, 353, 387, 500, 536], [17, 66, 29, 91, 46, 93, 287, 382, 478, 546, 639], [9, 96, 64, 54, 30, 98, 383, 447, 532, 576, 737], [5, 77, 47, 91, 96, 90, 460, 507, 623, 719, 827], [8, 71, 83, 69, 51, 84, 531, 614, 692, 770, 911], [20, 84, 63, 71, 25, 57, 615, 678, 763, 795, 968], [16, 71, 83, 84, 63, 59, 686, 769, 853, 916, 1027], [1, 93, 82, 81, 41, 81, 779, 861, 942, 983, 1108], [18, 95, 73, 64, 50, 14, 874, 947, 1011, 1061, 1122], [7, 81, 61, 46, 19, 33, 955, 1016, 1062, 1081, 1155], [15, 46, 86, 1, 1, 44, 1001, 1102, 1103, 1104, 1199], [4, 74, 42, 4, 7, 47, 1075, 1144, 1148, 1155, 1246], [3, 77, 16, 47, 11, 16, 1152, 1168, 1215, 1226, 1262], [19, 68, 30, 22, 11, 7, 1220, 1250, 1272, 1283, 1290]]\n",
      "\n",
      "# p C\n",
      "1 [42, 5, 64, 27, 26] [42, 47, 111, 138, 164]\n",
      "12 [17, 25, 32, 86, 76] [59, 84, 143, 229, 305]\n",
      "9 [45, 4, 95, 31, 35] [104, 108, 238, 269, 340]\n",
      "11 [21, 65, 39, 61, 57] [125, 190, 277, 338, 397]\n",
      "5 [4, 22, 77, 5, 12] [129, 212, 354, 359, 409]\n",
      "10 [34, 45, 18, 68, 59] [163, 257, 372, 440, 499]\n",
      "13 [58, 96, 15, 60, 36] [221, 353, 387, 500, 536]\n",
      "16 [66, 29, 91, 46, 93] [287, 382, 478, 546, 639]\n",
      "8 [96, 64, 54, 30, 98] [383, 447, 532, 576, 737]\n",
      "4 [77, 47, 91, 96, 90] [460, 507, 623, 719, 827]\n",
      "7 [71, 83, 69, 51, 84] [531, 614, 692, 770, 911]\n",
      "19 [84, 63, 71, 25, 57] [615, 678, 763, 795, 968]\n",
      "15 [71, 83, 84, 63, 59] [686, 769, 853, 916, 1027]\n",
      "0 [93, 82, 81, 41, 81] [779, 861, 942, 983, 1108]\n",
      "17 [95, 73, 64, 50, 14] [874, 947, 1011, 1061, 1122]\n",
      "6 [81, 61, 46, 19, 33] [955, 1016, 1062, 1081, 1155]\n",
      "14 [46, 86, 1, 1, 44] [1001, 1102, 1103, 1104, 1199]\n",
      "3 [74, 42, 4, 7, 47] [1075, 1144, 1148, 1155, 1246]\n",
      "2 [77, 16, 47, 11, 16] [1152, 1168, 1215, 1226, 1262]\n",
      "18 [68, 30, 22, 11, 7] [1220, 1250, 1272, 1283, 1290]\n",
      "Cmax: 1290\n"
     ]
    }
   ],
   "source": [
    "m,n,jobs,Cmax=leInst(6)\n",
    "\n",
    "jobs, Cmax = schedLS(jobs, Cmax, 5)\n",
    "\n",
    "gravaSched(6, jobs, Cmax)"
   ]
  },
  {
   "cell_type": "markdown",
   "metadata": {},
   "source": []
  },
  {
   "cell_type": "markdown",
   "metadata": {},
   "source": [
    "Teste 8:"
   ]
  },
  {
   "cell_type": "code",
   "execution_count": 96,
   "metadata": {
    "tags": []
   },
   "outputs": [
    {
     "name": "stdout",
     "output_type": "stream",
     "text": [
      "\n",
      "n = 20\n",
      "m = 5\n",
      "dados = [[1, 21, 15, 23, 42, 83, 21, 36, 59, 101, 184], [11, 8, 2, 4, 10, 4, 29, 38, 63, 111, 188], [7, 14, 1, 53, 27, 9, 43, 44, 116, 143, 197], [14, 56, 10, 25, 28, 96, 99, 109, 141, 171, 293], [9, 12, 71, 22, 78, 31, 111, 182, 204, 282, 324], [18, 51, 22, 36, 9, 37, 162, 204, 240, 291, 361], [19, 51, 51, 9, 19, 98, 213, 264, 273, 310, 459], [10, 23, 12, 51, 96, 98, 236, 276, 327, 423, 557], [2, 35, 22, 14, 89, 15, 271, 298, 341, 512, 572], [17, 12, 46, 86, 14, 31, 283, 344, 430, 526, 603], [4, 20, 99, 30, 60, 54, 303, 443, 473, 586, 657], [8, 66, 8, 3, 49, 31, 369, 451, 476, 635, 688], [16, 32, 1, 94, 43, 17, 401, 452, 570, 678, 705], [12, 70, 39, 67, 18, 23, 471, 510, 637, 696, 728], [3, 51, 79, 7, 8, 99, 522, 601, 644, 704, 827], [20, 51, 34, 2, 75, 99, 573, 635, 646, 779, 926], [6, 40, 50, 93, 98, 67, 613, 685, 778, 877, 993], [13, 64, 92, 74, 61, 76, 677, 777, 852, 938, 1069], [5, 75, 50, 38, 75, 73, 752, 827, 890, 1013, 1142], [15, 79, 92, 89, 98, 47, 831, 923, 1012, 1111, 1189]]\n",
      "\n",
      "# p C\n",
      "0 [21, 15, 23, 42, 83] [21, 36, 59, 101, 184]\n",
      "10 [8, 2, 4, 10, 4] [29, 38, 63, 111, 188]\n",
      "6 [14, 1, 53, 27, 9] [43, 44, 116, 143, 197]\n",
      "13 [56, 10, 25, 28, 96] [99, 109, 141, 171, 293]\n",
      "8 [12, 71, 22, 78, 31] [111, 182, 204, 282, 324]\n",
      "17 [51, 22, 36, 9, 37] [162, 204, 240, 291, 361]\n",
      "18 [51, 51, 9, 19, 98] [213, 264, 273, 310, 459]\n",
      "9 [23, 12, 51, 96, 98] [236, 276, 327, 423, 557]\n",
      "1 [35, 22, 14, 89, 15] [271, 298, 341, 512, 572]\n",
      "16 [12, 46, 86, 14, 31] [283, 344, 430, 526, 603]\n",
      "3 [20, 99, 30, 60, 54] [303, 443, 473, 586, 657]\n",
      "7 [66, 8, 3, 49, 31] [369, 451, 476, 635, 688]\n",
      "15 [32, 1, 94, 43, 17] [401, 452, 570, 678, 705]\n",
      "11 [70, 39, 67, 18, 23] [471, 510, 637, 696, 728]\n",
      "2 [51, 79, 7, 8, 99] [522, 601, 644, 704, 827]\n",
      "19 [51, 34, 2, 75, 99] [573, 635, 646, 779, 926]\n",
      "5 [40, 50, 93, 98, 67] [613, 685, 778, 877, 993]\n",
      "12 [64, 92, 74, 61, 76] [677, 777, 852, 938, 1069]\n",
      "4 [75, 50, 38, 75, 73] [752, 827, 890, 1013, 1142]\n",
      "14 [79, 92, 89, 98, 47] [831, 923, 1012, 1111, 1189]\n",
      "Cmax: 1189\n"
     ]
    }
   ],
   "source": [
    "m,n,jobs,Cmax=leInst(7)\n",
    "\n",
    "jobs, Cmax = schedLS(jobs, Cmax, 5)\n",
    "\n",
    "gravaSched(7, jobs, Cmax)"
   ]
  },
  {
   "cell_type": "markdown",
   "metadata": {},
   "source": []
  },
  {
   "cell_type": "markdown",
   "metadata": {},
   "source": [
    "Teste 9:"
   ]
  },
  {
   "cell_type": "code",
   "execution_count": 97,
   "metadata": {
    "tags": []
   },
   "outputs": [
    {
     "name": "stdout",
     "output_type": "stream",
     "text": [
      "\n",
      "n = 20\n",
      "m = 5\n",
      "dados = [[6, 4, 24, 7, 79, 41, 4, 28, 35, 114, 155], [13, 18, 9, 17, 41, 38, 22, 37, 54, 155, 193], [17, 45, 22, 14, 94, 16, 67, 89, 103, 249, 265], [3, 26, 4, 65, 62, 59, 93, 97, 168, 311, 370], [11, 44, 62, 63, 80, 64, 137, 199, 262, 391, 455], [8, 52, 71, 71, 88, 87, 189, 270, 341, 479, 566], [10, 43, 17, 12, 77, 16, 232, 287, 353, 556, 582], [15, 16, 84, 21, 53, 88, 248, 371, 392, 609, 697], [18, 80, 5, 89, 28, 69, 328, 376, 481, 637, 766], [2, 69, 99, 84, 96, 95, 397, 496, 580, 733, 861], [20, 71, 71, 57, 35, 44, 468, 567, 637, 768, 905], [14, 91, 92, 13, 74, 80, 559, 659, 672, 842, 985], [12, 96, 49, 77, 71, 89, 655, 708, 785, 913, 1074], [1, 66, 73, 83, 96, 24, 721, 794, 877, 1009, 1098], [5, 55, 20, 45, 74, 31, 776, 814, 922, 1083, 1129], [16, 32, 93, 65, 30, 25, 808, 907, 987, 1113, 1154], [7, 57, 71, 59, 4, 46, 865, 978, 1046, 1117, 1200], [9, 94, 55, 18, 70, 25, 959, 1033, 1064, 1187, 1225], [4, 92, 14, 5, 40, 5, 1051, 1065, 1070, 1227, 1232], [19, 30, 26, 73, 45, 1, 1081, 1107, 1180, 1272, 1273]]\n",
      "\n",
      "# p C\n",
      "5 [4, 24, 7, 79, 41] [4, 28, 35, 114, 155]\n",
      "12 [18, 9, 17, 41, 38] [22, 37, 54, 155, 193]\n",
      "16 [45, 22, 14, 94, 16] [67, 89, 103, 249, 265]\n",
      "2 [26, 4, 65, 62, 59] [93, 97, 168, 311, 370]\n",
      "10 [44, 62, 63, 80, 64] [137, 199, 262, 391, 455]\n",
      "7 [52, 71, 71, 88, 87] [189, 270, 341, 479, 566]\n",
      "9 [43, 17, 12, 77, 16] [232, 287, 353, 556, 582]\n",
      "14 [16, 84, 21, 53, 88] [248, 371, 392, 609, 697]\n",
      "17 [80, 5, 89, 28, 69] [328, 376, 481, 637, 766]\n",
      "1 [69, 99, 84, 96, 95] [397, 496, 580, 733, 861]\n",
      "19 [71, 71, 57, 35, 44] [468, 567, 637, 768, 905]\n",
      "13 [91, 92, 13, 74, 80] [559, 659, 672, 842, 985]\n",
      "11 [96, 49, 77, 71, 89] [655, 708, 785, 913, 1074]\n",
      "0 [66, 73, 83, 96, 24] [721, 794, 877, 1009, 1098]\n",
      "4 [55, 20, 45, 74, 31] [776, 814, 922, 1083, 1129]\n",
      "15 [32, 93, 65, 30, 25] [808, 907, 987, 1113, 1154]\n",
      "6 [57, 71, 59, 4, 46] [865, 978, 1046, 1117, 1200]\n",
      "8 [94, 55, 18, 70, 25] [959, 1033, 1064, 1187, 1225]\n",
      "3 [92, 14, 5, 40, 5] [1051, 1065, 1070, 1227, 1232]\n",
      "18 [30, 26, 73, 45, 1] [1081, 1107, 1180, 1272, 1273]\n",
      "Cmax: 1273\n"
     ]
    }
   ],
   "source": [
    "m,n,jobs,Cmax=leInst(8)\n",
    "\n",
    "jobs, Cmax = schedLS(jobs, Cmax, 5)\n",
    "\n",
    "gravaSched(8, jobs, Cmax)"
   ]
  },
  {
   "cell_type": "markdown",
   "metadata": {},
   "source": []
  },
  {
   "cell_type": "markdown",
   "metadata": {},
   "source": [
    "Teste 10:"
   ]
  },
  {
   "cell_type": "code",
   "execution_count": 98,
   "metadata": {
    "tags": []
   },
   "outputs": [
    {
     "name": "stdout",
     "output_type": "stream",
     "text": [
      "\n",
      "n = 20\n",
      "m = 5\n",
      "dados = [[18, 11, 92, 34, 3, 10, 11, 103, 137, 140, 150], [2, 15, 26, 3, 1, 56, 26, 129, 140, 141, 206], [17, 41, 17, 2, 46, 5, 67, 146, 148, 194, 211], [9, 21, 44, 61, 82, 38, 88, 190, 251, 333, 371], [14, 19, 72, 16, 40, 72, 107, 262, 278, 373, 445], [11, 49, 22, 75, 39, 36, 156, 284, 359, 412, 481], [13, 40, 37, 41, 60, 72, 196, 321, 400, 472, 553], [20, 46, 75, 83, 3, 96, 242, 396, 483, 486, 649], [6, 45, 71, 86, 89, 37, 287, 467, 569, 658, 695], [19, 65, 99, 56, 10, 87, 352, 566, 625, 668, 782], [8, 82, 31, 96, 47, 73, 434, 597, 721, 768, 855], [4, 53, 72, 53, 39, 44, 487, 669, 774, 813, 899], [7, 45, 95, 47, 94, 5, 532, 764, 821, 915, 920], [5, 57, 57, 91, 80, 13, 589, 821, 912, 995, 1008], [12, 73, 81, 44, 14, 33, 662, 902, 956, 1009, 1042], [3, 88, 54, 36, 41, 17, 750, 956, 992, 1050, 1067], [15, 46, 44, 58, 21, 26, 796, 1000, 1058, 1079, 1105], [16, 7, 39, 24, 54, 14, 803, 1039, 1082, 1136, 1150], [10, 57, 31, 51, 24, 1, 860, 1070, 1133, 1160, 1161], [1, 69, 81, 12, 13, 3, 929, 1151, 1163, 1176, 1179]]\n",
      "\n",
      "# p C\n",
      "17 [11, 92, 34, 3, 10] [11, 103, 137, 140, 150]\n",
      "1 [15, 26, 3, 1, 56] [26, 129, 140, 141, 206]\n",
      "16 [41, 17, 2, 46, 5] [67, 146, 148, 194, 211]\n",
      "8 [21, 44, 61, 82, 38] [88, 190, 251, 333, 371]\n",
      "13 [19, 72, 16, 40, 72] [107, 262, 278, 373, 445]\n",
      "10 [49, 22, 75, 39, 36] [156, 284, 359, 412, 481]\n",
      "12 [40, 37, 41, 60, 72] [196, 321, 400, 472, 553]\n",
      "19 [46, 75, 83, 3, 96] [242, 396, 483, 486, 649]\n",
      "5 [45, 71, 86, 89, 37] [287, 467, 569, 658, 695]\n",
      "18 [65, 99, 56, 10, 87] [352, 566, 625, 668, 782]\n",
      "7 [82, 31, 96, 47, 73] [434, 597, 721, 768, 855]\n",
      "3 [53, 72, 53, 39, 44] [487, 669, 774, 813, 899]\n",
      "6 [45, 95, 47, 94, 5] [532, 764, 821, 915, 920]\n",
      "4 [57, 57, 91, 80, 13] [589, 821, 912, 995, 1008]\n",
      "11 [73, 81, 44, 14, 33] [662, 902, 956, 1009, 1042]\n",
      "2 [88, 54, 36, 41, 17] [750, 956, 992, 1050, 1067]\n",
      "14 [46, 44, 58, 21, 26] [796, 1000, 1058, 1079, 1105]\n",
      "15 [7, 39, 24, 54, 14] [803, 1039, 1082, 1136, 1150]\n",
      "9 [57, 31, 51, 24, 1] [860, 1070, 1133, 1160, 1161]\n",
      "0 [69, 81, 12, 13, 3] [929, 1151, 1163, 1176, 1179]\n",
      "Cmax: 1179\n"
     ]
    }
   ],
   "source": [
    "m,n,jobs,Cmax=leInst(9)\n",
    "\n",
    "jobs, Cmax = schedLS(jobs, Cmax, 5)\n",
    "\n",
    "gravaSched(9, jobs, Cmax)"
   ]
  },
  {
   "cell_type": "markdown",
   "metadata": {},
   "source": [
    "Fecha o workbook de Dados"
   ]
  },
  {
   "cell_type": "code",
   "execution_count": 99,
   "metadata": {},
   "outputs": [],
   "source": [
    "wb1.close()"
   ]
  },
  {
   "cell_type": "markdown",
   "metadata": {},
   "source": [
    "### Comparação com os resultados iniciais obtidos pelo NEH:"
   ]
  },
  {
   "attachments": {
    "NEHxLS%20-%20Dupla%2009.jpeg": {
     "image/jpeg": "[encoded data removed]"
    }
   },
   "cell_type": "markdown",
   "metadata": {},
   "source": [
    "![NEHxLS%20-%20Dupla%2009.jpeg](attachment:NEHxLS%20-%20Dupla%2009.jpeg)"
   ]
  }
 ],
 "metadata": {
  "kernelspec": {
   "display_name": "Python 3",
   "language": "python",
   "name": "python3"
  },
  "language_info": {
   "codemirror_mode": {
    "name": "ipython",
    "version": 3
   },
   "file_extension": ".py",
   "mimetype": "text/x-python",
   "name": "python",
   "nbconvert_exporter": "python",
   "pygments_lexer": "ipython3",
   "version": "3.7.7"
  }
 },
 "nbformat": 4,
 "nbformat_minor": 2
}
